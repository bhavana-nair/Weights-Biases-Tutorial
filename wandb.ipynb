{
  "cells": [
    {
      "cell_type": "markdown",
      "source": [
        "# **Weights & Biases Tutorial**\n",
        "\n",
        "\n",
        "*   By BHAVANA RAJAN NAIR\n",
        "\n",
        "I highly recomend you to follow each section in order as explatations to each feature is added to the respective section where it is introduced. The dinal section is a cascaded form of all the other section where each feature is build on top the previous section.\n",
        "\n",
        "\n"
      ],
      "metadata": {
        "id": "Uusqo9Ypruqq"
      }
    },
    {
      "cell_type": "markdown",
      "source": [
        "The aim of this tutorial is a simple Weights & Biases introduction using the classic handwritten digit classifier. The tutorial is 3 sections\n",
        "\n",
        "\n",
        "*   A simple project integrated with wandb\n",
        "*   Usage of wandb sweep for hyperparameter tuning\n",
        "*  Enhancement with wandb allerts\n",
        "\n"
      ],
      "metadata": {
        "id": "3v8fFXIsC2cX"
      }
    },
    {
      "cell_type": "markdown",
      "source": [
        "# **COMMON SECTION**"
      ],
      "metadata": {
        "id": "nYZrvQltDPKe"
      }
    },
    {
      "cell_type": "code",
      "execution_count": 1,
      "metadata": {
        "id": "oZB_EfC5uDCv"
      },
      "outputs": [],
      "source": [
        "%%capture\n",
        "!pip install wandb"
      ]
    },
    {
      "cell_type": "code",
      "execution_count": 2,
      "metadata": {
        "id": "EuIfQ_MpuFnt"
      },
      "outputs": [],
      "source": [
        "import tensorflow as tf\n",
        "from tensorflow import keras\n",
        "import os\n",
        "import numpy as np\n",
        "import pandas as pd\n",
        "import matplotlib.pyplot as plt\n",
        "import wandb\n",
        "import tqdm"
      ]
    },
    {
      "cell_type": "markdown",
      "source": [
        "First we need to create a wandb account to bring up an instance. Once the account is in place, login to the account. Further integration happens in the following steps"
      ],
      "metadata": {
        "id": "ghHUVDLlDVdP"
      }
    },
    {
      "cell_type": "code",
      "execution_count": 3,
      "metadata": {
        "colab": {
          "base_uri": "https://localhost:8080/"
        },
        "id": "YI6E5FkNuMgP",
        "outputId": "40c7b4e7-ecfc-428f-bf2b-e9d9c9daac3f"
      },
      "outputs": [
        {
          "output_type": "stream",
          "name": "stderr",
          "text": [
            "\u001b[34m\u001b[1mwandb\u001b[0m: Currently logged in as: \u001b[33mbhavananair\u001b[0m (\u001b[33mbhavanarajannair\u001b[0m). Use \u001b[1m`wandb login --relogin`\u001b[0m to force relogin\n"
          ]
        },
        {
          "output_type": "execute_result",
          "data": {
            "text/plain": [
              "True"
            ]
          },
          "metadata": {},
          "execution_count": 3
        }
      ],
      "source": [
        "wandb.login()"
      ]
    },
    {
      "cell_type": "markdown",
      "source": [
        "# **Now to some basic ML steps**\n",
        "\n",
        "*   Data processing\n",
        "*   Model creation\n",
        "*   Training step\n",
        "\n"
      ],
      "metadata": {
        "id": "jgv-UhQXDvwo"
      }
    },
    {
      "cell_type": "code",
      "execution_count": 4,
      "metadata": {
        "id": "hPVg1uLGxu9y"
      },
      "outputs": [],
      "source": [
        "# Prepare the training dataset\n",
        "BATCH_SIZE = 64\n",
        "(x_train, y_train), (x_test, y_test) = keras.datasets.mnist.load_data()\n",
        "x_train = np.reshape(x_train, (-1, 784))\n",
        "x_test = np.reshape(x_test, (-1, 784))\n",
        "\n",
        "# build input pipeline using tf.data\n",
        "train_dataset = tf.data.Dataset.from_tensor_slices((x_train, y_train))\n",
        "train_dataset = train_dataset.shuffle(buffer_size=1024).batch(BATCH_SIZE)\n",
        "\n",
        "val_dataset = tf.data.Dataset.from_tensor_slices((x_test, y_test))\n",
        "val_dataset = val_dataset.batch(BATCH_SIZE)"
      ]
    },
    {
      "cell_type": "code",
      "execution_count": 5,
      "metadata": {
        "id": "705Nue_TyBhW"
      },
      "outputs": [],
      "source": [
        "def make_model():\n",
        "    inputs = keras.Input(shape=(784,), name=\"digits\")\n",
        "    x1 = keras.layers.Dense(64, activation=\"relu\")(inputs)\n",
        "    x2 = keras.layers.Dense(64, activation=\"relu\")(x1)\n",
        "    outputs = keras.layers.Dense(10, name=\"predictions\")(x2)\n",
        "\n",
        "    return keras.Model(inputs=inputs, outputs=outputs)"
      ]
    },
    {
      "cell_type": "markdown",
      "metadata": {
        "id": "iJuELIb4yfFL"
      },
      "source": [
        "Loss calculation in each iteration of train and test."
      ]
    },
    {
      "cell_type": "code",
      "execution_count": 6,
      "metadata": {
        "id": "uRfx285ZyBkr"
      },
      "outputs": [],
      "source": [
        "def train_step(x, y, model, optimizer, loss_fn, train_acc_metric):\n",
        "    with tf.GradientTape() as tape:\n",
        "        logits = model(x, training=True)\n",
        "        loss_value = loss_fn(y, logits)\n",
        "\n",
        "    grads = tape.gradient(loss_value, model.trainable_weights)\n",
        "    optimizer.apply_gradients(zip(grads, model.trainable_weights))\n",
        "\n",
        "    train_acc_metric.update_state(y, logits)\n",
        "\n",
        "    return loss_value"
      ]
    },
    {
      "cell_type": "code",
      "execution_count": 7,
      "metadata": {
        "id": "zfhwqCi8yBns"
      },
      "outputs": [],
      "source": [
        "def test_step(x, y, model, loss_fn, val_acc_metric):\n",
        "    val_logits = model(x, training=False)\n",
        "    loss_value = loss_fn(y, val_logits)\n",
        "    val_acc_metric.update_state(y, val_logits)\n",
        "\n",
        "    return loss_value"
      ]
    },
    {
      "cell_type": "markdown",
      "source": [
        "# **SECTION 1**"
      ],
      "metadata": {
        "id": "ez03RCvJpY3T"
      }
    },
    {
      "cell_type": "markdown",
      "source": [
        "This is a simple training step with an additional log entry to wandb.\n",
        "\n",
        "These lines ensure that the loss and accuracy values are logged to wandb dynamically.\n",
        "\n",
        "```\n",
        "   wandb.log({'epochs': epoch,\n",
        "                   'loss': np.mean(train_loss),\n",
        "                   'acc': float(train_acc),\n",
        "                   'val_loss': np.mean(val_loss),\n",
        "                   'val_acc':float(val_acc)})\n",
        "```\n",
        "\n"
      ],
      "metadata": {
        "id": "uZ-vFnI1EGv6"
      }
    },
    {
      "cell_type": "code",
      "execution_count": 8,
      "metadata": {
        "id": "X-p7AdVSyH4c"
      },
      "outputs": [],
      "source": [
        "def train(train_dataset, val_dataset,  model, optimizer,\n",
        "          train_acc_metric, val_acc_metric,\n",
        "          epochs=10,  log_step=200, val_log_step=50):\n",
        "\n",
        "    for epoch in range(epochs):\n",
        "        print(\"\\nStart of epoch %d\" % (epoch,))\n",
        "\n",
        "        train_loss = []\n",
        "        val_loss = []\n",
        "\n",
        "        # Iterate over the batches of the dataset\n",
        "        for step, (x_batch_train, y_batch_train) in enumerate(train_dataset):\n",
        "            loss_value = train_step(x_batch_train, y_batch_train,\n",
        "                                    model, optimizer,\n",
        "                                    loss_fn, train_acc_metric)\n",
        "            train_loss.append(float(loss_value))\n",
        "\n",
        "        # Run a validation loop at the end of each epoch\n",
        "        for step, (x_batch_val, y_batch_val) in enumerate(val_dataset):\n",
        "            val_loss_value = test_step(x_batch_val, y_batch_val,\n",
        "                                       model, loss_fn,\n",
        "                                       val_acc_metric)\n",
        "            val_loss.append(float(val_loss_value))\n",
        "\n",
        "        # Display metrics at the end of each epoch\n",
        "        train_acc = train_acc_metric.result()\n",
        "        print(\"Training acc over epoch: %.4f\" % (float(train_acc),))\n",
        "\n",
        "        val_acc = val_acc_metric.result()\n",
        "        print(\"Validation acc: %.4f\" % (float(val_acc),))\n",
        "\n",
        "        # Reset metrics at the end of each epoch\n",
        "        train_acc_metric.reset_states()\n",
        "        val_acc_metric.reset_states()\n",
        "\n",
        "        # log metrics using wandb.log\n",
        "        wandb.log({'epochs': epoch,\n",
        "                   'loss': np.mean(train_loss),\n",
        "                   'acc': float(train_acc),\n",
        "                   'val_loss': np.mean(val_loss),\n",
        "                   'val_acc':float(val_acc)})"
      ]
    },
    {
      "cell_type": "markdown",
      "source": [
        "To log the details into wandb, we need to bring up a session by initializing a project followed by training the model. The following steps happen\n",
        "\n",
        "*   Configure the wandb project by specifying the hyperparameters.\n",
        "*   initialize the project\n",
        "*   Create model\n",
        "*   initialize the optimizer, loss and metrics\n",
        "*   Train the model\n",
        "\n",
        "\n"
      ],
      "metadata": {
        "id": "KsNKlZKbEkF2"
      }
    },
    {
      "cell_type": "code",
      "execution_count": 9,
      "metadata": {
        "colab": {
          "base_uri": "https://localhost:8080/",
          "height": 727,
          "referenced_widgets": [
            "57daca5382d54ae9928f5ce04a1f90b9",
            "2741c4cd53b04e178d99016ba9f41776",
            "0866d5292f7b4e25a169bfa614869f50",
            "fa1a5216e0154bcfa73cdbcf3147e844",
            "4ecf90a2b48f495fbd14c3abef4719b7",
            "54e96296de35491c9e00d9ce677c10a4",
            "c21991f83c914a5ea384aba2c3ad9d9c",
            "67628d85daa04d2981ebc52902b99542"
          ]
        },
        "id": "HrTIrDzoyH7D",
        "outputId": "447b0883-1224-4341-91e3-8d31402b098e",
        "collapsed": true
      },
      "outputs": [
        {
          "output_type": "display_data",
          "data": {
            "text/plain": [
              "<IPython.core.display.HTML object>"
            ],
            "text/html": [
              "Tracking run with wandb version 0.17.3"
            ]
          },
          "metadata": {}
        },
        {
          "output_type": "display_data",
          "data": {
            "text/plain": [
              "<IPython.core.display.HTML object>"
            ],
            "text/html": [
              "Run data is saved locally in <code>/content/wandb/run-20240626_003939-gccwmpii</code>"
            ]
          },
          "metadata": {}
        },
        {
          "output_type": "display_data",
          "data": {
            "text/plain": [
              "<IPython.core.display.HTML object>"
            ],
            "text/html": [
              "Syncing run <strong><a href='https://wandb.ai/bhavanarajannair/my-wand/runs/gccwmpii' target=\"_blank\">grateful-silence-40</a></strong> to <a href='https://wandb.ai/bhavanarajannair/my-wand' target=\"_blank\">Weights & Biases</a> (<a href='https://wandb.me/run' target=\"_blank\">docs</a>)<br/>"
            ]
          },
          "metadata": {}
        },
        {
          "output_type": "display_data",
          "data": {
            "text/plain": [
              "<IPython.core.display.HTML object>"
            ],
            "text/html": [
              " View project at <a href='https://wandb.ai/bhavanarajannair/my-wand' target=\"_blank\">https://wandb.ai/bhavanarajannair/my-wand</a>"
            ]
          },
          "metadata": {}
        },
        {
          "output_type": "display_data",
          "data": {
            "text/plain": [
              "<IPython.core.display.HTML object>"
            ],
            "text/html": [
              " View run at <a href='https://wandb.ai/bhavanarajannair/my-wand/runs/gccwmpii' target=\"_blank\">https://wandb.ai/bhavanarajannair/my-wand/runs/gccwmpii</a>"
            ]
          },
          "metadata": {}
        },
        {
          "output_type": "stream",
          "name": "stdout",
          "text": [
            "\n",
            "Start of epoch 0\n",
            "Training acc over epoch: 0.7534\n",
            "Validation acc: 0.8413\n",
            "\n",
            "Start of epoch 1\n",
            "Training acc over epoch: 0.8565\n",
            "Validation acc: 0.8786\n",
            "\n",
            "Start of epoch 2\n",
            "Training acc over epoch: 0.8844\n",
            "Validation acc: 0.8925\n",
            "\n",
            "Start of epoch 3\n",
            "Training acc over epoch: 0.8986\n",
            "Validation acc: 0.8998\n",
            "\n",
            "Start of epoch 4\n",
            "Training acc over epoch: 0.9086\n",
            "Validation acc: 0.9058\n"
          ]
        },
        {
          "output_type": "display_data",
          "data": {
            "text/plain": [
              "VBox(children=(Label(value='0.001 MB of 0.011 MB uploaded\\r'), FloatProgress(value=0.09127841645777508, max=1.…"
            ],
            "application/vnd.jupyter.widget-view+json": {
              "version_major": 2,
              "version_minor": 0,
              "model_id": "57daca5382d54ae9928f5ce04a1f90b9"
            }
          },
          "metadata": {}
        },
        {
          "output_type": "display_data",
          "data": {
            "text/plain": [
              "<IPython.core.display.HTML object>"
            ],
            "text/html": [
              "<style>\n",
              "    table.wandb td:nth-child(1) { padding: 0 10px; text-align: left ; width: auto;} td:nth-child(2) {text-align: left ; width: 100%}\n",
              "    .wandb-row { display: flex; flex-direction: row; flex-wrap: wrap; justify-content: flex-start; width: 100% }\n",
              "    .wandb-col { display: flex; flex-direction: column; flex-basis: 100%; flex: 1; padding: 10px; }\n",
              "    </style>\n",
              "<div class=\"wandb-row\"><div class=\"wandb-col\"><h3>Run history:</h3><br/><table class=\"wandb\"><tr><td>acc</td><td>▁▆▇██</td></tr><tr><td>epochs</td><td>▁▃▅▆█</td></tr><tr><td>loss</td><td>█▂▂▁▁</td></tr><tr><td>val_acc</td><td>▁▅▇▇█</td></tr><tr><td>val_loss</td><td>█▄▃▁▁</td></tr></table><br/></div><div class=\"wandb-col\"><h3>Run summary:</h3><br/><table class=\"wandb\"><tr><td>acc</td><td>0.90865</td></tr><tr><td>epochs</td><td>4</td></tr><tr><td>loss</td><td>0.32278</td></tr><tr><td>val_acc</td><td>0.9058</td></tr><tr><td>val_loss</td><td>0.35524</td></tr></table><br/></div></div>"
            ]
          },
          "metadata": {}
        },
        {
          "output_type": "display_data",
          "data": {
            "text/plain": [
              "<IPython.core.display.HTML object>"
            ],
            "text/html": [
              " View run <strong style=\"color:#cdcd00\">grateful-silence-40</strong> at: <a href='https://wandb.ai/bhavanarajannair/my-wand/runs/gccwmpii' target=\"_blank\">https://wandb.ai/bhavanarajannair/my-wand/runs/gccwmpii</a><br/> View project at: <a href='https://wandb.ai/bhavanarajannair/my-wand' target=\"_blank\">https://wandb.ai/bhavanarajannair/my-wand</a><br/>Synced 5 W&B file(s), 0 media file(s), 0 artifact file(s) and 0 other file(s)"
            ]
          },
          "metadata": {}
        },
        {
          "output_type": "display_data",
          "data": {
            "text/plain": [
              "<IPython.core.display.HTML object>"
            ],
            "text/html": [
              "Find logs at: <code>./wandb/run-20240626_003939-gccwmpii/logs</code>"
            ]
          },
          "metadata": {}
        },
        {
          "output_type": "display_data",
          "data": {
            "text/plain": [
              "<IPython.core.display.HTML object>"
            ],
            "text/html": [
              "The new W&B backend becomes opt-out in version 0.18.0; try it out with `wandb.require(\"core\")`! See https://wandb.me/wandb-core for more information."
            ]
          },
          "metadata": {}
        }
      ],
      "source": [
        "# initialize wandb with your project name and optionally with configutations.\n",
        "# play around with the config values and see the result on your wandb dashboard.\n",
        "config = {\n",
        "              \"learning_rate\": 0.001,\n",
        "              \"epochs\": 5,\n",
        "              \"batch_size\": 64,\n",
        "              \"log_step\": 200,\n",
        "              \"val_log_step\": 50,\n",
        "              \"architecture\": \"CNN\",\n",
        "              \"dataset\": \"CIFAR-10\"\n",
        "           }\n",
        "\n",
        "run = wandb.init(project='my-wand', config=config)\n",
        "config = wandb.config\n",
        "\n",
        "# Initialize model.\n",
        "model = make_model()\n",
        "\n",
        "# Instantiate an optimizer to train the model.\n",
        "optimizer = keras.optimizers.SGD(learning_rate=config.learning_rate)\n",
        "# Instantiate a loss function.\n",
        "loss_fn = keras.losses.SparseCategoricalCrossentropy(from_logits=True)\n",
        "\n",
        "# Prepare the metrics.\n",
        "train_acc_metric = keras.metrics.SparseCategoricalAccuracy()\n",
        "val_acc_metric = keras.metrics.SparseCategoricalAccuracy()\n",
        "\n",
        "train(train_dataset,\n",
        "      val_dataset,\n",
        "      model,\n",
        "      optimizer,\n",
        "      train_acc_metric,\n",
        "      val_acc_metric,\n",
        "      epochs=config.epochs,\n",
        "      log_step=config.log_step,\n",
        "      val_log_step=config.val_log_step)\n",
        "\n",
        "run.finish()  # In Jupyter/Colab, let us know you're finished!"
      ]
    },
    {
      "cell_type": "markdown",
      "metadata": {
        "id": "AdH_LONg1aio"
      },
      "source": [
        "It is possible to see different visualizations in the W&B console. These plots are automatically populated for each run.\n",
        "![Screenshot 2024-06-21 at 10.39.31 PM.png](data:image/png;base64,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)"
      ]
    },
    {
      "cell_type": "markdown",
      "source": [
        "# **SECTION 2**"
      ],
      "metadata": {
        "id": "WV2T_psfJNem"
      }
    },
    {
      "cell_type": "markdown",
      "metadata": {
        "id": "PXZuS_DNzrZL"
      },
      "source": [
        "# **Using SWEEP**"
      ]
    },
    {
      "cell_type": "markdown",
      "source": [
        "Sweeps automates hyperparameter search and visualize rich, interactive experiment tracking. It accepts a list of different hyperparameters and figures out the best combination of those that results in the best output."
      ],
      "metadata": {
        "id": "VbDeh_PsGFGJ"
      }
    },
    {
      "cell_type": "code",
      "execution_count": 10,
      "metadata": {
        "id": "HUHdQq9JEMs3"
      },
      "outputs": [],
      "source": [
        "def train(train_dataset,\n",
        "          val_dataset,\n",
        "          model,\n",
        "          optimizer,\n",
        "          loss_fn,\n",
        "          train_acc_metric,\n",
        "          val_acc_metric,\n",
        "          epochs=10,\n",
        "          log_step=200,\n",
        "          val_log_step=50):\n",
        "\n",
        "    for epoch in range(epochs):\n",
        "        print(\"\\nStart of epoch %d\" % (epoch,))\n",
        "\n",
        "        train_loss = []\n",
        "        val_loss = []\n",
        "\n",
        "        # Iterate over the batches of the dataset\n",
        "        for step, (x_batch_train, y_batch_train) in tqdm.tqdm(enumerate(train_dataset), total=len(train_dataset)):\n",
        "            loss_value = train_step(x_batch_train, y_batch_train,\n",
        "                                    model, optimizer,\n",
        "                                    loss_fn, train_acc_metric)\n",
        "            train_loss.append(float(loss_value))\n",
        "\n",
        "        # Run a validation loop at the end of each epoch\n",
        "        for step, (x_batch_val, y_batch_val) in enumerate(val_dataset):\n",
        "            val_loss_value = test_step(x_batch_val, y_batch_val,\n",
        "                                       model, loss_fn,\n",
        "                                       val_acc_metric)\n",
        "            val_loss.append(float(val_loss_value))\n",
        "\n",
        "        # Display metrics at the end of each epoch\n",
        "        train_acc = train_acc_metric.result()\n",
        "        print(\"Training acc over epoch: %.4f\" % (float(train_acc),))\n",
        "\n",
        "        val_acc = val_acc_metric.result()\n",
        "        print(\"Validation acc: %.4f\" % (float(val_acc),))\n",
        "\n",
        "        # Reset metrics at the end of each epoch\n",
        "        train_acc_metric.reset_states()\n",
        "        val_acc_metric.reset_states()\n",
        "\n",
        "        # log metrics using wandb.log\n",
        "        wandb.log({'epochs': epoch,\n",
        "                   'loss': np.mean(train_loss),\n",
        "                   'acc': float(train_acc),\n",
        "                   'val_loss': np.mean(val_loss),\n",
        "                   'val_acc':float(val_acc)})"
      ]
    },
    {
      "cell_type": "code",
      "execution_count": 11,
      "metadata": {
        "id": "rGlCeIesyH9r"
      },
      "outputs": [],
      "source": [
        "sweep_config = {\n",
        "  'method': 'random',\n",
        "  'metric': {\n",
        "      'name': 'val_loss',\n",
        "      'goal': 'minimize'\n",
        "  },\n",
        "  'early_terminate':{\n",
        "      'type': 'hyperband',\n",
        "      'min_iter': 5\n",
        "  },\n",
        "  'parameters': {\n",
        "      'batch_size': {\n",
        "          'values': [32, 64, 128, 256]\n",
        "      },\n",
        "      'learning_rate':{\n",
        "          'values': [0.01, 0.005, 0.001, 0.0005, 0.0001]\n",
        "      }\n",
        "  }\n",
        "}"
      ]
    },
    {
      "cell_type": "code",
      "execution_count": 12,
      "metadata": {
        "id": "-A17UOh62OSU"
      },
      "outputs": [],
      "source": [
        "def sweep_train(config_defaults=None):\n",
        "    # Set default values\n",
        "    config_defaults = {\n",
        "        \"batch_size\": 64,\n",
        "        \"learning_rate\": 0.01\n",
        "    }\n",
        "    # Initialize wandb with a sample project name\n",
        "    wandb.init(config=config_defaults)  # this gets over-written in the Sweep\n",
        "\n",
        "    # Specify the other hyperparameters to the configuration, if any\n",
        "    wandb.config.epochs = 5\n",
        "    wandb.config.log_step = 20\n",
        "    wandb.config.val_log_step = 50\n",
        "    wandb.config.architecture_name = \"MLP\"\n",
        "    wandb.config.dataset_name = \"MNIST\"\n",
        "\n",
        "    # build input pipeline using tf.data\n",
        "    train_dataset = tf.data.Dataset.from_tensor_slices((x_train, y_train))\n",
        "    train_dataset = (train_dataset.shuffle(buffer_size=1024)\n",
        "                                  .batch(wandb.config.batch_size)\n",
        "                                  .prefetch(buffer_size=tf.data.AUTOTUNE))\n",
        "\n",
        "    val_dataset = tf.data.Dataset.from_tensor_slices((x_test, y_test))\n",
        "    val_dataset = (val_dataset.batch(wandb.config.batch_size)\n",
        "                              .prefetch(buffer_size=tf.data.AUTOTUNE))\n",
        "\n",
        "    # initialize model\n",
        "    model = make_model()\n",
        "\n",
        "    # Instantiate an optimizer to train the model.\n",
        "    optimizer = keras.optimizers.SGD(learning_rate=wandb.config.learning_rate)\n",
        "    # Instantiate a loss function.\n",
        "    loss_fn = keras.losses.SparseCategoricalCrossentropy(from_logits=True)\n",
        "\n",
        "    # Prepare the metrics.\n",
        "    train_acc_metric = keras.metrics.SparseCategoricalAccuracy()\n",
        "    val_acc_metric = keras.metrics.SparseCategoricalAccuracy()\n",
        "\n",
        "    train(train_dataset,\n",
        "          val_dataset,\n",
        "          model,\n",
        "          optimizer,\n",
        "          loss_fn,\n",
        "          train_acc_metric,\n",
        "          val_acc_metric,\n",
        "          epochs=wandb.config.epochs,\n",
        "          log_step=wandb.config.log_step,\n",
        "          val_log_step=wandb.config.val_log_step)"
      ]
    },
    {
      "cell_type": "code",
      "execution_count": 13,
      "metadata": {
        "colab": {
          "base_uri": "https://localhost:8080/"
        },
        "id": "1ATltdC72ybh",
        "outputId": "4b7133e1-df3f-4c46-f1c0-8f65bc15d6c2"
      },
      "outputs": [
        {
          "output_type": "stream",
          "name": "stdout",
          "text": [
            "Create sweep with ID: 1mm71clj\n",
            "Sweep URL: https://wandb.ai/bhavanarajannair/my-wand/sweeps/1mm71clj\n"
          ]
        }
      ],
      "source": [
        "sweep_id = wandb.sweep(sweep_config, project=\"my-wand\")"
      ]
    },
    {
      "cell_type": "code",
      "execution_count": 14,
      "metadata": {
        "colab": {
          "base_uri": "https://localhost:8080/",
          "height": 1000,
          "referenced_widgets": [
            "d8f10b921e1f4bf799615f062a3cc24a",
            "981ffbbdbd414435b23dccfb6ecc05bc",
            "95cb4a11a68e4615a3a2b3984c5bbded",
            "55eb340c183b4f80845fba27ebfef22d",
            "de34705eeb0a4b88a760968f19d81228",
            "52d004c60864446084c7d6a49a20fb57",
            "3d459506beb24d34b89c5e84dc0fe52f",
            "6b6be51092f64f2d9bab784b8764afb4",
            "f05767dc92664a92aef483c3b7c34aee",
            "f72d3c7e952c4160b260ac670e82c172",
            "4c182a04f4bb4a95a4d51071139a1f06",
            "1b9db34d9c0e49779d98771cd01b5585",
            "2558aa66b7b84e4da159a8cd5e55e4e2",
            "b17f4bcb8265496b96b12e92fce89138",
            "38d5226317e8450da0b99286f3d57766",
            "0d84ff1d21654c6b9e10a1aa25a93c29",
            "ea107dffe4c648b99494adc1e7af6126",
            "23c43077bc2f4def9ec6a46f44ceb0ec",
            "06e7221907314530a94d21812bd0481c",
            "2f86f57bc11441979015b47694615edc",
            "9c00a00670684567ada793e1f205c398",
            "1268a5417ddb400fbe76c6241ca7113c",
            "09611830d87644ee9a4823d0ade62031",
            "0feb229921a242c4a69b5ea766c11e73",
            "0f0b97667ddd42669c2fbffe43c2e244",
            "bd7583fb345b4accbbc0dba5a15d5b05",
            "5596686b049348d4b3944100aeba543e",
            "cc318dd919a14619a9ba73d739e278c0",
            "16b372eb56c64eb3b53b7147227fe899",
            "0ebb866d306c474c9c7dae95699babd2",
            "5cc8e08b457e422dbaaa55b82e3382ef",
            "48700175a8994e4cb2c4afe69f1e4c1b",
            "a92ecd470f134f6f8ee853d72bda610e",
            "a335951f2bd44047a4993fed9126a2ca",
            "72dc846a3c164c72aa6b3993a3d3e3b5",
            "1248d87fba994788a8e2fb835eb409bd",
            "b9604d08ef6340789f825836a7610e1a",
            "73ed1b0c3aa34e069e9ee6af680f008c",
            "6fbe8f2d984a4c8e821bd6c8292dcd77",
            "4874b1d8b1d7405bbfff12ab94d39661"
          ]
        },
        "id": "F008JpKQ22Ta",
        "collapsed": true,
        "outputId": "af8e0712-42a9-4276-f4ab-7599dfc57154"
      },
      "outputs": [
        {
          "output_type": "stream",
          "name": "stderr",
          "text": [
            "\u001b[34m\u001b[1mwandb\u001b[0m: Agent Starting Run: zxlv4zhc with config:\n",
            "\u001b[34m\u001b[1mwandb\u001b[0m: \tbatch_size: 128\n",
            "\u001b[34m\u001b[1mwandb\u001b[0m: \tlearning_rate: 0.0005\n"
          ]
        },
        {
          "output_type": "display_data",
          "data": {
            "text/plain": [
              "<IPython.core.display.HTML object>"
            ],
            "text/html": [
              "Tracking run with wandb version 0.17.3"
            ]
          },
          "metadata": {}
        },
        {
          "output_type": "display_data",
          "data": {
            "text/plain": [
              "<IPython.core.display.HTML object>"
            ],
            "text/html": [
              "Run data is saved locally in <code>/content/wandb/run-20240626_004133-zxlv4zhc</code>"
            ]
          },
          "metadata": {}
        },
        {
          "output_type": "display_data",
          "data": {
            "text/plain": [
              "<IPython.core.display.HTML object>"
            ],
            "text/html": [
              "Syncing run <strong><a href='https://wandb.ai/bhavanarajannair/my-wand/runs/zxlv4zhc' target=\"_blank\">worthy-sweep-1</a></strong> to <a href='https://wandb.ai/bhavanarajannair/my-wand' target=\"_blank\">Weights & Biases</a> (<a href='https://wandb.me/run' target=\"_blank\">docs</a>)<br/>Sweep page: <a href='https://wandb.ai/bhavanarajannair/my-wand/sweeps/1mm71clj' target=\"_blank\">https://wandb.ai/bhavanarajannair/my-wand/sweeps/1mm71clj</a>"
            ]
          },
          "metadata": {}
        },
        {
          "output_type": "display_data",
          "data": {
            "text/plain": [
              "<IPython.core.display.HTML object>"
            ],
            "text/html": [
              " View project at <a href='https://wandb.ai/bhavanarajannair/my-wand' target=\"_blank\">https://wandb.ai/bhavanarajannair/my-wand</a>"
            ]
          },
          "metadata": {}
        },
        {
          "output_type": "display_data",
          "data": {
            "text/plain": [
              "<IPython.core.display.HTML object>"
            ],
            "text/html": [
              " View sweep at <a href='https://wandb.ai/bhavanarajannair/my-wand/sweeps/1mm71clj' target=\"_blank\">https://wandb.ai/bhavanarajannair/my-wand/sweeps/1mm71clj</a>"
            ]
          },
          "metadata": {}
        },
        {
          "output_type": "display_data",
          "data": {
            "text/plain": [
              "<IPython.core.display.HTML object>"
            ],
            "text/html": [
              " View run at <a href='https://wandb.ai/bhavanarajannair/my-wand/runs/zxlv4zhc' target=\"_blank\">https://wandb.ai/bhavanarajannair/my-wand/runs/zxlv4zhc</a>"
            ]
          },
          "metadata": {}
        },
        {
          "output_type": "stream",
          "name": "stdout",
          "text": [
            "\n",
            "Start of epoch 0\n"
          ]
        },
        {
          "output_type": "stream",
          "name": "stderr",
          "text": [
            "100%|██████████| 469/469 [00:10<00:00, 45.74it/s]\n"
          ]
        },
        {
          "output_type": "stream",
          "name": "stdout",
          "text": [
            "Training acc over epoch: 0.7137\n",
            "Validation acc: 0.7619\n",
            "\n",
            "Start of epoch 1\n"
          ]
        },
        {
          "output_type": "stream",
          "name": "stderr",
          "text": [
            "100%|██████████| 469/469 [00:10<00:00, 45.37it/s]\n"
          ]
        },
        {
          "output_type": "stream",
          "name": "stdout",
          "text": [
            "Training acc over epoch: 0.7904\n",
            "Validation acc: 0.8185\n",
            "\n",
            "Start of epoch 2\n"
          ]
        },
        {
          "output_type": "stream",
          "name": "stderr",
          "text": [
            "100%|██████████| 469/469 [00:10<00:00, 46.13it/s]\n"
          ]
        },
        {
          "output_type": "stream",
          "name": "stdout",
          "text": [
            "Training acc over epoch: 0.8318\n",
            "Validation acc: 0.8424\n",
            "\n",
            "Start of epoch 3\n"
          ]
        },
        {
          "output_type": "stream",
          "name": "stderr",
          "text": [
            "100%|██████████| 469/469 [00:09<00:00, 50.63it/s]\n"
          ]
        },
        {
          "output_type": "stream",
          "name": "stdout",
          "text": [
            "Training acc over epoch: 0.8551\n",
            "Validation acc: 0.8586\n",
            "\n",
            "Start of epoch 4\n"
          ]
        },
        {
          "output_type": "stream",
          "name": "stderr",
          "text": [
            "100%|██████████| 469/469 [00:09<00:00, 49.22it/s]\n"
          ]
        },
        {
          "output_type": "stream",
          "name": "stdout",
          "text": [
            "Training acc over epoch: 0.8698\n",
            "Validation acc: 0.8687\n"
          ]
        },
        {
          "output_type": "display_data",
          "data": {
            "text/plain": [
              "VBox(children=(Label(value='0.001 MB of 0.001 MB uploaded\\r'), FloatProgress(value=1.0, max=1.0)))"
            ],
            "application/vnd.jupyter.widget-view+json": {
              "version_major": 2,
              "version_minor": 0,
              "model_id": "d8f10b921e1f4bf799615f062a3cc24a"
            }
          },
          "metadata": {}
        },
        {
          "output_type": "display_data",
          "data": {
            "text/plain": [
              "<IPython.core.display.HTML object>"
            ],
            "text/html": [
              "<style>\n",
              "    table.wandb td:nth-child(1) { padding: 0 10px; text-align: left ; width: auto;} td:nth-child(2) {text-align: left ; width: 100%}\n",
              "    .wandb-row { display: flex; flex-direction: row; flex-wrap: wrap; justify-content: flex-start; width: 100% }\n",
              "    .wandb-col { display: flex; flex-direction: column; flex-basis: 100%; flex: 1; padding: 10px; }\n",
              "    </style>\n",
              "<div class=\"wandb-row\"><div class=\"wandb-col\"><h3>Run history:</h3><br/><table class=\"wandb\"><tr><td>acc</td><td>▁▄▆▇█</td></tr><tr><td>epochs</td><td>▁▃▅▆█</td></tr><tr><td>loss</td><td>█▂▁▁▁</td></tr><tr><td>val_acc</td><td>▁▅▆▇█</td></tr><tr><td>val_loss</td><td>█▄▂▂▁</td></tr></table><br/></div><div class=\"wandb-col\"><h3>Run summary:</h3><br/><table class=\"wandb\"><tr><td>acc</td><td>0.86985</td></tr><tr><td>epochs</td><td>4</td></tr><tr><td>loss</td><td>0.49992</td></tr><tr><td>val_acc</td><td>0.8687</td></tr><tr><td>val_loss</td><td>0.49718</td></tr></table><br/></div></div>"
            ]
          },
          "metadata": {}
        },
        {
          "output_type": "display_data",
          "data": {
            "text/plain": [
              "<IPython.core.display.HTML object>"
            ],
            "text/html": [
              " View run <strong style=\"color:#cdcd00\">worthy-sweep-1</strong> at: <a href='https://wandb.ai/bhavanarajannair/my-wand/runs/zxlv4zhc' target=\"_blank\">https://wandb.ai/bhavanarajannair/my-wand/runs/zxlv4zhc</a><br/> View project at: <a href='https://wandb.ai/bhavanarajannair/my-wand' target=\"_blank\">https://wandb.ai/bhavanarajannair/my-wand</a><br/>Synced 5 W&B file(s), 0 media file(s), 0 artifact file(s) and 0 other file(s)"
            ]
          },
          "metadata": {}
        },
        {
          "output_type": "display_data",
          "data": {
            "text/plain": [
              "<IPython.core.display.HTML object>"
            ],
            "text/html": [
              "Find logs at: <code>./wandb/run-20240626_004133-zxlv4zhc/logs</code>"
            ]
          },
          "metadata": {}
        },
        {
          "output_type": "display_data",
          "data": {
            "text/plain": [
              "<IPython.core.display.HTML object>"
            ],
            "text/html": [
              "The new W&B backend becomes opt-out in version 0.18.0; try it out with `wandb.require(\"core\")`! See https://wandb.me/wandb-core for more information."
            ]
          },
          "metadata": {}
        },
        {
          "output_type": "stream",
          "name": "stderr",
          "text": [
            "\u001b[34m\u001b[1mwandb\u001b[0m: Agent Starting Run: cc395fys with config:\n",
            "\u001b[34m\u001b[1mwandb\u001b[0m: \tbatch_size: 32\n",
            "\u001b[34m\u001b[1mwandb\u001b[0m: \tlearning_rate: 0.001\n"
          ]
        },
        {
          "output_type": "display_data",
          "data": {
            "text/plain": [
              "<IPython.core.display.HTML object>"
            ],
            "text/html": [
              "Tracking run with wandb version 0.17.3"
            ]
          },
          "metadata": {}
        },
        {
          "output_type": "display_data",
          "data": {
            "text/plain": [
              "<IPython.core.display.HTML object>"
            ],
            "text/html": [
              "Run data is saved locally in <code>/content/wandb/run-20240626_004238-cc395fys</code>"
            ]
          },
          "metadata": {}
        },
        {
          "output_type": "display_data",
          "data": {
            "text/plain": [
              "<IPython.core.display.HTML object>"
            ],
            "text/html": [
              "Syncing run <strong><a href='https://wandb.ai/bhavanarajannair/my-wand/runs/cc395fys' target=\"_blank\">comic-sweep-2</a></strong> to <a href='https://wandb.ai/bhavanarajannair/my-wand' target=\"_blank\">Weights & Biases</a> (<a href='https://wandb.me/run' target=\"_blank\">docs</a>)<br/>Sweep page: <a href='https://wandb.ai/bhavanarajannair/my-wand/sweeps/1mm71clj' target=\"_blank\">https://wandb.ai/bhavanarajannair/my-wand/sweeps/1mm71clj</a>"
            ]
          },
          "metadata": {}
        },
        {
          "output_type": "display_data",
          "data": {
            "text/plain": [
              "<IPython.core.display.HTML object>"
            ],
            "text/html": [
              " View project at <a href='https://wandb.ai/bhavanarajannair/my-wand' target=\"_blank\">https://wandb.ai/bhavanarajannair/my-wand</a>"
            ]
          },
          "metadata": {}
        },
        {
          "output_type": "display_data",
          "data": {
            "text/plain": [
              "<IPython.core.display.HTML object>"
            ],
            "text/html": [
              " View sweep at <a href='https://wandb.ai/bhavanarajannair/my-wand/sweeps/1mm71clj' target=\"_blank\">https://wandb.ai/bhavanarajannair/my-wand/sweeps/1mm71clj</a>"
            ]
          },
          "metadata": {}
        },
        {
          "output_type": "display_data",
          "data": {
            "text/plain": [
              "<IPython.core.display.HTML object>"
            ],
            "text/html": [
              " View run at <a href='https://wandb.ai/bhavanarajannair/my-wand/runs/cc395fys' target=\"_blank\">https://wandb.ai/bhavanarajannair/my-wand/runs/cc395fys</a>"
            ]
          },
          "metadata": {}
        },
        {
          "output_type": "stream",
          "name": "stdout",
          "text": [
            "\n",
            "Start of epoch 0\n"
          ]
        },
        {
          "output_type": "stream",
          "name": "stderr",
          "text": [
            "100%|██████████| 1875/1875 [00:40<00:00, 46.69it/s]\n"
          ]
        },
        {
          "output_type": "stream",
          "name": "stdout",
          "text": [
            "Training acc over epoch: 0.7475\n",
            "Validation acc: 0.8403\n",
            "\n",
            "Start of epoch 1\n"
          ]
        },
        {
          "output_type": "stream",
          "name": "stderr",
          "text": [
            "100%|██████████| 1875/1875 [00:39<00:00, 47.90it/s]\n"
          ]
        },
        {
          "output_type": "stream",
          "name": "stdout",
          "text": [
            "Training acc over epoch: 0.8595\n",
            "Validation acc: 0.8832\n",
            "\n",
            "Start of epoch 2\n"
          ]
        },
        {
          "output_type": "stream",
          "name": "stderr",
          "text": [
            "100%|██████████| 1875/1875 [00:37<00:00, 49.83it/s]\n"
          ]
        },
        {
          "output_type": "stream",
          "name": "stdout",
          "text": [
            "Training acc over epoch: 0.8881\n",
            "Validation acc: 0.8979\n",
            "\n",
            "Start of epoch 3\n"
          ]
        },
        {
          "output_type": "stream",
          "name": "stderr",
          "text": [
            "100%|██████████| 1875/1875 [00:38<00:00, 49.23it/s]\n"
          ]
        },
        {
          "output_type": "stream",
          "name": "stdout",
          "text": [
            "Training acc over epoch: 0.9026\n",
            "Validation acc: 0.8861\n",
            "\n",
            "Start of epoch 4\n"
          ]
        },
        {
          "output_type": "stream",
          "name": "stderr",
          "text": [
            "100%|██████████| 1875/1875 [00:42<00:00, 44.57it/s]\n"
          ]
        },
        {
          "output_type": "stream",
          "name": "stdout",
          "text": [
            "Training acc over epoch: 0.9128\n",
            "Validation acc: 0.9105\n"
          ]
        },
        {
          "output_type": "display_data",
          "data": {
            "text/plain": [
              "VBox(children=(Label(value='0.001 MB of 0.001 MB uploaded\\r'), FloatProgress(value=1.0, max=1.0)))"
            ],
            "application/vnd.jupyter.widget-view+json": {
              "version_major": 2,
              "version_minor": 0,
              "model_id": "f05767dc92664a92aef483c3b7c34aee"
            }
          },
          "metadata": {}
        },
        {
          "output_type": "display_data",
          "data": {
            "text/plain": [
              "<IPython.core.display.HTML object>"
            ],
            "text/html": [
              "<style>\n",
              "    table.wandb td:nth-child(1) { padding: 0 10px; text-align: left ; width: auto;} td:nth-child(2) {text-align: left ; width: 100%}\n",
              "    .wandb-row { display: flex; flex-direction: row; flex-wrap: wrap; justify-content: flex-start; width: 100% }\n",
              "    .wandb-col { display: flex; flex-direction: column; flex-basis: 100%; flex: 1; padding: 10px; }\n",
              "    </style>\n",
              "<div class=\"wandb-row\"><div class=\"wandb-col\"><h3>Run history:</h3><br/><table class=\"wandb\"><tr><td>acc</td><td>▁▆▇██</td></tr><tr><td>epochs</td><td>▁▃▅▆█</td></tr><tr><td>loss</td><td>█▂▂▁▁</td></tr><tr><td>val_acc</td><td>▁▅▇▆█</td></tr><tr><td>val_loss</td><td>█▄▂▃▁</td></tr></table><br/></div><div class=\"wandb-col\"><h3>Run summary:</h3><br/><table class=\"wandb\"><tr><td>acc</td><td>0.91275</td></tr><tr><td>epochs</td><td>4</td></tr><tr><td>loss</td><td>0.31123</td></tr><tr><td>val_acc</td><td>0.9105</td></tr><tr><td>val_loss</td><td>0.36276</td></tr></table><br/></div></div>"
            ]
          },
          "metadata": {}
        },
        {
          "output_type": "display_data",
          "data": {
            "text/plain": [
              "<IPython.core.display.HTML object>"
            ],
            "text/html": [
              " View run <strong style=\"color:#cdcd00\">comic-sweep-2</strong> at: <a href='https://wandb.ai/bhavanarajannair/my-wand/runs/cc395fys' target=\"_blank\">https://wandb.ai/bhavanarajannair/my-wand/runs/cc395fys</a><br/> View project at: <a href='https://wandb.ai/bhavanarajannair/my-wand' target=\"_blank\">https://wandb.ai/bhavanarajannair/my-wand</a><br/>Synced 5 W&B file(s), 0 media file(s), 0 artifact file(s) and 0 other file(s)"
            ]
          },
          "metadata": {}
        },
        {
          "output_type": "display_data",
          "data": {
            "text/plain": [
              "<IPython.core.display.HTML object>"
            ],
            "text/html": [
              "Find logs at: <code>./wandb/run-20240626_004238-cc395fys/logs</code>"
            ]
          },
          "metadata": {}
        },
        {
          "output_type": "display_data",
          "data": {
            "text/plain": [
              "<IPython.core.display.HTML object>"
            ],
            "text/html": [
              "The new W&B backend becomes opt-out in version 0.18.0; try it out with `wandb.require(\"core\")`! See https://wandb.me/wandb-core for more information."
            ]
          },
          "metadata": {}
        },
        {
          "output_type": "stream",
          "name": "stderr",
          "text": [
            "\u001b[34m\u001b[1mwandb\u001b[0m: Agent Starting Run: x1xaymul with config:\n",
            "\u001b[34m\u001b[1mwandb\u001b[0m: \tbatch_size: 256\n",
            "\u001b[34m\u001b[1mwandb\u001b[0m: \tlearning_rate: 0.001\n"
          ]
        },
        {
          "output_type": "display_data",
          "data": {
            "text/plain": [
              "<IPython.core.display.HTML object>"
            ],
            "text/html": [
              "Tracking run with wandb version 0.17.3"
            ]
          },
          "metadata": {}
        },
        {
          "output_type": "display_data",
          "data": {
            "text/plain": [
              "<IPython.core.display.HTML object>"
            ],
            "text/html": [
              "Run data is saved locally in <code>/content/wandb/run-20240626_004705-x1xaymul</code>"
            ]
          },
          "metadata": {}
        },
        {
          "output_type": "display_data",
          "data": {
            "text/plain": [
              "<IPython.core.display.HTML object>"
            ],
            "text/html": [
              "Syncing run <strong><a href='https://wandb.ai/bhavanarajannair/my-wand/runs/x1xaymul' target=\"_blank\">atomic-sweep-3</a></strong> to <a href='https://wandb.ai/bhavanarajannair/my-wand' target=\"_blank\">Weights & Biases</a> (<a href='https://wandb.me/run' target=\"_blank\">docs</a>)<br/>Sweep page: <a href='https://wandb.ai/bhavanarajannair/my-wand/sweeps/1mm71clj' target=\"_blank\">https://wandb.ai/bhavanarajannair/my-wand/sweeps/1mm71clj</a>"
            ]
          },
          "metadata": {}
        },
        {
          "output_type": "display_data",
          "data": {
            "text/plain": [
              "<IPython.core.display.HTML object>"
            ],
            "text/html": [
              " View project at <a href='https://wandb.ai/bhavanarajannair/my-wand' target=\"_blank\">https://wandb.ai/bhavanarajannair/my-wand</a>"
            ]
          },
          "metadata": {}
        },
        {
          "output_type": "display_data",
          "data": {
            "text/plain": [
              "<IPython.core.display.HTML object>"
            ],
            "text/html": [
              " View sweep at <a href='https://wandb.ai/bhavanarajannair/my-wand/sweeps/1mm71clj' target=\"_blank\">https://wandb.ai/bhavanarajannair/my-wand/sweeps/1mm71clj</a>"
            ]
          },
          "metadata": {}
        },
        {
          "output_type": "display_data",
          "data": {
            "text/plain": [
              "<IPython.core.display.HTML object>"
            ],
            "text/html": [
              " View run at <a href='https://wandb.ai/bhavanarajannair/my-wand/runs/x1xaymul' target=\"_blank\">https://wandb.ai/bhavanarajannair/my-wand/runs/x1xaymul</a>"
            ]
          },
          "metadata": {}
        },
        {
          "output_type": "stream",
          "name": "stdout",
          "text": [
            "\n",
            "Start of epoch 0\n"
          ]
        },
        {
          "output_type": "stream",
          "name": "stderr",
          "text": [
            "100%|██████████| 235/235 [00:05<00:00, 44.17it/s]\n"
          ]
        },
        {
          "output_type": "stream",
          "name": "stdout",
          "text": [
            "Training acc over epoch: 0.7393\n",
            "Validation acc: 0.8178\n",
            "\n",
            "Start of epoch 1\n"
          ]
        },
        {
          "output_type": "stream",
          "name": "stderr",
          "text": [
            "100%|██████████| 235/235 [00:05<00:00, 43.44it/s]\n"
          ]
        },
        {
          "output_type": "stream",
          "name": "stdout",
          "text": [
            "Training acc over epoch: 0.8285\n",
            "Validation acc: 0.8320\n",
            "\n",
            "Start of epoch 2\n"
          ]
        },
        {
          "output_type": "stream",
          "name": "stderr",
          "text": [
            "100%|██████████| 235/235 [00:04<00:00, 47.63it/s]\n"
          ]
        },
        {
          "output_type": "stream",
          "name": "stdout",
          "text": [
            "Training acc over epoch: 0.8515\n",
            "Validation acc: 0.8597\n",
            "\n",
            "Start of epoch 3\n"
          ]
        },
        {
          "output_type": "stream",
          "name": "stderr",
          "text": [
            "100%|██████████| 235/235 [00:06<00:00, 38.43it/s]\n"
          ]
        },
        {
          "output_type": "stream",
          "name": "stdout",
          "text": [
            "Training acc over epoch: 0.8667\n",
            "Validation acc: 0.8700\n",
            "\n",
            "Start of epoch 4\n"
          ]
        },
        {
          "output_type": "stream",
          "name": "stderr",
          "text": [
            "100%|██████████| 235/235 [00:05<00:00, 42.14it/s]\n"
          ]
        },
        {
          "output_type": "stream",
          "name": "stdout",
          "text": [
            "Training acc over epoch: 0.8769\n",
            "Validation acc: 0.8662\n"
          ]
        },
        {
          "output_type": "display_data",
          "data": {
            "text/plain": [
              "VBox(children=(Label(value='0.001 MB of 0.001 MB uploaded\\r'), FloatProgress(value=1.0, max=1.0)))"
            ],
            "application/vnd.jupyter.widget-view+json": {
              "version_major": 2,
              "version_minor": 0,
              "model_id": "ea107dffe4c648b99494adc1e7af6126"
            }
          },
          "metadata": {}
        },
        {
          "output_type": "display_data",
          "data": {
            "text/plain": [
              "<IPython.core.display.HTML object>"
            ],
            "text/html": [
              "<style>\n",
              "    table.wandb td:nth-child(1) { padding: 0 10px; text-align: left ; width: auto;} td:nth-child(2) {text-align: left ; width: 100%}\n",
              "    .wandb-row { display: flex; flex-direction: row; flex-wrap: wrap; justify-content: flex-start; width: 100% }\n",
              "    .wandb-col { display: flex; flex-direction: column; flex-basis: 100%; flex: 1; padding: 10px; }\n",
              "    </style>\n",
              "<div class=\"wandb-row\"><div class=\"wandb-col\"><h3>Run history:</h3><br/><table class=\"wandb\"><tr><td>acc</td><td>▁▆▇▇█</td></tr><tr><td>epochs</td><td>▁▃▅▆█</td></tr><tr><td>loss</td><td>█▂▁▁▁</td></tr><tr><td>val_acc</td><td>▁▃▇█▇</td></tr><tr><td>val_loss</td><td>█▄▂▁▁</td></tr></table><br/></div><div class=\"wandb-col\"><h3>Run summary:</h3><br/><table class=\"wandb\"><tr><td>acc</td><td>0.87692</td></tr><tr><td>epochs</td><td>4</td></tr><tr><td>loss</td><td>0.47174</td></tr><tr><td>val_acc</td><td>0.8662</td></tr><tr><td>val_loss</td><td>0.51051</td></tr></table><br/></div></div>"
            ]
          },
          "metadata": {}
        },
        {
          "output_type": "display_data",
          "data": {
            "text/plain": [
              "<IPython.core.display.HTML object>"
            ],
            "text/html": [
              " View run <strong style=\"color:#cdcd00\">atomic-sweep-3</strong> at: <a href='https://wandb.ai/bhavanarajannair/my-wand/runs/x1xaymul' target=\"_blank\">https://wandb.ai/bhavanarajannair/my-wand/runs/x1xaymul</a><br/> View project at: <a href='https://wandb.ai/bhavanarajannair/my-wand' target=\"_blank\">https://wandb.ai/bhavanarajannair/my-wand</a><br/>Synced 5 W&B file(s), 0 media file(s), 0 artifact file(s) and 0 other file(s)"
            ]
          },
          "metadata": {}
        },
        {
          "output_type": "display_data",
          "data": {
            "text/plain": [
              "<IPython.core.display.HTML object>"
            ],
            "text/html": [
              "Find logs at: <code>./wandb/run-20240626_004705-x1xaymul/logs</code>"
            ]
          },
          "metadata": {}
        },
        {
          "output_type": "display_data",
          "data": {
            "text/plain": [
              "<IPython.core.display.HTML object>"
            ],
            "text/html": [
              "The new W&B backend becomes opt-out in version 0.18.0; try it out with `wandb.require(\"core\")`! See https://wandb.me/wandb-core for more information."
            ]
          },
          "metadata": {}
        },
        {
          "output_type": "stream",
          "name": "stderr",
          "text": [
            "\u001b[34m\u001b[1mwandb\u001b[0m: Agent Starting Run: 71idh10a with config:\n",
            "\u001b[34m\u001b[1mwandb\u001b[0m: \tbatch_size: 64\n",
            "\u001b[34m\u001b[1mwandb\u001b[0m: \tlearning_rate: 0.0005\n"
          ]
        },
        {
          "output_type": "display_data",
          "data": {
            "text/plain": [
              "<IPython.core.display.HTML object>"
            ],
            "text/html": [
              "Tracking run with wandb version 0.17.3"
            ]
          },
          "metadata": {}
        },
        {
          "output_type": "display_data",
          "data": {
            "text/plain": [
              "<IPython.core.display.HTML object>"
            ],
            "text/html": [
              "Run data is saved locally in <code>/content/wandb/run-20240626_004755-71idh10a</code>"
            ]
          },
          "metadata": {}
        },
        {
          "output_type": "display_data",
          "data": {
            "text/plain": [
              "<IPython.core.display.HTML object>"
            ],
            "text/html": [
              "Syncing run <strong><a href='https://wandb.ai/bhavanarajannair/my-wand/runs/71idh10a' target=\"_blank\">trim-sweep-4</a></strong> to <a href='https://wandb.ai/bhavanarajannair/my-wand' target=\"_blank\">Weights & Biases</a> (<a href='https://wandb.me/run' target=\"_blank\">docs</a>)<br/>Sweep page: <a href='https://wandb.ai/bhavanarajannair/my-wand/sweeps/1mm71clj' target=\"_blank\">https://wandb.ai/bhavanarajannair/my-wand/sweeps/1mm71clj</a>"
            ]
          },
          "metadata": {}
        },
        {
          "output_type": "display_data",
          "data": {
            "text/plain": [
              "<IPython.core.display.HTML object>"
            ],
            "text/html": [
              " View project at <a href='https://wandb.ai/bhavanarajannair/my-wand' target=\"_blank\">https://wandb.ai/bhavanarajannair/my-wand</a>"
            ]
          },
          "metadata": {}
        },
        {
          "output_type": "display_data",
          "data": {
            "text/plain": [
              "<IPython.core.display.HTML object>"
            ],
            "text/html": [
              " View sweep at <a href='https://wandb.ai/bhavanarajannair/my-wand/sweeps/1mm71clj' target=\"_blank\">https://wandb.ai/bhavanarajannair/my-wand/sweeps/1mm71clj</a>"
            ]
          },
          "metadata": {}
        },
        {
          "output_type": "display_data",
          "data": {
            "text/plain": [
              "<IPython.core.display.HTML object>"
            ],
            "text/html": [
              " View run at <a href='https://wandb.ai/bhavanarajannair/my-wand/runs/71idh10a' target=\"_blank\">https://wandb.ai/bhavanarajannair/my-wand/runs/71idh10a</a>"
            ]
          },
          "metadata": {}
        },
        {
          "output_type": "stream",
          "name": "stdout",
          "text": [
            "\n",
            "Start of epoch 0\n"
          ]
        },
        {
          "output_type": "stream",
          "name": "stderr",
          "text": [
            "100%|██████████| 938/938 [00:19<00:00, 47.27it/s]\n"
          ]
        },
        {
          "output_type": "stream",
          "name": "stdout",
          "text": [
            "Training acc over epoch: 0.7730\n",
            "Validation acc: 0.8462\n",
            "\n",
            "Start of epoch 1\n"
          ]
        },
        {
          "output_type": "stream",
          "name": "stderr",
          "text": [
            "100%|██████████| 938/938 [00:19<00:00, 48.83it/s]\n"
          ]
        },
        {
          "output_type": "stream",
          "name": "stdout",
          "text": [
            "Training acc over epoch: 0.8546\n",
            "Validation acc: 0.8580\n",
            "\n",
            "Start of epoch 2\n"
          ]
        },
        {
          "output_type": "stream",
          "name": "stderr",
          "text": [
            "100%|██████████| 938/938 [00:19<00:00, 48.79it/s]\n"
          ]
        },
        {
          "output_type": "stream",
          "name": "stdout",
          "text": [
            "Training acc over epoch: 0.8787\n",
            "Validation acc: 0.8867\n",
            "\n",
            "Start of epoch 3\n"
          ]
        },
        {
          "output_type": "stream",
          "name": "stderr",
          "text": [
            "100%|██████████| 938/938 [00:19<00:00, 47.10it/s]\n"
          ]
        },
        {
          "output_type": "stream",
          "name": "stdout",
          "text": [
            "Training acc over epoch: 0.8925\n",
            "Validation acc: 0.8796\n",
            "\n",
            "Start of epoch 4\n"
          ]
        },
        {
          "output_type": "stream",
          "name": "stderr",
          "text": [
            "100%|██████████| 938/938 [00:18<00:00, 49.39it/s]\n"
          ]
        },
        {
          "output_type": "stream",
          "name": "stdout",
          "text": [
            "Training acc over epoch: 0.9031\n",
            "Validation acc: 0.9020\n"
          ]
        },
        {
          "output_type": "display_data",
          "data": {
            "text/plain": [
              "VBox(children=(Label(value='0.001 MB of 0.001 MB uploaded\\r'), FloatProgress(value=1.0, max=1.0)))"
            ],
            "application/vnd.jupyter.widget-view+json": {
              "version_major": 2,
              "version_minor": 0,
              "model_id": "0f0b97667ddd42669c2fbffe43c2e244"
            }
          },
          "metadata": {}
        },
        {
          "output_type": "display_data",
          "data": {
            "text/plain": [
              "<IPython.core.display.HTML object>"
            ],
            "text/html": [
              "<style>\n",
              "    table.wandb td:nth-child(1) { padding: 0 10px; text-align: left ; width: auto;} td:nth-child(2) {text-align: left ; width: 100%}\n",
              "    .wandb-row { display: flex; flex-direction: row; flex-wrap: wrap; justify-content: flex-start; width: 100% }\n",
              "    .wandb-col { display: flex; flex-direction: column; flex-basis: 100%; flex: 1; padding: 10px; }\n",
              "    </style>\n",
              "<div class=\"wandb-row\"><div class=\"wandb-col\"><h3>Run history:</h3><br/><table class=\"wandb\"><tr><td>acc</td><td>▁▅▇▇█</td></tr><tr><td>epochs</td><td>▁▃▅▆█</td></tr><tr><td>loss</td><td>█▂▁▁▁</td></tr><tr><td>val_acc</td><td>▁▂▆▅█</td></tr><tr><td>val_loss</td><td>█▅▂▂▁</td></tr></table><br/></div><div class=\"wandb-col\"><h3>Run summary:</h3><br/><table class=\"wandb\"><tr><td>acc</td><td>0.90313</td></tr><tr><td>epochs</td><td>4</td></tr><tr><td>loss</td><td>0.35947</td></tr><tr><td>val_acc</td><td>0.902</td></tr><tr><td>val_loss</td><td>0.38804</td></tr></table><br/></div></div>"
            ]
          },
          "metadata": {}
        },
        {
          "output_type": "display_data",
          "data": {
            "text/plain": [
              "<IPython.core.display.HTML object>"
            ],
            "text/html": [
              " View run <strong style=\"color:#cdcd00\">trim-sweep-4</strong> at: <a href='https://wandb.ai/bhavanarajannair/my-wand/runs/71idh10a' target=\"_blank\">https://wandb.ai/bhavanarajannair/my-wand/runs/71idh10a</a><br/> View project at: <a href='https://wandb.ai/bhavanarajannair/my-wand' target=\"_blank\">https://wandb.ai/bhavanarajannair/my-wand</a><br/>Synced 5 W&B file(s), 0 media file(s), 0 artifact file(s) and 0 other file(s)"
            ]
          },
          "metadata": {}
        },
        {
          "output_type": "display_data",
          "data": {
            "text/plain": [
              "<IPython.core.display.HTML object>"
            ],
            "text/html": [
              "Find logs at: <code>./wandb/run-20240626_004755-71idh10a/logs</code>"
            ]
          },
          "metadata": {}
        },
        {
          "output_type": "display_data",
          "data": {
            "text/plain": [
              "<IPython.core.display.HTML object>"
            ],
            "text/html": [
              "The new W&B backend becomes opt-out in version 0.18.0; try it out with `wandb.require(\"core\")`! See https://wandb.me/wandb-core for more information."
            ]
          },
          "metadata": {}
        },
        {
          "output_type": "stream",
          "name": "stderr",
          "text": [
            "\u001b[34m\u001b[1mwandb\u001b[0m: Agent Starting Run: p2cokcj4 with config:\n",
            "\u001b[34m\u001b[1mwandb\u001b[0m: \tbatch_size: 32\n",
            "\u001b[34m\u001b[1mwandb\u001b[0m: \tlearning_rate: 0.005\n"
          ]
        },
        {
          "output_type": "display_data",
          "data": {
            "text/plain": [
              "<IPython.core.display.HTML object>"
            ],
            "text/html": [
              "Tracking run with wandb version 0.17.3"
            ]
          },
          "metadata": {}
        },
        {
          "output_type": "display_data",
          "data": {
            "text/plain": [
              "<IPython.core.display.HTML object>"
            ],
            "text/html": [
              "Run data is saved locally in <code>/content/wandb/run-20240626_004951-p2cokcj4</code>"
            ]
          },
          "metadata": {}
        },
        {
          "output_type": "display_data",
          "data": {
            "text/plain": [
              "<IPython.core.display.HTML object>"
            ],
            "text/html": [
              "Syncing run <strong><a href='https://wandb.ai/bhavanarajannair/my-wand/runs/p2cokcj4' target=\"_blank\">blooming-sweep-5</a></strong> to <a href='https://wandb.ai/bhavanarajannair/my-wand' target=\"_blank\">Weights & Biases</a> (<a href='https://wandb.me/run' target=\"_blank\">docs</a>)<br/>Sweep page: <a href='https://wandb.ai/bhavanarajannair/my-wand/sweeps/1mm71clj' target=\"_blank\">https://wandb.ai/bhavanarajannair/my-wand/sweeps/1mm71clj</a>"
            ]
          },
          "metadata": {}
        },
        {
          "output_type": "display_data",
          "data": {
            "text/plain": [
              "<IPython.core.display.HTML object>"
            ],
            "text/html": [
              " View project at <a href='https://wandb.ai/bhavanarajannair/my-wand' target=\"_blank\">https://wandb.ai/bhavanarajannair/my-wand</a>"
            ]
          },
          "metadata": {}
        },
        {
          "output_type": "display_data",
          "data": {
            "text/plain": [
              "<IPython.core.display.HTML object>"
            ],
            "text/html": [
              " View sweep at <a href='https://wandb.ai/bhavanarajannair/my-wand/sweeps/1mm71clj' target=\"_blank\">https://wandb.ai/bhavanarajannair/my-wand/sweeps/1mm71clj</a>"
            ]
          },
          "metadata": {}
        },
        {
          "output_type": "display_data",
          "data": {
            "text/plain": [
              "<IPython.core.display.HTML object>"
            ],
            "text/html": [
              " View run at <a href='https://wandb.ai/bhavanarajannair/my-wand/runs/p2cokcj4' target=\"_blank\">https://wandb.ai/bhavanarajannair/my-wand/runs/p2cokcj4</a>"
            ]
          },
          "metadata": {}
        },
        {
          "output_type": "stream",
          "name": "stdout",
          "text": [
            "\n",
            "Start of epoch 0\n"
          ]
        },
        {
          "output_type": "stream",
          "name": "stderr",
          "text": [
            "100%|██████████| 1875/1875 [00:39<00:00, 47.03it/s]\n"
          ]
        },
        {
          "output_type": "stream",
          "name": "stdout",
          "text": [
            "Training acc over epoch: 0.1129\n",
            "Validation acc: 0.1149\n",
            "\n",
            "Start of epoch 1\n"
          ]
        },
        {
          "output_type": "stream",
          "name": "stderr",
          "text": [
            "100%|██████████| 1875/1875 [00:38<00:00, 48.58it/s]\n"
          ]
        },
        {
          "output_type": "stream",
          "name": "stdout",
          "text": [
            "Training acc over epoch: 0.1130\n",
            "Validation acc: 0.1137\n",
            "\n",
            "Start of epoch 2\n"
          ]
        },
        {
          "output_type": "stream",
          "name": "stderr",
          "text": [
            "100%|██████████| 1875/1875 [00:38<00:00, 49.29it/s]\n"
          ]
        },
        {
          "output_type": "stream",
          "name": "stdout",
          "text": [
            "Training acc over epoch: 0.1124\n",
            "Validation acc: 0.1138\n",
            "\n",
            "Start of epoch 3\n"
          ]
        },
        {
          "output_type": "stream",
          "name": "stderr",
          "text": [
            "100%|██████████| 1875/1875 [00:39<00:00, 48.03it/s]\n"
          ]
        },
        {
          "output_type": "stream",
          "name": "stdout",
          "text": [
            "Training acc over epoch: 0.1124\n",
            "Validation acc: 0.1138\n",
            "\n",
            "Start of epoch 4\n"
          ]
        },
        {
          "output_type": "stream",
          "name": "stderr",
          "text": [
            "100%|██████████| 1875/1875 [00:38<00:00, 48.80it/s]\n"
          ]
        },
        {
          "output_type": "stream",
          "name": "stdout",
          "text": [
            "Training acc over epoch: 0.1137\n",
            "Validation acc: 0.1305\n"
          ]
        },
        {
          "output_type": "display_data",
          "data": {
            "text/plain": [
              "VBox(children=(Label(value='0.001 MB of 0.001 MB uploaded\\r'), FloatProgress(value=1.0, max=1.0)))"
            ],
            "application/vnd.jupyter.widget-view+json": {
              "version_major": 2,
              "version_minor": 0,
              "model_id": "a92ecd470f134f6f8ee853d72bda610e"
            }
          },
          "metadata": {}
        },
        {
          "output_type": "display_data",
          "data": {
            "text/plain": [
              "<IPython.core.display.HTML object>"
            ],
            "text/html": [
              "<style>\n",
              "    table.wandb td:nth-child(1) { padding: 0 10px; text-align: left ; width: auto;} td:nth-child(2) {text-align: left ; width: 100%}\n",
              "    .wandb-row { display: flex; flex-direction: row; flex-wrap: wrap; justify-content: flex-start; width: 100% }\n",
              "    .wandb-col { display: flex; flex-direction: column; flex-basis: 100%; flex: 1; padding: 10px; }\n",
              "    </style>\n",
              "<div class=\"wandb-row\"><div class=\"wandb-col\"><h3>Run history:</h3><br/><table class=\"wandb\"><tr><td>acc</td><td>▄▄▁▁█</td></tr><tr><td>epochs</td><td>▁▃▅▆█</td></tr><tr><td>loss</td><td>█▁▁▁▁</td></tr><tr><td>val_acc</td><td>▁▁▁▁█</td></tr><tr><td>val_loss</td><td>████▁</td></tr></table><br/></div><div class=\"wandb-col\"><h3>Run summary:</h3><br/><table class=\"wandb\"><tr><td>acc</td><td>0.11368</td></tr><tr><td>epochs</td><td>4</td></tr><tr><td>loss</td><td>2.29953</td></tr><tr><td>val_acc</td><td>0.1305</td></tr><tr><td>val_loss</td><td>2.27123</td></tr></table><br/></div></div>"
            ]
          },
          "metadata": {}
        },
        {
          "output_type": "display_data",
          "data": {
            "text/plain": [
              "<IPython.core.display.HTML object>"
            ],
            "text/html": [
              " View run <strong style=\"color:#cdcd00\">blooming-sweep-5</strong> at: <a href='https://wandb.ai/bhavanarajannair/my-wand/runs/p2cokcj4' target=\"_blank\">https://wandb.ai/bhavanarajannair/my-wand/runs/p2cokcj4</a><br/> View project at: <a href='https://wandb.ai/bhavanarajannair/my-wand' target=\"_blank\">https://wandb.ai/bhavanarajannair/my-wand</a><br/>Synced 5 W&B file(s), 0 media file(s), 0 artifact file(s) and 0 other file(s)"
            ]
          },
          "metadata": {}
        },
        {
          "output_type": "display_data",
          "data": {
            "text/plain": [
              "<IPython.core.display.HTML object>"
            ],
            "text/html": [
              "Find logs at: <code>./wandb/run-20240626_004951-p2cokcj4/logs</code>"
            ]
          },
          "metadata": {}
        },
        {
          "output_type": "display_data",
          "data": {
            "text/plain": [
              "<IPython.core.display.HTML object>"
            ],
            "text/html": [
              "The new W&B backend becomes opt-out in version 0.18.0; try it out with `wandb.require(\"core\")`! See https://wandb.me/wandb-core for more information."
            ]
          },
          "metadata": {}
        }
      ],
      "source": [
        "wandb.agent(sweep_id, function=sweep_train, count=5)"
      ]
    },
    {
      "cell_type": "markdown",
      "source": [
        "# **SECTION 3**"
      ],
      "metadata": {
        "id": "bD5UQNRgG8Cl"
      }
    },
    {
      "cell_type": "markdown",
      "source": [
        "# **With W&B Alerts**"
      ],
      "metadata": {
        "id": "pJIpn5t-JWvm"
      }
    },
    {
      "cell_type": "markdown",
      "source": [
        "While wandb tries to find the best parameter combinations, it iteratively goes through different combinations. Some of them whould be good and some bad. As we see in the below results, even in the last iteration the acculacy is below 50%, which is very less.\n",
        "\n",
        "Wand be provides tools to avaid these wasteful computations by preventing further iterations if the mecric under consideration is below a certain threshold.\n",
        "\n",
        "W&B Alerts allows you to send alerts, to your Slack or email. There are 2 steps to follow:\n",
        "\n",
        "1) Turn on Alerts in your W&B User Settings\n",
        "\n",
        "2) Add wandb.alert() to your code:\n",
        "\n",
        "Both these happen inside the train step as we need to break each training iteration if the metric is below a certain acceptable range.\n",
        "\n",
        "```\n",
        "Start of epoch 9\n",
        "100%|██████████| 235/235 [00:04<00:00, 49.83it/s]\n",
        "Training acc over epoch: 0.4049\n",
        "Validation acc: 0.4129\n",
        "```\n",
        "\n"
      ],
      "metadata": {
        "id": "-TKbwCWSG_HN"
      }
    },
    {
      "cell_type": "code",
      "source": [
        "def train(train_dataset,\n",
        "          val_dataset,\n",
        "          model,\n",
        "          optimizer,\n",
        "          loss_fn,\n",
        "          train_acc_metric,\n",
        "          val_acc_metric,\n",
        "          epochs=2,\n",
        "          log_step=200,\n",
        "          val_log_step=50,\n",
        "          callbacks=None):\n",
        "\n",
        "    for epoch in range(epochs):\n",
        "        print(\"\\nStart of epoch %d\" % (epoch,))\n",
        "\n",
        "        train_loss = []\n",
        "        val_loss = []\n",
        "\n",
        "        # Iterate over the batches of the dataset\n",
        "        for step, (x_batch_train, y_batch_train) in tqdm.tqdm(enumerate(train_dataset), total=len(train_dataset)):\n",
        "            loss_value = train_step(x_batch_train, y_batch_train,\n",
        "                                    model, optimizer,\n",
        "                                    loss_fn, train_acc_metric)\n",
        "            train_loss.append(float(loss_value))\n",
        "\n",
        "        # Run a validation loop at the end of each epoch\n",
        "        for step, (x_batch_val, y_batch_val) in enumerate(val_dataset):\n",
        "            val_loss_value = test_step(x_batch_val, y_batch_val,\n",
        "                                       model, loss_fn,\n",
        "                                       val_acc_metric)\n",
        "            val_loss.append(float(val_loss_value))\n",
        "\n",
        "        # Display metrics at the end of each epoch\n",
        "        train_acc = train_acc_metric.result()\n",
        "        print(\"Training acc over epoch: %.4f\" % (float(train_acc),))\n",
        "\n",
        "        val_acc = val_acc_metric.result()\n",
        "        print(\"Validation acc: %.4f\" % (float(val_acc),))\n",
        "\n",
        "        # Reset metrics at the end of each epoch\n",
        "        train_acc_metric.reset_states()\n",
        "        val_acc_metric.reset_states()\n",
        "\n",
        "        # 3️⃣ log metrics using wandb.log\n",
        "        wandb.log({'epochs': epoch,\n",
        "                   'loss': np.mean(train_loss),\n",
        "                   'acc': float(train_acc),\n",
        "                   'val_loss': np.mean(val_loss),\n",
        "                   'val_acc':float(val_acc)})\n",
        "\n",
        "        wandb.alert(\n",
        "            title=\"Low accuracy\",\n",
        "            text=f\"Accuracy is below the acceptable threshold\"\n",
        "        )\n",
        "        threshold = 0.6\n",
        "        acc = val_acc\n",
        "\n",
        "        if acc <= threshold:\n",
        "        # Send the wandb Alert\n",
        "          wandb.alert(\n",
        "              title='Low Accuracy',\n",
        "              text=f'Accuracy {acc} at step {epoch} is below the acceptable theshold, {threshold}',\n",
        "          )\n",
        "          print('Alert triggered')\n",
        "          break"
      ],
      "metadata": {
        "id": "ONU6WjZ8cLbu"
      },
      "execution_count": 15,
      "outputs": []
    },
    {
      "cell_type": "markdown",
      "source": [
        "**If section 2 is not run/ you restarted the session after section 2, please run the following cells in section 2:**\n",
        "\n",
        "---\n",
        "\n",
        "\n",
        "\n",
        "*   sweep_config\n",
        "*   sweep_train\n",
        "\n"
      ],
      "metadata": {
        "id": "9GNQZ5YqplRH"
      }
    },
    {
      "cell_type": "markdown",
      "source": [
        "use the same configs as in the previous section **\"sweep_config\"**"
      ],
      "metadata": {
        "id": "wj0NMFODDEOD"
      }
    },
    {
      "cell_type": "code",
      "source": [
        "sweep_id = wandb.sweep(sweep_config, project=\"my-wand\")"
      ],
      "metadata": {
        "colab": {
          "base_uri": "https://localhost:8080/"
        },
        "id": "ZtY1ILekiohX",
        "outputId": "c8ca809b-a56f-4d23-a5d3-0c2eb4660a00"
      },
      "execution_count": 16,
      "outputs": [
        {
          "output_type": "stream",
          "name": "stdout",
          "text": [
            "Create sweep with ID: ll4kzihc\n",
            "Sweep URL: https://wandb.ai/bhavanarajannair/my-wand/sweeps/ll4kzihc\n"
          ]
        }
      ]
    },
    {
      "cell_type": "code",
      "source": [
        "wandb.agent(sweep_id, function=sweep_train, count=5)"
      ],
      "metadata": {
        "colab": {
          "base_uri": "https://localhost:8080/",
          "height": 1000,
          "referenced_widgets": [
            "4fee2a4428e34672ae501149d60430da",
            "9aec3bfccdd54a38a2caa936ddb590a9",
            "00e221174f4c4c13820c7d018a980156",
            "436c93ac17464e2aae5d57588d1da118",
            "9a631e4b32e24f9e8c346b72549bd98c",
            "000731e29e2645a1845f1968037ed64a",
            "d1b4676275a84f449dbb6f0819781b35",
            "da04062ef00049d9bd8ff19d3fc4cd28",
            "ad73e18e8a3d4700b61b9c95be3f5072",
            "25471a98c5cd4d528e7be38056687919",
            "a727a093fda04750ac8679054daa0181",
            "d153fd6f07004efeb604f8f48ab05a26",
            "cfa7aa2e97854df09005450cb22b07e8",
            "84639a832df949df996ebdf57c4f88dc",
            "5ee12e602fea4de29992957915716ffc",
            "a2f078e8e9b64b52b052f333ea47e0ee",
            "df640eef89504743a22310f9671e30f1",
            "4cf6ea75308c4caf95402e3cb3292410",
            "16e212dd52e545e0bfdd1a30da8a8f3a",
            "9e09de51f79c499cbed424499aa2c1ac",
            "fcbf99ea9ccf41d0bf62c1f1e69d1a55",
            "2b8bb4feda0142109941d126dc8ff39c",
            "1dd86e7b845f4179a1afbce8b558a065",
            "07effe1fdad64e099f57be5806001c6a",
            "a0976587c2db463ca31a6f4071527bf6",
            "7fb7425026b540418d1c10212a070326",
            "e01f34c9ca6f4f0eb26c1459ab5ef083",
            "3e5f532755b746c68a4666bc1fc3aa84",
            "c003c32ab4eb43fabe5e5374c5e5023a",
            "6d17b71bc80e437aa178ae77d8ceba2c",
            "6af9fa0332804e069c8a1f54f6f844fd",
            "ce4b64398b0e4c51b6b1a38b3cc4fff7",
            "85d3b367abfe4f9b9be90769885510fd",
            "b71fe4fecaa048468c66a1133178d98a",
            "c783d00ffa654059a75d30faa1ac839d",
            "2d25e533d3624fc480bc0732dae4c33b",
            "b4c8ff47a8814d8da9c79e683ebad4b1",
            "2fcd518acda04b26accadf3a601331c3",
            "03b034da526347a9abe4cbb3e6830295",
            "e2041cf985d944f188d0178336c8013d"
          ]
        },
        "collapsed": true,
        "id": "mQT0vXHhjCPa",
        "outputId": "b063f712-de8d-4d4e-dcab-d0f8e885ad86"
      },
      "execution_count": 17,
      "outputs": [
        {
          "output_type": "stream",
          "name": "stderr",
          "text": [
            "\u001b[34m\u001b[1mwandb\u001b[0m: Agent Starting Run: qvugktcc with config:\n",
            "\u001b[34m\u001b[1mwandb\u001b[0m: \tbatch_size: 256\n",
            "\u001b[34m\u001b[1mwandb\u001b[0m: \tlearning_rate: 0.01\n"
          ]
        },
        {
          "output_type": "display_data",
          "data": {
            "text/plain": [
              "<IPython.core.display.HTML object>"
            ],
            "text/html": [
              "Tracking run with wandb version 0.17.3"
            ]
          },
          "metadata": {}
        },
        {
          "output_type": "display_data",
          "data": {
            "text/plain": [
              "<IPython.core.display.HTML object>"
            ],
            "text/html": [
              "Run data is saved locally in <code>/content/wandb/run-20240626_005329-qvugktcc</code>"
            ]
          },
          "metadata": {}
        },
        {
          "output_type": "display_data",
          "data": {
            "text/plain": [
              "<IPython.core.display.HTML object>"
            ],
            "text/html": [
              "Syncing run <strong><a href='https://wandb.ai/bhavanarajannair/my-wand/runs/qvugktcc' target=\"_blank\">dashing-sweep-1</a></strong> to <a href='https://wandb.ai/bhavanarajannair/my-wand' target=\"_blank\">Weights & Biases</a> (<a href='https://wandb.me/run' target=\"_blank\">docs</a>)<br/>Sweep page: <a href='https://wandb.ai/bhavanarajannair/my-wand/sweeps/ll4kzihc' target=\"_blank\">https://wandb.ai/bhavanarajannair/my-wand/sweeps/ll4kzihc</a>"
            ]
          },
          "metadata": {}
        },
        {
          "output_type": "display_data",
          "data": {
            "text/plain": [
              "<IPython.core.display.HTML object>"
            ],
            "text/html": [
              " View project at <a href='https://wandb.ai/bhavanarajannair/my-wand' target=\"_blank\">https://wandb.ai/bhavanarajannair/my-wand</a>"
            ]
          },
          "metadata": {}
        },
        {
          "output_type": "display_data",
          "data": {
            "text/plain": [
              "<IPython.core.display.HTML object>"
            ],
            "text/html": [
              " View sweep at <a href='https://wandb.ai/bhavanarajannair/my-wand/sweeps/ll4kzihc' target=\"_blank\">https://wandb.ai/bhavanarajannair/my-wand/sweeps/ll4kzihc</a>"
            ]
          },
          "metadata": {}
        },
        {
          "output_type": "display_data",
          "data": {
            "text/plain": [
              "<IPython.core.display.HTML object>"
            ],
            "text/html": [
              " View run at <a href='https://wandb.ai/bhavanarajannair/my-wand/runs/qvugktcc' target=\"_blank\">https://wandb.ai/bhavanarajannair/my-wand/runs/qvugktcc</a>"
            ]
          },
          "metadata": {}
        },
        {
          "output_type": "stream",
          "name": "stdout",
          "text": [
            "\n",
            "Start of epoch 0\n"
          ]
        },
        {
          "output_type": "stream",
          "name": "stderr",
          "text": [
            "100%|██████████| 235/235 [00:05<00:00, 46.52it/s]\n"
          ]
        },
        {
          "output_type": "stream",
          "name": "stdout",
          "text": [
            "Training acc over epoch: 0.1118\n",
            "Validation acc: 0.1135\n",
            "Alert triggered\n"
          ]
        },
        {
          "output_type": "display_data",
          "data": {
            "text/plain": [
              "VBox(children=(Label(value='0.011 MB of 0.011 MB uploaded\\r'), FloatProgress(value=1.0, max=1.0)))"
            ],
            "application/vnd.jupyter.widget-view+json": {
              "version_major": 2,
              "version_minor": 0,
              "model_id": "4fee2a4428e34672ae501149d60430da"
            }
          },
          "metadata": {}
        },
        {
          "output_type": "display_data",
          "data": {
            "text/plain": [
              "<IPython.core.display.HTML object>"
            ],
            "text/html": [
              "<style>\n",
              "    table.wandb td:nth-child(1) { padding: 0 10px; text-align: left ; width: auto;} td:nth-child(2) {text-align: left ; width: 100%}\n",
              "    .wandb-row { display: flex; flex-direction: row; flex-wrap: wrap; justify-content: flex-start; width: 100% }\n",
              "    .wandb-col { display: flex; flex-direction: column; flex-basis: 100%; flex: 1; padding: 10px; }\n",
              "    </style>\n",
              "<div class=\"wandb-row\"><div class=\"wandb-col\"><h3>Run history:</h3><br/><table class=\"wandb\"><tr><td>acc</td><td>▁</td></tr><tr><td>epochs</td><td>▁</td></tr><tr><td>loss</td><td>▁</td></tr><tr><td>val_acc</td><td>▁</td></tr><tr><td>val_loss</td><td>▁</td></tr></table><br/></div><div class=\"wandb-col\"><h3>Run summary:</h3><br/><table class=\"wandb\"><tr><td>acc</td><td>0.1118</td></tr><tr><td>epochs</td><td>0</td></tr><tr><td>loss</td><td>757.49037</td></tr><tr><td>val_acc</td><td>0.1135</td></tr><tr><td>val_loss</td><td>2.30196</td></tr></table><br/></div></div>"
            ]
          },
          "metadata": {}
        },
        {
          "output_type": "display_data",
          "data": {
            "text/plain": [
              "<IPython.core.display.HTML object>"
            ],
            "text/html": [
              " View run <strong style=\"color:#cdcd00\">dashing-sweep-1</strong> at: <a href='https://wandb.ai/bhavanarajannair/my-wand/runs/qvugktcc' target=\"_blank\">https://wandb.ai/bhavanarajannair/my-wand/runs/qvugktcc</a><br/> View project at: <a href='https://wandb.ai/bhavanarajannair/my-wand' target=\"_blank\">https://wandb.ai/bhavanarajannair/my-wand</a><br/>Synced 5 W&B file(s), 0 media file(s), 0 artifact file(s) and 0 other file(s)"
            ]
          },
          "metadata": {}
        },
        {
          "output_type": "display_data",
          "data": {
            "text/plain": [
              "<IPython.core.display.HTML object>"
            ],
            "text/html": [
              "Find logs at: <code>./wandb/run-20240626_005329-qvugktcc/logs</code>"
            ]
          },
          "metadata": {}
        },
        {
          "output_type": "display_data",
          "data": {
            "text/plain": [
              "<IPython.core.display.HTML object>"
            ],
            "text/html": [
              "The new W&B backend becomes opt-out in version 0.18.0; try it out with `wandb.require(\"core\")`! See https://wandb.me/wandb-core for more information."
            ]
          },
          "metadata": {}
        },
        {
          "output_type": "stream",
          "name": "stderr",
          "text": [
            "\u001b[34m\u001b[1mwandb\u001b[0m: Agent Starting Run: 1h52kre2 with config:\n",
            "\u001b[34m\u001b[1mwandb\u001b[0m: \tbatch_size: 64\n",
            "\u001b[34m\u001b[1mwandb\u001b[0m: \tlearning_rate: 0.005\n"
          ]
        },
        {
          "output_type": "display_data",
          "data": {
            "text/plain": [
              "<IPython.core.display.HTML object>"
            ],
            "text/html": [
              "Tracking run with wandb version 0.17.3"
            ]
          },
          "metadata": {}
        },
        {
          "output_type": "display_data",
          "data": {
            "text/plain": [
              "<IPython.core.display.HTML object>"
            ],
            "text/html": [
              "Run data is saved locally in <code>/content/wandb/run-20240626_005343-1h52kre2</code>"
            ]
          },
          "metadata": {}
        },
        {
          "output_type": "display_data",
          "data": {
            "text/plain": [
              "<IPython.core.display.HTML object>"
            ],
            "text/html": [
              "Syncing run <strong><a href='https://wandb.ai/bhavanarajannair/my-wand/runs/1h52kre2' target=\"_blank\">lively-sweep-2</a></strong> to <a href='https://wandb.ai/bhavanarajannair/my-wand' target=\"_blank\">Weights & Biases</a> (<a href='https://wandb.me/run' target=\"_blank\">docs</a>)<br/>Sweep page: <a href='https://wandb.ai/bhavanarajannair/my-wand/sweeps/ll4kzihc' target=\"_blank\">https://wandb.ai/bhavanarajannair/my-wand/sweeps/ll4kzihc</a>"
            ]
          },
          "metadata": {}
        },
        {
          "output_type": "display_data",
          "data": {
            "text/plain": [
              "<IPython.core.display.HTML object>"
            ],
            "text/html": [
              " View project at <a href='https://wandb.ai/bhavanarajannair/my-wand' target=\"_blank\">https://wandb.ai/bhavanarajannair/my-wand</a>"
            ]
          },
          "metadata": {}
        },
        {
          "output_type": "display_data",
          "data": {
            "text/plain": [
              "<IPython.core.display.HTML object>"
            ],
            "text/html": [
              " View sweep at <a href='https://wandb.ai/bhavanarajannair/my-wand/sweeps/ll4kzihc' target=\"_blank\">https://wandb.ai/bhavanarajannair/my-wand/sweeps/ll4kzihc</a>"
            ]
          },
          "metadata": {}
        },
        {
          "output_type": "display_data",
          "data": {
            "text/plain": [
              "<IPython.core.display.HTML object>"
            ],
            "text/html": [
              " View run at <a href='https://wandb.ai/bhavanarajannair/my-wand/runs/1h52kre2' target=\"_blank\">https://wandb.ai/bhavanarajannair/my-wand/runs/1h52kre2</a>"
            ]
          },
          "metadata": {}
        },
        {
          "output_type": "stream",
          "name": "stdout",
          "text": [
            "\n",
            "Start of epoch 0\n"
          ]
        },
        {
          "output_type": "stream",
          "name": "stderr",
          "text": [
            "100%|██████████| 938/938 [00:18<00:00, 49.75it/s]\n"
          ]
        },
        {
          "output_type": "stream",
          "name": "stdout",
          "text": [
            "Training acc over epoch: 0.1116\n",
            "Validation acc: 0.1135\n",
            "Alert triggered\n"
          ]
        },
        {
          "output_type": "display_data",
          "data": {
            "text/plain": [
              "VBox(children=(Label(value='0.011 MB of 0.011 MB uploaded\\r'), FloatProgress(value=1.0, max=1.0)))"
            ],
            "application/vnd.jupyter.widget-view+json": {
              "version_major": 2,
              "version_minor": 0,
              "model_id": "ad73e18e8a3d4700b61b9c95be3f5072"
            }
          },
          "metadata": {}
        },
        {
          "output_type": "display_data",
          "data": {
            "text/plain": [
              "<IPython.core.display.HTML object>"
            ],
            "text/html": [
              "<style>\n",
              "    table.wandb td:nth-child(1) { padding: 0 10px; text-align: left ; width: auto;} td:nth-child(2) {text-align: left ; width: 100%}\n",
              "    .wandb-row { display: flex; flex-direction: row; flex-wrap: wrap; justify-content: flex-start; width: 100% }\n",
              "    .wandb-col { display: flex; flex-direction: column; flex-basis: 100%; flex: 1; padding: 10px; }\n",
              "    </style>\n",
              "<div class=\"wandb-row\"><div class=\"wandb-col\"><h3>Run history:</h3><br/><table class=\"wandb\"><tr><td>acc</td><td>▁</td></tr><tr><td>epochs</td><td>▁</td></tr><tr><td>loss</td><td>▁</td></tr><tr><td>val_acc</td><td>▁</td></tr><tr><td>val_loss</td><td>▁</td></tr></table><br/></div><div class=\"wandb-col\"><h3>Run summary:</h3><br/><table class=\"wandb\"><tr><td>acc</td><td>0.1116</td></tr><tr><td>epochs</td><td>0</td></tr><tr><td>loss</td><td>6.03549</td></tr><tr><td>val_acc</td><td>0.1135</td></tr><tr><td>val_loss</td><td>2.30252</td></tr></table><br/></div></div>"
            ]
          },
          "metadata": {}
        },
        {
          "output_type": "display_data",
          "data": {
            "text/plain": [
              "<IPython.core.display.HTML object>"
            ],
            "text/html": [
              " View run <strong style=\"color:#cdcd00\">lively-sweep-2</strong> at: <a href='https://wandb.ai/bhavanarajannair/my-wand/runs/1h52kre2' target=\"_blank\">https://wandb.ai/bhavanarajannair/my-wand/runs/1h52kre2</a><br/> View project at: <a href='https://wandb.ai/bhavanarajannair/my-wand' target=\"_blank\">https://wandb.ai/bhavanarajannair/my-wand</a><br/>Synced 5 W&B file(s), 0 media file(s), 0 artifact file(s) and 0 other file(s)"
            ]
          },
          "metadata": {}
        },
        {
          "output_type": "display_data",
          "data": {
            "text/plain": [
              "<IPython.core.display.HTML object>"
            ],
            "text/html": [
              "Find logs at: <code>./wandb/run-20240626_005343-1h52kre2/logs</code>"
            ]
          },
          "metadata": {}
        },
        {
          "output_type": "display_data",
          "data": {
            "text/plain": [
              "<IPython.core.display.HTML object>"
            ],
            "text/html": [
              "The new W&B backend becomes opt-out in version 0.18.0; try it out with `wandb.require(\"core\")`! See https://wandb.me/wandb-core for more information."
            ]
          },
          "metadata": {}
        },
        {
          "output_type": "stream",
          "name": "stderr",
          "text": [
            "\u001b[34m\u001b[1mwandb\u001b[0m: Agent Starting Run: 7muiqn7y with config:\n",
            "\u001b[34m\u001b[1mwandb\u001b[0m: \tbatch_size: 64\n",
            "\u001b[34m\u001b[1mwandb\u001b[0m: \tlearning_rate: 0.005\n"
          ]
        },
        {
          "output_type": "display_data",
          "data": {
            "text/plain": [
              "<IPython.core.display.HTML object>"
            ],
            "text/html": [
              "Tracking run with wandb version 0.17.3"
            ]
          },
          "metadata": {}
        },
        {
          "output_type": "display_data",
          "data": {
            "text/plain": [
              "<IPython.core.display.HTML object>"
            ],
            "text/html": [
              "Run data is saved locally in <code>/content/wandb/run-20240626_005419-7muiqn7y</code>"
            ]
          },
          "metadata": {}
        },
        {
          "output_type": "display_data",
          "data": {
            "text/plain": [
              "<IPython.core.display.HTML object>"
            ],
            "text/html": [
              "Syncing run <strong><a href='https://wandb.ai/bhavanarajannair/my-wand/runs/7muiqn7y' target=\"_blank\">cosmic-sweep-3</a></strong> to <a href='https://wandb.ai/bhavanarajannair/my-wand' target=\"_blank\">Weights & Biases</a> (<a href='https://wandb.me/run' target=\"_blank\">docs</a>)<br/>Sweep page: <a href='https://wandb.ai/bhavanarajannair/my-wand/sweeps/ll4kzihc' target=\"_blank\">https://wandb.ai/bhavanarajannair/my-wand/sweeps/ll4kzihc</a>"
            ]
          },
          "metadata": {}
        },
        {
          "output_type": "display_data",
          "data": {
            "text/plain": [
              "<IPython.core.display.HTML object>"
            ],
            "text/html": [
              " View project at <a href='https://wandb.ai/bhavanarajannair/my-wand' target=\"_blank\">https://wandb.ai/bhavanarajannair/my-wand</a>"
            ]
          },
          "metadata": {}
        },
        {
          "output_type": "display_data",
          "data": {
            "text/plain": [
              "<IPython.core.display.HTML object>"
            ],
            "text/html": [
              " View sweep at <a href='https://wandb.ai/bhavanarajannair/my-wand/sweeps/ll4kzihc' target=\"_blank\">https://wandb.ai/bhavanarajannair/my-wand/sweeps/ll4kzihc</a>"
            ]
          },
          "metadata": {}
        },
        {
          "output_type": "display_data",
          "data": {
            "text/plain": [
              "<IPython.core.display.HTML object>"
            ],
            "text/html": [
              " View run at <a href='https://wandb.ai/bhavanarajannair/my-wand/runs/7muiqn7y' target=\"_blank\">https://wandb.ai/bhavanarajannair/my-wand/runs/7muiqn7y</a>"
            ]
          },
          "metadata": {}
        },
        {
          "output_type": "stream",
          "name": "stdout",
          "text": [
            "\n",
            "Start of epoch 0\n"
          ]
        },
        {
          "output_type": "stream",
          "name": "stderr",
          "text": [
            "100%|██████████| 938/938 [00:18<00:00, 50.18it/s]\n"
          ]
        },
        {
          "output_type": "stream",
          "name": "stdout",
          "text": [
            "Training acc over epoch: 0.2706\n",
            "Validation acc: 0.3558\n",
            "Alert triggered\n"
          ]
        },
        {
          "output_type": "display_data",
          "data": {
            "text/plain": [
              "VBox(children=(Label(value='0.001 MB of 0.001 MB uploaded\\r'), FloatProgress(value=1.0, max=1.0)))"
            ],
            "application/vnd.jupyter.widget-view+json": {
              "version_major": 2,
              "version_minor": 0,
              "model_id": "df640eef89504743a22310f9671e30f1"
            }
          },
          "metadata": {}
        },
        {
          "output_type": "display_data",
          "data": {
            "text/plain": [
              "<IPython.core.display.HTML object>"
            ],
            "text/html": [
              "<style>\n",
              "    table.wandb td:nth-child(1) { padding: 0 10px; text-align: left ; width: auto;} td:nth-child(2) {text-align: left ; width: 100%}\n",
              "    .wandb-row { display: flex; flex-direction: row; flex-wrap: wrap; justify-content: flex-start; width: 100% }\n",
              "    .wandb-col { display: flex; flex-direction: column; flex-basis: 100%; flex: 1; padding: 10px; }\n",
              "    </style>\n",
              "<div class=\"wandb-row\"><div class=\"wandb-col\"><h3>Run history:</h3><br/><table class=\"wandb\"><tr><td>acc</td><td>▁</td></tr><tr><td>epochs</td><td>▁</td></tr><tr><td>loss</td><td>▁</td></tr><tr><td>val_acc</td><td>▁</td></tr><tr><td>val_loss</td><td>▁</td></tr></table><br/></div><div class=\"wandb-col\"><h3>Run summary:</h3><br/><table class=\"wandb\"><tr><td>acc</td><td>0.27058</td></tr><tr><td>epochs</td><td>0</td></tr><tr><td>loss</td><td>3.18358</td></tr><tr><td>val_acc</td><td>0.3558</td></tr><tr><td>val_loss</td><td>1.70531</td></tr></table><br/></div></div>"
            ]
          },
          "metadata": {}
        },
        {
          "output_type": "display_data",
          "data": {
            "text/plain": [
              "<IPython.core.display.HTML object>"
            ],
            "text/html": [
              " View run <strong style=\"color:#cdcd00\">cosmic-sweep-3</strong> at: <a href='https://wandb.ai/bhavanarajannair/my-wand/runs/7muiqn7y' target=\"_blank\">https://wandb.ai/bhavanarajannair/my-wand/runs/7muiqn7y</a><br/> View project at: <a href='https://wandb.ai/bhavanarajannair/my-wand' target=\"_blank\">https://wandb.ai/bhavanarajannair/my-wand</a><br/>Synced 5 W&B file(s), 0 media file(s), 0 artifact file(s) and 0 other file(s)"
            ]
          },
          "metadata": {}
        },
        {
          "output_type": "display_data",
          "data": {
            "text/plain": [
              "<IPython.core.display.HTML object>"
            ],
            "text/html": [
              "Find logs at: <code>./wandb/run-20240626_005419-7muiqn7y/logs</code>"
            ]
          },
          "metadata": {}
        },
        {
          "output_type": "display_data",
          "data": {
            "text/plain": [
              "<IPython.core.display.HTML object>"
            ],
            "text/html": [
              "The new W&B backend becomes opt-out in version 0.18.0; try it out with `wandb.require(\"core\")`! See https://wandb.me/wandb-core for more information."
            ]
          },
          "metadata": {}
        },
        {
          "output_type": "stream",
          "name": "stderr",
          "text": [
            "\u001b[34m\u001b[1mwandb\u001b[0m: Agent Starting Run: mc458zpn with config:\n",
            "\u001b[34m\u001b[1mwandb\u001b[0m: \tbatch_size: 64\n",
            "\u001b[34m\u001b[1mwandb\u001b[0m: \tlearning_rate: 0.005\n"
          ]
        },
        {
          "output_type": "display_data",
          "data": {
            "text/plain": [
              "<IPython.core.display.HTML object>"
            ],
            "text/html": [
              "Tracking run with wandb version 0.17.3"
            ]
          },
          "metadata": {}
        },
        {
          "output_type": "display_data",
          "data": {
            "text/plain": [
              "<IPython.core.display.HTML object>"
            ],
            "text/html": [
              "Run data is saved locally in <code>/content/wandb/run-20240626_005453-mc458zpn</code>"
            ]
          },
          "metadata": {}
        },
        {
          "output_type": "display_data",
          "data": {
            "text/plain": [
              "<IPython.core.display.HTML object>"
            ],
            "text/html": [
              "Syncing run <strong><a href='https://wandb.ai/bhavanarajannair/my-wand/runs/mc458zpn' target=\"_blank\">colorful-sweep-4</a></strong> to <a href='https://wandb.ai/bhavanarajannair/my-wand' target=\"_blank\">Weights & Biases</a> (<a href='https://wandb.me/run' target=\"_blank\">docs</a>)<br/>Sweep page: <a href='https://wandb.ai/bhavanarajannair/my-wand/sweeps/ll4kzihc' target=\"_blank\">https://wandb.ai/bhavanarajannair/my-wand/sweeps/ll4kzihc</a>"
            ]
          },
          "metadata": {}
        },
        {
          "output_type": "display_data",
          "data": {
            "text/plain": [
              "<IPython.core.display.HTML object>"
            ],
            "text/html": [
              " View project at <a href='https://wandb.ai/bhavanarajannair/my-wand' target=\"_blank\">https://wandb.ai/bhavanarajannair/my-wand</a>"
            ]
          },
          "metadata": {}
        },
        {
          "output_type": "display_data",
          "data": {
            "text/plain": [
              "<IPython.core.display.HTML object>"
            ],
            "text/html": [
              " View sweep at <a href='https://wandb.ai/bhavanarajannair/my-wand/sweeps/ll4kzihc' target=\"_blank\">https://wandb.ai/bhavanarajannair/my-wand/sweeps/ll4kzihc</a>"
            ]
          },
          "metadata": {}
        },
        {
          "output_type": "display_data",
          "data": {
            "text/plain": [
              "<IPython.core.display.HTML object>"
            ],
            "text/html": [
              " View run at <a href='https://wandb.ai/bhavanarajannair/my-wand/runs/mc458zpn' target=\"_blank\">https://wandb.ai/bhavanarajannair/my-wand/runs/mc458zpn</a>"
            ]
          },
          "metadata": {}
        },
        {
          "output_type": "stream",
          "name": "stdout",
          "text": [
            "\n",
            "Start of epoch 0\n"
          ]
        },
        {
          "output_type": "stream",
          "name": "stderr",
          "text": [
            "100%|██████████| 938/938 [00:19<00:00, 47.38it/s]\n"
          ]
        },
        {
          "output_type": "stream",
          "name": "stdout",
          "text": [
            "Training acc over epoch: 0.2341\n",
            "Validation acc: 0.3001\n",
            "Alert triggered\n"
          ]
        },
        {
          "output_type": "display_data",
          "data": {
            "text/plain": [
              "VBox(children=(Label(value='0.001 MB of 0.010 MB uploaded\\r'), FloatProgress(value=0.096, max=1.0)))"
            ],
            "application/vnd.jupyter.widget-view+json": {
              "version_major": 2,
              "version_minor": 0,
              "model_id": "a0976587c2db463ca31a6f4071527bf6"
            }
          },
          "metadata": {}
        },
        {
          "output_type": "display_data",
          "data": {
            "text/plain": [
              "<IPython.core.display.HTML object>"
            ],
            "text/html": [
              "<style>\n",
              "    table.wandb td:nth-child(1) { padding: 0 10px; text-align: left ; width: auto;} td:nth-child(2) {text-align: left ; width: 100%}\n",
              "    .wandb-row { display: flex; flex-direction: row; flex-wrap: wrap; justify-content: flex-start; width: 100% }\n",
              "    .wandb-col { display: flex; flex-direction: column; flex-basis: 100%; flex: 1; padding: 10px; }\n",
              "    </style>\n",
              "<div class=\"wandb-row\"><div class=\"wandb-col\"><h3>Run history:</h3><br/><table class=\"wandb\"><tr><td>acc</td><td>▁</td></tr><tr><td>epochs</td><td>▁</td></tr><tr><td>loss</td><td>▁</td></tr><tr><td>val_acc</td><td>▁</td></tr><tr><td>val_loss</td><td>▁</td></tr></table><br/></div><div class=\"wandb-col\"><h3>Run summary:</h3><br/><table class=\"wandb\"><tr><td>acc</td><td>0.23405</td></tr><tr><td>epochs</td><td>0</td></tr><tr><td>loss</td><td>4.16367</td></tr><tr><td>val_acc</td><td>0.3001</td></tr><tr><td>val_loss</td><td>1.8526</td></tr></table><br/></div></div>"
            ]
          },
          "metadata": {}
        },
        {
          "output_type": "display_data",
          "data": {
            "text/plain": [
              "<IPython.core.display.HTML object>"
            ],
            "text/html": [
              " View run <strong style=\"color:#cdcd00\">colorful-sweep-4</strong> at: <a href='https://wandb.ai/bhavanarajannair/my-wand/runs/mc458zpn' target=\"_blank\">https://wandb.ai/bhavanarajannair/my-wand/runs/mc458zpn</a><br/> View project at: <a href='https://wandb.ai/bhavanarajannair/my-wand' target=\"_blank\">https://wandb.ai/bhavanarajannair/my-wand</a><br/>Synced 5 W&B file(s), 0 media file(s), 0 artifact file(s) and 0 other file(s)"
            ]
          },
          "metadata": {}
        },
        {
          "output_type": "display_data",
          "data": {
            "text/plain": [
              "<IPython.core.display.HTML object>"
            ],
            "text/html": [
              "Find logs at: <code>./wandb/run-20240626_005453-mc458zpn/logs</code>"
            ]
          },
          "metadata": {}
        },
        {
          "output_type": "display_data",
          "data": {
            "text/plain": [
              "<IPython.core.display.HTML object>"
            ],
            "text/html": [
              "The new W&B backend becomes opt-out in version 0.18.0; try it out with `wandb.require(\"core\")`! See https://wandb.me/wandb-core for more information."
            ]
          },
          "metadata": {}
        },
        {
          "output_type": "stream",
          "name": "stderr",
          "text": [
            "\u001b[34m\u001b[1mwandb\u001b[0m: Agent Starting Run: 4uoyk2en with config:\n",
            "\u001b[34m\u001b[1mwandb\u001b[0m: \tbatch_size: 256\n",
            "\u001b[34m\u001b[1mwandb\u001b[0m: \tlearning_rate: 0.0001\n"
          ]
        },
        {
          "output_type": "display_data",
          "data": {
            "text/plain": [
              "<IPython.core.display.HTML object>"
            ],
            "text/html": [
              "Tracking run with wandb version 0.17.3"
            ]
          },
          "metadata": {}
        },
        {
          "output_type": "display_data",
          "data": {
            "text/plain": [
              "<IPython.core.display.HTML object>"
            ],
            "text/html": [
              "Run data is saved locally in <code>/content/wandb/run-20240626_005525-4uoyk2en</code>"
            ]
          },
          "metadata": {}
        },
        {
          "output_type": "display_data",
          "data": {
            "text/plain": [
              "<IPython.core.display.HTML object>"
            ],
            "text/html": [
              "Syncing run <strong><a href='https://wandb.ai/bhavanarajannair/my-wand/runs/4uoyk2en' target=\"_blank\">smart-sweep-5</a></strong> to <a href='https://wandb.ai/bhavanarajannair/my-wand' target=\"_blank\">Weights & Biases</a> (<a href='https://wandb.me/run' target=\"_blank\">docs</a>)<br/>Sweep page: <a href='https://wandb.ai/bhavanarajannair/my-wand/sweeps/ll4kzihc' target=\"_blank\">https://wandb.ai/bhavanarajannair/my-wand/sweeps/ll4kzihc</a>"
            ]
          },
          "metadata": {}
        },
        {
          "output_type": "display_data",
          "data": {
            "text/plain": [
              "<IPython.core.display.HTML object>"
            ],
            "text/html": [
              " View project at <a href='https://wandb.ai/bhavanarajannair/my-wand' target=\"_blank\">https://wandb.ai/bhavanarajannair/my-wand</a>"
            ]
          },
          "metadata": {}
        },
        {
          "output_type": "display_data",
          "data": {
            "text/plain": [
              "<IPython.core.display.HTML object>"
            ],
            "text/html": [
              " View sweep at <a href='https://wandb.ai/bhavanarajannair/my-wand/sweeps/ll4kzihc' target=\"_blank\">https://wandb.ai/bhavanarajannair/my-wand/sweeps/ll4kzihc</a>"
            ]
          },
          "metadata": {}
        },
        {
          "output_type": "display_data",
          "data": {
            "text/plain": [
              "<IPython.core.display.HTML object>"
            ],
            "text/html": [
              " View run at <a href='https://wandb.ai/bhavanarajannair/my-wand/runs/4uoyk2en' target=\"_blank\">https://wandb.ai/bhavanarajannair/my-wand/runs/4uoyk2en</a>"
            ]
          },
          "metadata": {}
        },
        {
          "output_type": "stream",
          "name": "stdout",
          "text": [
            "\n",
            "Start of epoch 0\n"
          ]
        },
        {
          "output_type": "stream",
          "name": "stderr",
          "text": [
            "100%|██████████| 235/235 [00:05<00:00, 46.58it/s]\n"
          ]
        },
        {
          "output_type": "stream",
          "name": "stdout",
          "text": [
            "Training acc over epoch: 0.5077\n",
            "Validation acc: 0.6503\n",
            "\n",
            "Start of epoch 1\n"
          ]
        },
        {
          "output_type": "stream",
          "name": "stderr",
          "text": [
            "100%|██████████| 235/235 [00:06<00:00, 37.75it/s]\n"
          ]
        },
        {
          "output_type": "stream",
          "name": "stdout",
          "text": [
            "Training acc over epoch: 0.6904\n",
            "Validation acc: 0.7227\n",
            "\n",
            "Start of epoch 2\n"
          ]
        },
        {
          "output_type": "stream",
          "name": "stderr",
          "text": [
            "100%|██████████| 235/235 [00:05<00:00, 45.87it/s]\n"
          ]
        },
        {
          "output_type": "stream",
          "name": "stdout",
          "text": [
            "Training acc over epoch: 0.7420\n",
            "Validation acc: 0.7572\n",
            "\n",
            "Start of epoch 3\n"
          ]
        },
        {
          "output_type": "stream",
          "name": "stderr",
          "text": [
            "100%|██████████| 235/235 [00:05<00:00, 39.34it/s]\n"
          ]
        },
        {
          "output_type": "stream",
          "name": "stdout",
          "text": [
            "Training acc over epoch: 0.7687\n",
            "Validation acc: 0.7756\n",
            "\n",
            "Start of epoch 4\n"
          ]
        },
        {
          "output_type": "stream",
          "name": "stderr",
          "text": [
            "100%|██████████| 235/235 [00:05<00:00, 46.34it/s]\n"
          ]
        },
        {
          "output_type": "stream",
          "name": "stdout",
          "text": [
            "Training acc over epoch: 0.7856\n",
            "Validation acc: 0.7885\n"
          ]
        },
        {
          "output_type": "display_data",
          "data": {
            "text/plain": [
              "VBox(children=(Label(value='0.012 MB of 0.012 MB uploaded\\r'), FloatProgress(value=1.0, max=1.0)))"
            ],
            "application/vnd.jupyter.widget-view+json": {
              "version_major": 2,
              "version_minor": 0,
              "model_id": "85d3b367abfe4f9b9be90769885510fd"
            }
          },
          "metadata": {}
        },
        {
          "output_type": "display_data",
          "data": {
            "text/plain": [
              "<IPython.core.display.HTML object>"
            ],
            "text/html": [
              "<style>\n",
              "    table.wandb td:nth-child(1) { padding: 0 10px; text-align: left ; width: auto;} td:nth-child(2) {text-align: left ; width: 100%}\n",
              "    .wandb-row { display: flex; flex-direction: row; flex-wrap: wrap; justify-content: flex-start; width: 100% }\n",
              "    .wandb-col { display: flex; flex-direction: column; flex-basis: 100%; flex: 1; padding: 10px; }\n",
              "    </style>\n",
              "<div class=\"wandb-row\"><div class=\"wandb-col\"><h3>Run history:</h3><br/><table class=\"wandb\"><tr><td>acc</td><td>▁▆▇██</td></tr><tr><td>epochs</td><td>▁▃▅▆█</td></tr><tr><td>loss</td><td>█▂▂▁▁</td></tr><tr><td>val_acc</td><td>▁▅▆▇█</td></tr><tr><td>val_loss</td><td>█▄▂▂▁</td></tr></table><br/></div><div class=\"wandb-col\"><h3>Run summary:</h3><br/><table class=\"wandb\"><tr><td>acc</td><td>0.78562</td></tr><tr><td>epochs</td><td>4</td></tr><tr><td>loss</td><td>2.04748</td></tr><tr><td>val_acc</td><td>0.7885</td></tr><tr><td>val_loss</td><td>1.85249</td></tr></table><br/></div></div>"
            ]
          },
          "metadata": {}
        },
        {
          "output_type": "display_data",
          "data": {
            "text/plain": [
              "<IPython.core.display.HTML object>"
            ],
            "text/html": [
              " View run <strong style=\"color:#cdcd00\">smart-sweep-5</strong> at: <a href='https://wandb.ai/bhavanarajannair/my-wand/runs/4uoyk2en' target=\"_blank\">https://wandb.ai/bhavanarajannair/my-wand/runs/4uoyk2en</a><br/> View project at: <a href='https://wandb.ai/bhavanarajannair/my-wand' target=\"_blank\">https://wandb.ai/bhavanarajannair/my-wand</a><br/>Synced 5 W&B file(s), 0 media file(s), 0 artifact file(s) and 0 other file(s)"
            ]
          },
          "metadata": {}
        },
        {
          "output_type": "display_data",
          "data": {
            "text/plain": [
              "<IPython.core.display.HTML object>"
            ],
            "text/html": [
              "Find logs at: <code>./wandb/run-20240626_005525-4uoyk2en/logs</code>"
            ]
          },
          "metadata": {}
        },
        {
          "output_type": "display_data",
          "data": {
            "text/plain": [
              "<IPython.core.display.HTML object>"
            ],
            "text/html": [
              "The new W&B backend becomes opt-out in version 0.18.0; try it out with `wandb.require(\"core\")`! See https://wandb.me/wandb-core for more information."
            ]
          },
          "metadata": {}
        }
      ]
    },
    {
      "cell_type": "markdown",
      "source": [
        "# **SECTION 4**"
      ],
      "metadata": {
        "id": "SSK3hJ-BPSHS"
      }
    },
    {
      "cell_type": "markdown",
      "source": [
        "# **With Callbacks**\n",
        "\n",
        "\n",
        "\n",
        "*   WandbCallback is a callback provided by Weights and Biases which logs all relevant information to wandb, providing a detailed and reproducible record of the experiment.\n",
        "*   WandbModelCheckpoint saves model checkpoints to both your local storage and the wandb cloud. This ensures that the best models (based on validation metrics) are saved and can be retrieved or shared later.\n",
        "\n"
      ],
      "metadata": {
        "id": "Adu3feasPSQV"
      }
    },
    {
      "cell_type": "code",
      "source": [
        "from wandb.integration.keras import WandbCallback, WandbModelCheckpoint"
      ],
      "metadata": {
        "id": "faPuTPvNPaF5"
      },
      "execution_count": 18,
      "outputs": []
    },
    {
      "cell_type": "code",
      "source": [
        "checkpoint_dir = './checkpoints'\n",
        "os.makedirs(checkpoint_dir, exist_ok=True)\n"
      ],
      "metadata": {
        "id": "BLhHxE7tPSha"
      },
      "execution_count": 19,
      "outputs": []
    },
    {
      "cell_type": "markdown",
      "source": [
        "The following functions train and sweep_train are similar to the respective ones in previous sections in logic. The change is only in handling the callbacks and saving the best model."
      ],
      "metadata": {
        "id": "FgxOPwqe-LD8"
      }
    },
    {
      "cell_type": "code",
      "source": [
        "def train(train_dataset,\n",
        "          val_dataset,\n",
        "          model,\n",
        "          optimizer,\n",
        "          loss_fn,\n",
        "          train_acc_metric,\n",
        "          val_acc_metric,\n",
        "          epochs=2,\n",
        "          log_step=200,\n",
        "          val_log_step=50,\n",
        "          callbacks=None):\n",
        "\n",
        "    if callbacks is None:\n",
        "        callbacks = []\n",
        "\n",
        "    for callback in callbacks:\n",
        "        callback.set_model(model)\n",
        "        callback.on_train_begin()\n",
        "\n",
        "    for epoch in range(epochs):\n",
        "        print(\"\\nStart of epoch %d\" % (epoch,))\n",
        "\n",
        "        for callback in callbacks:\n",
        "            callback.on_epoch_begin(epoch)\n",
        "\n",
        "        train_loss = []\n",
        "        val_loss = []\n",
        "\n",
        "        # Iterate over the batches of the dataset\n",
        "        for step, (x_batch_train, y_batch_train) in tqdm.tqdm(enumerate(train_dataset), total=len(train_dataset)):\n",
        "            loss_value = train_step(x_batch_train, y_batch_train,\n",
        "                                    model, optimizer,\n",
        "                                    loss_fn, train_acc_metric)\n",
        "            train_loss.append(float(loss_value))\n",
        "\n",
        "            if step % log_step == 0:\n",
        "                for callback in callbacks:\n",
        "                    callback.on_batch_end(step, logs={'loss': loss_value, 'acc': train_acc_metric.result().numpy()})\n",
        "\n",
        "        # Run a validation loop at the end of each epoch\n",
        "        for step, (x_batch_val, y_batch_val) in enumerate(val_dataset):\n",
        "            val_loss_value = test_step(x_batch_val, y_batch_val,\n",
        "                                       model, loss_fn,\n",
        "                                       val_acc_metric)\n",
        "            val_loss.append(float(val_loss_value))\n",
        "\n",
        "            if step % val_log_step == 0:\n",
        "                for callback in callbacks:\n",
        "                    callback.on_batch_end(step, logs={'val_loss': val_loss_value, 'val_acc': val_acc_metric.result().numpy()})\n",
        "\n",
        "        # Display metrics at the end of each epoch\n",
        "        train_acc = train_acc_metric.result()\n",
        "        print(\"Training acc over epoch: %.4f\" % (float(train_acc),))\n",
        "\n",
        "        val_acc = val_acc_metric.result()\n",
        "        print(\"Validation acc: %.4f\" % (float(val_acc),))\n",
        "\n",
        "        # Reset metrics at the end of each epoch\n",
        "        train_acc_metric.reset_states()\n",
        "        val_acc_metric.reset_states()\n",
        "\n",
        "        # Log metrics using wandb.log\n",
        "        logs = {\n",
        "\n",
        "            'loss': np.mean(train_loss),\n",
        "            'acc': float(train_acc),\n",
        "            'val_loss': np.mean(val_loss),\n",
        "            'val_acc': float(val_acc)\n",
        "        }\n",
        "        #wandb.log(logs)\n",
        "        wandb.log({'epoch': epoch, **logs})\n",
        "\n",
        "        logs_without_epoch = {k: v for k, v in logs.items() if k != 'epoch'}\n",
        "        for callback in callbacks:\n",
        "            callback.on_epoch_end(epoch, logs_without_epoch)\n",
        "\n",
        "        # Send wandb alert if accuracy is below threshold\n",
        "        threshold = 0.6\n",
        "        if val_acc <= threshold:\n",
        "            wandb.alert(\n",
        "                title='Low Accuracy',\n",
        "                text=f'Accuracy {val_acc} at epoch {epoch} is below the acceptable threshold, {threshold}',\n",
        "            )\n",
        "            print('Alert triggered')\n",
        "            break\n",
        "\n",
        "    for callback in callbacks:\n",
        "        callback.on_train_end()\n"
      ],
      "metadata": {
        "id": "dcwIGrx71qms"
      },
      "execution_count": 20,
      "outputs": []
    },
    {
      "cell_type": "code",
      "source": [
        "def sweep_train(config_defaults=None):\n",
        "\n",
        "    config_defaults = {\n",
        "        \"batch_size\": 64,\n",
        "        \"learning_rate\": 0.01\n",
        "    }\n",
        "\n",
        "    wandb.init(config=config_defaults)\n",
        "\n",
        "    wandb.config.epochs = 5\n",
        "    wandb.config.log_step = 20\n",
        "    wandb.config.val_log_step = 50\n",
        "    wandb.config.architecture_name = \"MLP\"\n",
        "    wandb.config.dataset_name = \"MNIST\"\n",
        "\n",
        "    # Build input pipeline using tf.data\n",
        "    train_dataset = tf.data.Dataset.from_tensor_slices((x_train, y_train))\n",
        "    train_dataset = (train_dataset.shuffle(buffer_size=1024)\n",
        "                                  .batch(wandb.config.batch_size)\n",
        "                                  .prefetch(buffer_size=tf.data.AUTOTUNE))\n",
        "\n",
        "    val_dataset = tf.data.Dataset.from_tensor_slices((x_test, y_test))\n",
        "    val_dataset = (val_dataset.batch(wandb.config.batch_size)\n",
        "                              .prefetch(buffer_size=tf.data.AUTOTUNE))\n",
        "\n",
        "\n",
        "    model = make_model()\n",
        "\n",
        "\n",
        "    optimizer = keras.optimizers.SGD(learning_rate=wandb.config.learning_rate)\n",
        "    loss_fn = keras.losses.SparseCategoricalCrossentropy(from_logits=True)\n",
        "\n",
        "    train_acc_metric = keras.metrics.SparseCategoricalAccuracy()\n",
        "    val_acc_metric = keras.metrics.SparseCategoricalAccuracy()\n",
        "\n",
        "    # Define the checkpoint directory and callbacks\n",
        "    checkpoint_dir = './checkpoints'\n",
        "    os.makedirs(checkpoint_dir, exist_ok=True)\n",
        "\n",
        "    checkpoint_callback = WandbModelCheckpoint(filepath=os.path.join(checkpoint_dir, 'model_{epoch:02d}.h5'),\n",
        "                                               monitor='val_loss',\n",
        "                                               mode='min',\n",
        "                                               save_best_only=True)\n",
        "\n",
        "    wandb_callback = WandbCallback()\n",
        "\n",
        "    callbacks = [checkpoint_callback, wandb_callback]\n",
        "\n",
        "    # Train the model using the train function\n",
        "    train(train_dataset,\n",
        "          val_dataset,\n",
        "          model,\n",
        "          optimizer,\n",
        "          loss_fn,\n",
        "          train_acc_metric,\n",
        "          val_acc_metric,\n",
        "          epochs=wandb.config.epochs,\n",
        "          log_step=wandb.config.log_step,\n",
        "          val_log_step=wandb.config.val_log_step,\n",
        "          callbacks=callbacks)"
      ],
      "metadata": {
        "id": "O432ZHSbXsUY"
      },
      "execution_count": 21,
      "outputs": []
    },
    {
      "cell_type": "markdown",
      "source": [
        "**If directly executing section 4 without previous sections, please run cell for sweep_config in section 2**"
      ],
      "metadata": {
        "id": "e92BPbpsyOct"
      }
    },
    {
      "cell_type": "code",
      "source": [
        "sweep_id = wandb.sweep(sweep_config, project=\"my-wand\")"
      ],
      "metadata": {
        "colab": {
          "base_uri": "https://localhost:8080/"
        },
        "id": "lvkIRwlxRHYj",
        "outputId": "4a79ba18-87f6-45c9-d3a7-6cb233853035"
      },
      "execution_count": 22,
      "outputs": [
        {
          "output_type": "stream",
          "name": "stdout",
          "text": [
            "Create sweep with ID: 3hah8sbm\n",
            "Sweep URL: https://wandb.ai/bhavanarajannair/my-wand/sweeps/3hah8sbm\n"
          ]
        }
      ]
    },
    {
      "cell_type": "code",
      "source": [
        "wandb.agent(sweep_id, function=sweep_train, count=5)"
      ],
      "metadata": {
        "colab": {
          "base_uri": "https://localhost:8080/",
          "height": 1000,
          "referenced_widgets": [
            "414fb79851ba49a18c1b8521f7b3749b",
            "30c1b8fc85d949a58ad8e629f11b8c57",
            "55302071e34f415aafc91af0fe939058",
            "05b70a06547e4ae686d149c9b7ff2eba",
            "3d1e3d00b0e84a38aa53642ea4ac381b",
            "75c8c8f1891c48c2b88f80ceb961556d",
            "ccad9df057df41f680305ef7bf27c0c9",
            "dc9e9c90e3194c9eb69e56853dd48ba7",
            "8061bb7286774067883568d1b77ab479",
            "be87255d9cdb43af9e435396132b377b",
            "7d6e490266c84ba4aaa2c349206e55e9",
            "940284b7d9af404da5fc435486cc7692",
            "ad55f459a670400baaa3ebd0697f3b94",
            "b0ebf58daa7246eebe90f70c684bb908",
            "b677d5213ac141ea8d94eba5e8035b46",
            "0f7e57ae56744a58b49788eae26ace9f",
            "a32f18562b244b5c890353c945924e9c",
            "b612d91c0f75410eb304f05627c6b7e6",
            "45efdbb9a46741bd97e7be15a82db472",
            "cf726f49e6614a2d9d2ecbdb0269d5c4",
            "b9b0b53c994a42ec8e3b3e6d7ee9d271",
            "16220597fb0545b2ad73074964494e9c",
            "a8745235e6194677adbb4089e2808f6f",
            "e5201a5c3cfb42118cc0eb102600392b",
            "ee37b27f4ccf4c46bec87a53b3f6d0f4",
            "4e4b7eed38c24343b68ea21046d3648c",
            "b0c3e4e4681b445a94f46f5884495fe8",
            "c95856083343478195181f887932f57a",
            "7d9bf9132c6e447a8706b6941831d94b",
            "35ad6de122b84db28e82d64c11a7d97c",
            "4c01f84cff39408b922aa8356d303a47",
            "a917ebbc8c2f4a1cbf14818d436fe29c",
            "bf31a4e792d147f89ded6b3f83e8cb49",
            "716b1e21589d4411b3bce7c7c11f548f",
            "81a93b3401de4abaa865535f3c5cef62",
            "b05edfe63b304d77a57fdef86d32eeef",
            "a445ea80809342c8915d8a93553c157e",
            "716a0b8b1d9e467e81bdbb7e20070251",
            "911391c81faa4b52b301ac1c1f6d6582",
            "c8ac8b18dcd14569b84ad56576a3cacf"
          ]
        },
        "id": "N6mWfpcETFKc",
        "outputId": "b87b7a25-1e69-467a-9f05-972d75ead453"
      },
      "execution_count": 23,
      "outputs": [
        {
          "output_type": "stream",
          "name": "stderr",
          "text": [
            "\u001b[34m\u001b[1mwandb\u001b[0m: Agent Starting Run: tlpvwi6j with config:\n",
            "\u001b[34m\u001b[1mwandb\u001b[0m: \tbatch_size: 32\n",
            "\u001b[34m\u001b[1mwandb\u001b[0m: \tlearning_rate: 0.01\n"
          ]
        },
        {
          "output_type": "display_data",
          "data": {
            "text/plain": [
              "<IPython.core.display.HTML object>"
            ],
            "text/html": [
              "Tracking run with wandb version 0.17.3"
            ]
          },
          "metadata": {}
        },
        {
          "output_type": "display_data",
          "data": {
            "text/plain": [
              "<IPython.core.display.HTML object>"
            ],
            "text/html": [
              "Run data is saved locally in <code>/content/wandb/run-20240626_005616-tlpvwi6j</code>"
            ]
          },
          "metadata": {}
        },
        {
          "output_type": "display_data",
          "data": {
            "text/plain": [
              "<IPython.core.display.HTML object>"
            ],
            "text/html": [
              "Syncing run <strong><a href='https://wandb.ai/bhavanarajannair/my-wand/runs/tlpvwi6j' target=\"_blank\">valiant-sweep-1</a></strong> to <a href='https://wandb.ai/bhavanarajannair/my-wand' target=\"_blank\">Weights & Biases</a> (<a href='https://wandb.me/run' target=\"_blank\">docs</a>)<br/>Sweep page: <a href='https://wandb.ai/bhavanarajannair/my-wand/sweeps/3hah8sbm' target=\"_blank\">https://wandb.ai/bhavanarajannair/my-wand/sweeps/3hah8sbm</a>"
            ]
          },
          "metadata": {}
        },
        {
          "output_type": "display_data",
          "data": {
            "text/plain": [
              "<IPython.core.display.HTML object>"
            ],
            "text/html": [
              " View project at <a href='https://wandb.ai/bhavanarajannair/my-wand' target=\"_blank\">https://wandb.ai/bhavanarajannair/my-wand</a>"
            ]
          },
          "metadata": {}
        },
        {
          "output_type": "display_data",
          "data": {
            "text/plain": [
              "<IPython.core.display.HTML object>"
            ],
            "text/html": [
              " View sweep at <a href='https://wandb.ai/bhavanarajannair/my-wand/sweeps/3hah8sbm' target=\"_blank\">https://wandb.ai/bhavanarajannair/my-wand/sweeps/3hah8sbm</a>"
            ]
          },
          "metadata": {}
        },
        {
          "output_type": "display_data",
          "data": {
            "text/plain": [
              "<IPython.core.display.HTML object>"
            ],
            "text/html": [
              " View run at <a href='https://wandb.ai/bhavanarajannair/my-wand/runs/tlpvwi6j' target=\"_blank\">https://wandb.ai/bhavanarajannair/my-wand/runs/tlpvwi6j</a>"
            ]
          },
          "metadata": {}
        },
        {
          "output_type": "stream",
          "name": "stderr",
          "text": [
            "\u001b[34m\u001b[1mwandb\u001b[0m: \u001b[33mWARNING\u001b[0m The save_model argument by default saves the model in the HDF5 format that cannot save custom objects like subclassed models and custom layers. This behavior will be deprecated in a future release in favor of the SavedModel format. Meanwhile, the HDF5 model is saved as W&B files and the SavedModel as W&B Artifacts.\n"
          ]
        },
        {
          "output_type": "stream",
          "name": "stdout",
          "text": [
            "\n",
            "Start of epoch 0\n"
          ]
        },
        {
          "output_type": "stream",
          "name": "stderr",
          "text": [
            "100%|██████████| 1875/1875 [00:37<00:00, 49.89it/s]\n",
            "/usr/local/lib/python3.10/dist-packages/keras/src/engine/training.py:3103: UserWarning: You are saving your model as an HDF5 file via `model.save()`. This file format is considered legacy. We recommend using instead the native Keras format, e.g. `model.save('my_model.keras')`.\n",
            "  saving_api.save_model(\n",
            "WARNING:tensorflow:Compiled the loaded model, but the compiled metrics have yet to be built. `model.compile_metrics` will be empty until you train or evaluate the model.\n",
            "WARNING:tensorflow:Compiled the loaded model, but the compiled metrics have yet to be built. `model.compile_metrics` will be empty until you train or evaluate the model.\n"
          ]
        },
        {
          "output_type": "stream",
          "name": "stdout",
          "text": [
            "Training acc over epoch: 0.1119\n",
            "Validation acc: 0.1135\n"
          ]
        },
        {
          "output_type": "stream",
          "name": "stderr",
          "text": [
            "WARNING:tensorflow:Compiled the loaded model, but the compiled metrics have yet to be built. `model.compile_metrics` will be empty until you train or evaluate the model.\n",
            "\u001b[34m\u001b[1mwandb\u001b[0m: Adding directory to artifact (/content/wandb/run-20240626_005616-tlpvwi6j/files/model-best)... Done. 0.0s\n"
          ]
        },
        {
          "output_type": "stream",
          "name": "stdout",
          "text": [
            "Alert triggered\n"
          ]
        },
        {
          "output_type": "display_data",
          "data": {
            "text/plain": [
              "VBox(children=(Label(value='0.742 MB of 0.742 MB uploaded\\r'), FloatProgress(value=1.0, max=1.0)))"
            ],
            "application/vnd.jupyter.widget-view+json": {
              "version_major": 2,
              "version_minor": 0,
              "model_id": "414fb79851ba49a18c1b8521f7b3749b"
            }
          },
          "metadata": {}
        },
        {
          "output_type": "display_data",
          "data": {
            "text/plain": [
              "<IPython.core.display.HTML object>"
            ],
            "text/html": [
              "<style>\n",
              "    table.wandb td:nth-child(1) { padding: 0 10px; text-align: left ; width: auto;} td:nth-child(2) {text-align: left ; width: 100%}\n",
              "    .wandb-row { display: flex; flex-direction: row; flex-wrap: wrap; justify-content: flex-start; width: 100% }\n",
              "    .wandb-col { display: flex; flex-direction: column; flex-basis: 100%; flex: 1; padding: 10px; }\n",
              "    </style>\n",
              "<div class=\"wandb-row\"><div class=\"wandb-col\"><h3>Run history:</h3><br/><table class=\"wandb\"><tr><td>acc</td><td>▁▁</td></tr><tr><td>epoch</td><td>▁▁</td></tr><tr><td>loss</td><td>▁▁</td></tr><tr><td>val_acc</td><td>▁▁</td></tr><tr><td>val_loss</td><td>▁▁</td></tr></table><br/></div><div class=\"wandb-col\"><h3>Run summary:</h3><br/><table class=\"wandb\"><tr><td>acc</td><td>0.11187</td></tr><tr><td>best_epoch</td><td>0</td></tr><tr><td>best_val_loss</td><td>2.30113</td></tr><tr><td>epoch</td><td>0</td></tr><tr><td>loss</td><td>32.45331</td></tr><tr><td>val_acc</td><td>0.1135</td></tr><tr><td>val_loss</td><td>2.30113</td></tr></table><br/></div></div>"
            ]
          },
          "metadata": {}
        },
        {
          "output_type": "display_data",
          "data": {
            "text/plain": [
              "<IPython.core.display.HTML object>"
            ],
            "text/html": [
              " View run <strong style=\"color:#cdcd00\">valiant-sweep-1</strong> at: <a href='https://wandb.ai/bhavanarajannair/my-wand/runs/tlpvwi6j' target=\"_blank\">https://wandb.ai/bhavanarajannair/my-wand/runs/tlpvwi6j</a><br/> View project at: <a href='https://wandb.ai/bhavanarajannair/my-wand' target=\"_blank\">https://wandb.ai/bhavanarajannair/my-wand</a><br/>Synced 5 W&B file(s), 1 media file(s), 6 artifact file(s) and 1 other file(s)"
            ]
          },
          "metadata": {}
        },
        {
          "output_type": "display_data",
          "data": {
            "text/plain": [
              "<IPython.core.display.HTML object>"
            ],
            "text/html": [
              "Find logs at: <code>./wandb/run-20240626_005616-tlpvwi6j/logs</code>"
            ]
          },
          "metadata": {}
        },
        {
          "output_type": "display_data",
          "data": {
            "text/plain": [
              "<IPython.core.display.HTML object>"
            ],
            "text/html": [
              "The new W&B backend becomes opt-out in version 0.18.0; try it out with `wandb.require(\"core\")`! See https://wandb.me/wandb-core for more information."
            ]
          },
          "metadata": {}
        },
        {
          "output_type": "stream",
          "name": "stderr",
          "text": [
            "\u001b[34m\u001b[1mwandb\u001b[0m: Agent Starting Run: 693le9xo with config:\n",
            "\u001b[34m\u001b[1mwandb\u001b[0m: \tbatch_size: 128\n",
            "\u001b[34m\u001b[1mwandb\u001b[0m: \tlearning_rate: 0.0005\n"
          ]
        },
        {
          "output_type": "display_data",
          "data": {
            "text/plain": [
              "<IPython.core.display.HTML object>"
            ],
            "text/html": [
              "Tracking run with wandb version 0.17.3"
            ]
          },
          "metadata": {}
        },
        {
          "output_type": "display_data",
          "data": {
            "text/plain": [
              "<IPython.core.display.HTML object>"
            ],
            "text/html": [
              "Run data is saved locally in <code>/content/wandb/run-20240626_005713-693le9xo</code>"
            ]
          },
          "metadata": {}
        },
        {
          "output_type": "display_data",
          "data": {
            "text/plain": [
              "<IPython.core.display.HTML object>"
            ],
            "text/html": [
              "Syncing run <strong><a href='https://wandb.ai/bhavanarajannair/my-wand/runs/693le9xo' target=\"_blank\">dashing-sweep-2</a></strong> to <a href='https://wandb.ai/bhavanarajannair/my-wand' target=\"_blank\">Weights & Biases</a> (<a href='https://wandb.me/run' target=\"_blank\">docs</a>)<br/>Sweep page: <a href='https://wandb.ai/bhavanarajannair/my-wand/sweeps/3hah8sbm' target=\"_blank\">https://wandb.ai/bhavanarajannair/my-wand/sweeps/3hah8sbm</a>"
            ]
          },
          "metadata": {}
        },
        {
          "output_type": "display_data",
          "data": {
            "text/plain": [
              "<IPython.core.display.HTML object>"
            ],
            "text/html": [
              " View project at <a href='https://wandb.ai/bhavanarajannair/my-wand' target=\"_blank\">https://wandb.ai/bhavanarajannair/my-wand</a>"
            ]
          },
          "metadata": {}
        },
        {
          "output_type": "display_data",
          "data": {
            "text/plain": [
              "<IPython.core.display.HTML object>"
            ],
            "text/html": [
              " View sweep at <a href='https://wandb.ai/bhavanarajannair/my-wand/sweeps/3hah8sbm' target=\"_blank\">https://wandb.ai/bhavanarajannair/my-wand/sweeps/3hah8sbm</a>"
            ]
          },
          "metadata": {}
        },
        {
          "output_type": "display_data",
          "data": {
            "text/plain": [
              "<IPython.core.display.HTML object>"
            ],
            "text/html": [
              " View run at <a href='https://wandb.ai/bhavanarajannair/my-wand/runs/693le9xo' target=\"_blank\">https://wandb.ai/bhavanarajannair/my-wand/runs/693le9xo</a>"
            ]
          },
          "metadata": {}
        },
        {
          "output_type": "stream",
          "name": "stdout",
          "text": [
            "\n",
            "Start of epoch 0\n"
          ]
        },
        {
          "output_type": "stream",
          "name": "stderr",
          "text": [
            "100%|██████████| 469/469 [00:10<00:00, 45.01it/s]\n",
            "/usr/local/lib/python3.10/dist-packages/keras/src/engine/training.py:3103: UserWarning: You are saving your model as an HDF5 file via `model.save()`. This file format is considered legacy. We recommend using instead the native Keras format, e.g. `model.save('my_model.keras')`.\n",
            "  saving_api.save_model(\n",
            "WARNING:tensorflow:Compiled the loaded model, but the compiled metrics have yet to be built. `model.compile_metrics` will be empty until you train or evaluate the model.\n",
            "WARNING:tensorflow:Compiled the loaded model, but the compiled metrics have yet to be built. `model.compile_metrics` will be empty until you train or evaluate the model.\n",
            "WARNING:tensorflow:Compiled the loaded model, but the compiled metrics have yet to be built. `model.compile_metrics` will be empty until you train or evaluate the model.\n"
          ]
        },
        {
          "output_type": "stream",
          "name": "stdout",
          "text": [
            "Training acc over epoch: 0.7565\n",
            "Validation acc: 0.8292\n"
          ]
        },
        {
          "output_type": "stream",
          "name": "stderr",
          "text": [
            "\u001b[34m\u001b[1mwandb\u001b[0m: Adding directory to artifact (/content/wandb/run-20240626_005713-693le9xo/files/model-best)... Done. 0.0s\n"
          ]
        },
        {
          "output_type": "stream",
          "name": "stdout",
          "text": [
            "\n",
            "Start of epoch 1\n"
          ]
        },
        {
          "output_type": "stream",
          "name": "stderr",
          "text": [
            "100%|██████████| 469/469 [00:10<00:00, 44.24it/s]\n",
            "/usr/local/lib/python3.10/dist-packages/keras/src/engine/training.py:3103: UserWarning: You are saving your model as an HDF5 file via `model.save()`. This file format is considered legacy. We recommend using instead the native Keras format, e.g. `model.save('my_model.keras')`.\n",
            "  saving_api.save_model(\n",
            "WARNING:tensorflow:Compiled the loaded model, but the compiled metrics have yet to be built. `model.compile_metrics` will be empty until you train or evaluate the model.\n"
          ]
        },
        {
          "output_type": "stream",
          "name": "stdout",
          "text": [
            "Training acc over epoch: 0.8290\n",
            "Validation acc: 0.8516\n"
          ]
        },
        {
          "output_type": "stream",
          "name": "stderr",
          "text": [
            "WARNING:tensorflow:Compiled the loaded model, but the compiled metrics have yet to be built. `model.compile_metrics` will be empty until you train or evaluate the model.\n",
            "WARNING:tensorflow:Compiled the loaded model, but the compiled metrics have yet to be built. `model.compile_metrics` will be empty until you train or evaluate the model.\n",
            "\u001b[34m\u001b[1mwandb\u001b[0m: Adding directory to artifact (/content/wandb/run-20240626_005713-693le9xo/files/model-best)... Done. 0.0s\n"
          ]
        },
        {
          "output_type": "stream",
          "name": "stdout",
          "text": [
            "\n",
            "Start of epoch 2\n"
          ]
        },
        {
          "output_type": "stream",
          "name": "stderr",
          "text": [
            "100%|██████████| 469/469 [00:10<00:00, 46.84it/s]\n",
            "/usr/local/lib/python3.10/dist-packages/keras/src/engine/training.py:3103: UserWarning: You are saving your model as an HDF5 file via `model.save()`. This file format is considered legacy. We recommend using instead the native Keras format, e.g. `model.save('my_model.keras')`.\n",
            "  saving_api.save_model(\n",
            "WARNING:tensorflow:Compiled the loaded model, but the compiled metrics have yet to be built. `model.compile_metrics` will be empty until you train or evaluate the model.\n",
            "WARNING:tensorflow:Compiled the loaded model, but the compiled metrics have yet to be built. `model.compile_metrics` will be empty until you train or evaluate the model.\n",
            "WARNING:tensorflow:Compiled the loaded model, but the compiled metrics have yet to be built. `model.compile_metrics` will be empty until you train or evaluate the model.\n"
          ]
        },
        {
          "output_type": "stream",
          "name": "stdout",
          "text": [
            "Training acc over epoch: 0.8512\n",
            "Validation acc: 0.8604\n"
          ]
        },
        {
          "output_type": "stream",
          "name": "stderr",
          "text": [
            "\u001b[34m\u001b[1mwandb\u001b[0m: Adding directory to artifact (/content/wandb/run-20240626_005713-693le9xo/files/model-best)... Done. 0.0s\n"
          ]
        },
        {
          "output_type": "stream",
          "name": "stdout",
          "text": [
            "\n",
            "Start of epoch 3\n"
          ]
        },
        {
          "output_type": "stream",
          "name": "stderr",
          "text": [
            "100%|██████████| 469/469 [00:09<00:00, 49.34it/s]\n",
            "/usr/local/lib/python3.10/dist-packages/keras/src/engine/training.py:3103: UserWarning: You are saving your model as an HDF5 file via `model.save()`. This file format is considered legacy. We recommend using instead the native Keras format, e.g. `model.save('my_model.keras')`.\n",
            "  saving_api.save_model(\n",
            "WARNING:tensorflow:Compiled the loaded model, but the compiled metrics have yet to be built. `model.compile_metrics` will be empty until you train or evaluate the model.\n"
          ]
        },
        {
          "output_type": "stream",
          "name": "stdout",
          "text": [
            "Training acc over epoch: 0.8662\n",
            "Validation acc: 0.8738\n"
          ]
        },
        {
          "output_type": "stream",
          "name": "stderr",
          "text": [
            "WARNING:tensorflow:Compiled the loaded model, but the compiled metrics have yet to be built. `model.compile_metrics` will be empty until you train or evaluate the model.\n",
            "WARNING:tensorflow:Compiled the loaded model, but the compiled metrics have yet to be built. `model.compile_metrics` will be empty until you train or evaluate the model.\n",
            "\u001b[34m\u001b[1mwandb\u001b[0m: Adding directory to artifact (/content/wandb/run-20240626_005713-693le9xo/files/model-best)... Done. 0.0s\n"
          ]
        },
        {
          "output_type": "stream",
          "name": "stdout",
          "text": [
            "\n",
            "Start of epoch 4\n"
          ]
        },
        {
          "output_type": "stream",
          "name": "stderr",
          "text": [
            "100%|██████████| 469/469 [00:09<00:00, 50.41it/s]\n",
            "/usr/local/lib/python3.10/dist-packages/keras/src/engine/training.py:3103: UserWarning: You are saving your model as an HDF5 file via `model.save()`. This file format is considered legacy. We recommend using instead the native Keras format, e.g. `model.save('my_model.keras')`.\n",
            "  saving_api.save_model(\n",
            "WARNING:tensorflow:Compiled the loaded model, but the compiled metrics have yet to be built. `model.compile_metrics` will be empty until you train or evaluate the model.\n",
            "WARNING:tensorflow:Compiled the loaded model, but the compiled metrics have yet to be built. `model.compile_metrics` will be empty until you train or evaluate the model.\n"
          ]
        },
        {
          "output_type": "stream",
          "name": "stdout",
          "text": [
            "Training acc over epoch: 0.8782\n",
            "Validation acc: 0.8784\n"
          ]
        },
        {
          "output_type": "stream",
          "name": "stderr",
          "text": [
            "WARNING:tensorflow:Compiled the loaded model, but the compiled metrics have yet to be built. `model.compile_metrics` will be empty until you train or evaluate the model.\n",
            "\u001b[34m\u001b[1mwandb\u001b[0m: Adding directory to artifact (/content/wandb/run-20240626_005713-693le9xo/files/model-best)... Done. 0.0s\n"
          ]
        },
        {
          "output_type": "display_data",
          "data": {
            "text/plain": [
              "VBox(children=(Label(value='2.509 MB of 2.509 MB uploaded (0.033 MB deduped)\\r'), FloatProgress(value=1.0, max…"
            ],
            "application/vnd.jupyter.widget-view+json": {
              "version_major": 2,
              "version_minor": 0,
              "model_id": "8061bb7286774067883568d1b77ab479"
            }
          },
          "metadata": {}
        },
        {
          "output_type": "display_data",
          "data": {
            "text/plain": [
              "<IPython.core.display.HTML object>"
            ],
            "text/html": [
              "W&B sync reduced upload amount by 1.2%             "
            ]
          },
          "metadata": {}
        },
        {
          "output_type": "display_data",
          "data": {
            "text/plain": [
              "<IPython.core.display.HTML object>"
            ],
            "text/html": [
              "<style>\n",
              "    table.wandb td:nth-child(1) { padding: 0 10px; text-align: left ; width: auto;} td:nth-child(2) {text-align: left ; width: 100%}\n",
              "    .wandb-row { display: flex; flex-direction: row; flex-wrap: wrap; justify-content: flex-start; width: 100% }\n",
              "    .wandb-col { display: flex; flex-direction: column; flex-basis: 100%; flex: 1; padding: 10px; }\n",
              "    </style>\n",
              "<div class=\"wandb-row\"><div class=\"wandb-col\"><h3>Run history:</h3><br/><table class=\"wandb\"><tr><td>acc</td><td>▁▁▅▅▆▆▇▇██</td></tr><tr><td>epoch</td><td>▁▁▃▃▅▅▆▆██</td></tr><tr><td>loss</td><td>██▂▂▂▂▁▁▁▁</td></tr><tr><td>val_acc</td><td>▁▁▄▄▅▅▇▇██</td></tr><tr><td>val_loss</td><td>██▄▄▂▂▂▂▁▁</td></tr></table><br/></div><div class=\"wandb-col\"><h3>Run summary:</h3><br/><table class=\"wandb\"><tr><td>acc</td><td>0.87822</td></tr><tr><td>best_epoch</td><td>4</td></tr><tr><td>best_val_loss</td><td>0.60265</td></tr><tr><td>epoch</td><td>4</td></tr><tr><td>loss</td><td>0.5482</td></tr><tr><td>val_acc</td><td>0.8784</td></tr><tr><td>val_loss</td><td>0.60265</td></tr></table><br/></div></div>"
            ]
          },
          "metadata": {}
        },
        {
          "output_type": "display_data",
          "data": {
            "text/plain": [
              "<IPython.core.display.HTML object>"
            ],
            "text/html": [
              " View run <strong style=\"color:#cdcd00\">dashing-sweep-2</strong> at: <a href='https://wandb.ai/bhavanarajannair/my-wand/runs/693le9xo' target=\"_blank\">https://wandb.ai/bhavanarajannair/my-wand/runs/693le9xo</a><br/> View project at: <a href='https://wandb.ai/bhavanarajannair/my-wand' target=\"_blank\">https://wandb.ai/bhavanarajannair/my-wand</a><br/>Synced 5 W&B file(s), 1 media file(s), 30 artifact file(s) and 1 other file(s)"
            ]
          },
          "metadata": {}
        },
        {
          "output_type": "display_data",
          "data": {
            "text/plain": [
              "<IPython.core.display.HTML object>"
            ],
            "text/html": [
              "Find logs at: <code>./wandb/run-20240626_005713-693le9xo/logs</code>"
            ]
          },
          "metadata": {}
        },
        {
          "output_type": "display_data",
          "data": {
            "text/plain": [
              "<IPython.core.display.HTML object>"
            ],
            "text/html": [
              "The new W&B backend becomes opt-out in version 0.18.0; try it out with `wandb.require(\"core\")`! See https://wandb.me/wandb-core for more information."
            ]
          },
          "metadata": {}
        },
        {
          "output_type": "stream",
          "name": "stderr",
          "text": [
            "\u001b[34m\u001b[1mwandb\u001b[0m: Agent Starting Run: 156h9rnf with config:\n",
            "\u001b[34m\u001b[1mwandb\u001b[0m: \tbatch_size: 256\n",
            "\u001b[34m\u001b[1mwandb\u001b[0m: \tlearning_rate: 0.001\n"
          ]
        },
        {
          "output_type": "display_data",
          "data": {
            "text/plain": [
              "<IPython.core.display.HTML object>"
            ],
            "text/html": [
              "Tracking run with wandb version 0.17.3"
            ]
          },
          "metadata": {}
        },
        {
          "output_type": "display_data",
          "data": {
            "text/plain": [
              "<IPython.core.display.HTML object>"
            ],
            "text/html": [
              "Run data is saved locally in <code>/content/wandb/run-20240626_005832-156h9rnf</code>"
            ]
          },
          "metadata": {}
        },
        {
          "output_type": "display_data",
          "data": {
            "text/plain": [
              "<IPython.core.display.HTML object>"
            ],
            "text/html": [
              "Syncing run <strong><a href='https://wandb.ai/bhavanarajannair/my-wand/runs/156h9rnf' target=\"_blank\">major-sweep-3</a></strong> to <a href='https://wandb.ai/bhavanarajannair/my-wand' target=\"_blank\">Weights & Biases</a> (<a href='https://wandb.me/run' target=\"_blank\">docs</a>)<br/>Sweep page: <a href='https://wandb.ai/bhavanarajannair/my-wand/sweeps/3hah8sbm' target=\"_blank\">https://wandb.ai/bhavanarajannair/my-wand/sweeps/3hah8sbm</a>"
            ]
          },
          "metadata": {}
        },
        {
          "output_type": "display_data",
          "data": {
            "text/plain": [
              "<IPython.core.display.HTML object>"
            ],
            "text/html": [
              " View project at <a href='https://wandb.ai/bhavanarajannair/my-wand' target=\"_blank\">https://wandb.ai/bhavanarajannair/my-wand</a>"
            ]
          },
          "metadata": {}
        },
        {
          "output_type": "display_data",
          "data": {
            "text/plain": [
              "<IPython.core.display.HTML object>"
            ],
            "text/html": [
              " View sweep at <a href='https://wandb.ai/bhavanarajannair/my-wand/sweeps/3hah8sbm' target=\"_blank\">https://wandb.ai/bhavanarajannair/my-wand/sweeps/3hah8sbm</a>"
            ]
          },
          "metadata": {}
        },
        {
          "output_type": "display_data",
          "data": {
            "text/plain": [
              "<IPython.core.display.HTML object>"
            ],
            "text/html": [
              " View run at <a href='https://wandb.ai/bhavanarajannair/my-wand/runs/156h9rnf' target=\"_blank\">https://wandb.ai/bhavanarajannair/my-wand/runs/156h9rnf</a>"
            ]
          },
          "metadata": {}
        },
        {
          "output_type": "stream",
          "name": "stdout",
          "text": [
            "\n",
            "Start of epoch 0\n"
          ]
        },
        {
          "output_type": "stream",
          "name": "stderr",
          "text": [
            "100%|██████████| 235/235 [00:06<00:00, 37.80it/s]\n",
            "/usr/local/lib/python3.10/dist-packages/keras/src/engine/training.py:3103: UserWarning: You are saving your model as an HDF5 file via `model.save()`. This file format is considered legacy. We recommend using instead the native Keras format, e.g. `model.save('my_model.keras')`.\n",
            "  saving_api.save_model(\n",
            "WARNING:tensorflow:Compiled the loaded model, but the compiled metrics have yet to be built. `model.compile_metrics` will be empty until you train or evaluate the model.\n",
            "WARNING:tensorflow:Compiled the loaded model, but the compiled metrics have yet to be built. `model.compile_metrics` will be empty until you train or evaluate the model.\n",
            "WARNING:tensorflow:Compiled the loaded model, but the compiled metrics have yet to be built. `model.compile_metrics` will be empty until you train or evaluate the model.\n"
          ]
        },
        {
          "output_type": "stream",
          "name": "stdout",
          "text": [
            "Training acc over epoch: 0.6535\n",
            "Validation acc: 0.7261\n"
          ]
        },
        {
          "output_type": "stream",
          "name": "stderr",
          "text": [
            "\u001b[34m\u001b[1mwandb\u001b[0m: Adding directory to artifact (/content/wandb/run-20240626_005832-156h9rnf/files/model-best)... Done. 0.0s\n"
          ]
        },
        {
          "output_type": "stream",
          "name": "stdout",
          "text": [
            "\n",
            "Start of epoch 1\n"
          ]
        },
        {
          "output_type": "stream",
          "name": "stderr",
          "text": [
            "100%|██████████| 235/235 [00:05<00:00, 44.53it/s]\n",
            "/usr/local/lib/python3.10/dist-packages/keras/src/engine/training.py:3103: UserWarning: You are saving your model as an HDF5 file via `model.save()`. This file format is considered legacy. We recommend using instead the native Keras format, e.g. `model.save('my_model.keras')`.\n",
            "  saving_api.save_model(\n",
            "WARNING:tensorflow:Compiled the loaded model, but the compiled metrics have yet to be built. `model.compile_metrics` will be empty until you train or evaluate the model.\n",
            "WARNING:tensorflow:Compiled the loaded model, but the compiled metrics have yet to be built. `model.compile_metrics` will be empty until you train or evaluate the model.\n",
            "WARNING:tensorflow:Compiled the loaded model, but the compiled metrics have yet to be built. `model.compile_metrics` will be empty until you train or evaluate the model.\n"
          ]
        },
        {
          "output_type": "stream",
          "name": "stdout",
          "text": [
            "Training acc over epoch: 0.7446\n",
            "Validation acc: 0.7535\n"
          ]
        },
        {
          "output_type": "stream",
          "name": "stderr",
          "text": [
            "\u001b[34m\u001b[1mwandb\u001b[0m: Adding directory to artifact (/content/wandb/run-20240626_005832-156h9rnf/files/model-best)... Done. 0.0s\n"
          ]
        },
        {
          "output_type": "stream",
          "name": "stdout",
          "text": [
            "\n",
            "Start of epoch 2\n"
          ]
        },
        {
          "output_type": "stream",
          "name": "stderr",
          "text": [
            "100%|██████████| 235/235 [00:05<00:00, 46.70it/s]\n",
            "/usr/local/lib/python3.10/dist-packages/keras/src/engine/training.py:3103: UserWarning: You are saving your model as an HDF5 file via `model.save()`. This file format is considered legacy. We recommend using instead the native Keras format, e.g. `model.save('my_model.keras')`.\n",
            "  saving_api.save_model(\n",
            "WARNING:tensorflow:Compiled the loaded model, but the compiled metrics have yet to be built. `model.compile_metrics` will be empty until you train or evaluate the model.\n",
            "WARNING:tensorflow:Compiled the loaded model, but the compiled metrics have yet to be built. `model.compile_metrics` will be empty until you train or evaluate the model.\n",
            "WARNING:tensorflow:Compiled the loaded model, but the compiled metrics have yet to be built. `model.compile_metrics` will be empty until you train or evaluate the model.\n"
          ]
        },
        {
          "output_type": "stream",
          "name": "stdout",
          "text": [
            "Training acc over epoch: 0.7877\n",
            "Validation acc: 0.7903\n"
          ]
        },
        {
          "output_type": "stream",
          "name": "stderr",
          "text": [
            "\u001b[34m\u001b[1mwandb\u001b[0m: Adding directory to artifact (/content/wandb/run-20240626_005832-156h9rnf/files/model-best)... Done. 0.0s\n"
          ]
        },
        {
          "output_type": "stream",
          "name": "stdout",
          "text": [
            "\n",
            "Start of epoch 3\n"
          ]
        },
        {
          "output_type": "stream",
          "name": "stderr",
          "text": [
            "100%|██████████| 235/235 [00:06<00:00, 37.27it/s]\n",
            "/usr/local/lib/python3.10/dist-packages/keras/src/engine/training.py:3103: UserWarning: You are saving your model as an HDF5 file via `model.save()`. This file format is considered legacy. We recommend using instead the native Keras format, e.g. `model.save('my_model.keras')`.\n",
            "  saving_api.save_model(\n",
            "WARNING:tensorflow:Compiled the loaded model, but the compiled metrics have yet to be built. `model.compile_metrics` will be empty until you train or evaluate the model.\n",
            "WARNING:tensorflow:Compiled the loaded model, but the compiled metrics have yet to be built. `model.compile_metrics` will be empty until you train or evaluate the model.\n",
            "WARNING:tensorflow:Compiled the loaded model, but the compiled metrics have yet to be built. `model.compile_metrics` will be empty until you train or evaluate the model.\n"
          ]
        },
        {
          "output_type": "stream",
          "name": "stdout",
          "text": [
            "Training acc over epoch: 0.8195\n",
            "Validation acc: 0.8397\n"
          ]
        },
        {
          "output_type": "stream",
          "name": "stderr",
          "text": [
            "\u001b[34m\u001b[1mwandb\u001b[0m: Adding directory to artifact (/content/wandb/run-20240626_005832-156h9rnf/files/model-best)... Done. 0.0s\n"
          ]
        },
        {
          "output_type": "stream",
          "name": "stdout",
          "text": [
            "\n",
            "Start of epoch 4\n"
          ]
        },
        {
          "output_type": "stream",
          "name": "stderr",
          "text": [
            "100%|██████████| 235/235 [00:06<00:00, 37.23it/s]\n",
            "/usr/local/lib/python3.10/dist-packages/keras/src/engine/training.py:3103: UserWarning: You are saving your model as an HDF5 file via `model.save()`. This file format is considered legacy. We recommend using instead the native Keras format, e.g. `model.save('my_model.keras')`.\n",
            "  saving_api.save_model(\n",
            "WARNING:tensorflow:Compiled the loaded model, but the compiled metrics have yet to be built. `model.compile_metrics` will be empty until you train or evaluate the model.\n",
            "WARNING:tensorflow:Compiled the loaded model, but the compiled metrics have yet to be built. `model.compile_metrics` will be empty until you train or evaluate the model.\n",
            "WARNING:tensorflow:Compiled the loaded model, but the compiled metrics have yet to be built. `model.compile_metrics` will be empty until you train or evaluate the model.\n"
          ]
        },
        {
          "output_type": "stream",
          "name": "stdout",
          "text": [
            "Training acc over epoch: 0.8425\n",
            "Validation acc: 0.8535\n"
          ]
        },
        {
          "output_type": "stream",
          "name": "stderr",
          "text": [
            "\u001b[34m\u001b[1mwandb\u001b[0m: Adding directory to artifact (/content/wandb/run-20240626_005832-156h9rnf/files/model-best)... Done. 0.0s\n"
          ]
        },
        {
          "output_type": "display_data",
          "data": {
            "text/plain": [
              "VBox(children=(Label(value='2.509 MB of 2.509 MB uploaded (0.033 MB deduped)\\r'), FloatProgress(value=1.0, max…"
            ],
            "application/vnd.jupyter.widget-view+json": {
              "version_major": 2,
              "version_minor": 0,
              "model_id": "a32f18562b244b5c890353c945924e9c"
            }
          },
          "metadata": {}
        },
        {
          "output_type": "display_data",
          "data": {
            "text/plain": [
              "<IPython.core.display.HTML object>"
            ],
            "text/html": [
              "W&B sync reduced upload amount by 1.2%             "
            ]
          },
          "metadata": {}
        },
        {
          "output_type": "display_data",
          "data": {
            "text/plain": [
              "<IPython.core.display.HTML object>"
            ],
            "text/html": [
              "<style>\n",
              "    table.wandb td:nth-child(1) { padding: 0 10px; text-align: left ; width: auto;} td:nth-child(2) {text-align: left ; width: 100%}\n",
              "    .wandb-row { display: flex; flex-direction: row; flex-wrap: wrap; justify-content: flex-start; width: 100% }\n",
              "    .wandb-col { display: flex; flex-direction: column; flex-basis: 100%; flex: 1; padding: 10px; }\n",
              "    </style>\n",
              "<div class=\"wandb-row\"><div class=\"wandb-col\"><h3>Run history:</h3><br/><table class=\"wandb\"><tr><td>acc</td><td>▁▁▄▄▆▆▇▇██</td></tr><tr><td>epoch</td><td>▁▁▃▃▅▅▆▆██</td></tr><tr><td>loss</td><td>██▂▂▂▂▁▁▁▁</td></tr><tr><td>val_acc</td><td>▁▁▃▃▅▅▇▇██</td></tr><tr><td>val_loss</td><td>██▅▅▃▃▂▂▁▁</td></tr></table><br/></div><div class=\"wandb-col\"><h3>Run summary:</h3><br/><table class=\"wandb\"><tr><td>acc</td><td>0.84252</td></tr><tr><td>best_epoch</td><td>4</td></tr><tr><td>best_val_loss</td><td>0.5897</td></tr><tr><td>epoch</td><td>4</td></tr><tr><td>loss</td><td>0.60242</td></tr><tr><td>val_acc</td><td>0.8535</td></tr><tr><td>val_loss</td><td>0.5897</td></tr></table><br/></div></div>"
            ]
          },
          "metadata": {}
        },
        {
          "output_type": "display_data",
          "data": {
            "text/plain": [
              "<IPython.core.display.HTML object>"
            ],
            "text/html": [
              " View run <strong style=\"color:#cdcd00\">major-sweep-3</strong> at: <a href='https://wandb.ai/bhavanarajannair/my-wand/runs/156h9rnf' target=\"_blank\">https://wandb.ai/bhavanarajannair/my-wand/runs/156h9rnf</a><br/> View project at: <a href='https://wandb.ai/bhavanarajannair/my-wand' target=\"_blank\">https://wandb.ai/bhavanarajannair/my-wand</a><br/>Synced 5 W&B file(s), 1 media file(s), 30 artifact file(s) and 1 other file(s)"
            ]
          },
          "metadata": {}
        },
        {
          "output_type": "display_data",
          "data": {
            "text/plain": [
              "<IPython.core.display.HTML object>"
            ],
            "text/html": [
              "Find logs at: <code>./wandb/run-20240626_005832-156h9rnf/logs</code>"
            ]
          },
          "metadata": {}
        },
        {
          "output_type": "display_data",
          "data": {
            "text/plain": [
              "<IPython.core.display.HTML object>"
            ],
            "text/html": [
              "The new W&B backend becomes opt-out in version 0.18.0; try it out with `wandb.require(\"core\")`! See https://wandb.me/wandb-core for more information."
            ]
          },
          "metadata": {}
        },
        {
          "output_type": "stream",
          "name": "stderr",
          "text": [
            "\u001b[34m\u001b[1mwandb\u001b[0m: Agent Starting Run: dw330a2g with config:\n",
            "\u001b[34m\u001b[1mwandb\u001b[0m: \tbatch_size: 64\n",
            "\u001b[34m\u001b[1mwandb\u001b[0m: \tlearning_rate: 0.0001\n"
          ]
        },
        {
          "output_type": "display_data",
          "data": {
            "text/plain": [
              "<IPython.core.display.HTML object>"
            ],
            "text/html": [
              "Tracking run with wandb version 0.17.3"
            ]
          },
          "metadata": {}
        },
        {
          "output_type": "display_data",
          "data": {
            "text/plain": [
              "<IPython.core.display.HTML object>"
            ],
            "text/html": [
              "Run data is saved locally in <code>/content/wandb/run-20240626_005928-dw330a2g</code>"
            ]
          },
          "metadata": {}
        },
        {
          "output_type": "display_data",
          "data": {
            "text/plain": [
              "<IPython.core.display.HTML object>"
            ],
            "text/html": [
              "Syncing run <strong><a href='https://wandb.ai/bhavanarajannair/my-wand/runs/dw330a2g' target=\"_blank\">fresh-sweep-4</a></strong> to <a href='https://wandb.ai/bhavanarajannair/my-wand' target=\"_blank\">Weights & Biases</a> (<a href='https://wandb.me/run' target=\"_blank\">docs</a>)<br/>Sweep page: <a href='https://wandb.ai/bhavanarajannair/my-wand/sweeps/3hah8sbm' target=\"_blank\">https://wandb.ai/bhavanarajannair/my-wand/sweeps/3hah8sbm</a>"
            ]
          },
          "metadata": {}
        },
        {
          "output_type": "display_data",
          "data": {
            "text/plain": [
              "<IPython.core.display.HTML object>"
            ],
            "text/html": [
              " View project at <a href='https://wandb.ai/bhavanarajannair/my-wand' target=\"_blank\">https://wandb.ai/bhavanarajannair/my-wand</a>"
            ]
          },
          "metadata": {}
        },
        {
          "output_type": "display_data",
          "data": {
            "text/plain": [
              "<IPython.core.display.HTML object>"
            ],
            "text/html": [
              " View sweep at <a href='https://wandb.ai/bhavanarajannair/my-wand/sweeps/3hah8sbm' target=\"_blank\">https://wandb.ai/bhavanarajannair/my-wand/sweeps/3hah8sbm</a>"
            ]
          },
          "metadata": {}
        },
        {
          "output_type": "display_data",
          "data": {
            "text/plain": [
              "<IPython.core.display.HTML object>"
            ],
            "text/html": [
              " View run at <a href='https://wandb.ai/bhavanarajannair/my-wand/runs/dw330a2g' target=\"_blank\">https://wandb.ai/bhavanarajannair/my-wand/runs/dw330a2g</a>"
            ]
          },
          "metadata": {}
        },
        {
          "output_type": "stream",
          "name": "stdout",
          "text": [
            "\n",
            "Start of epoch 0\n"
          ]
        },
        {
          "output_type": "stream",
          "name": "stderr",
          "text": [
            "100%|██████████| 938/938 [00:19<00:00, 46.92it/s]\n",
            "/usr/local/lib/python3.10/dist-packages/keras/src/engine/training.py:3103: UserWarning: You are saving your model as an HDF5 file via `model.save()`. This file format is considered legacy. We recommend using instead the native Keras format, e.g. `model.save('my_model.keras')`.\n",
            "  saving_api.save_model(\n",
            "WARNING:tensorflow:Compiled the loaded model, but the compiled metrics have yet to be built. `model.compile_metrics` will be empty until you train or evaluate the model.\n",
            "WARNING:tensorflow:Compiled the loaded model, but the compiled metrics have yet to be built. `model.compile_metrics` will be empty until you train or evaluate the model.\n",
            "WARNING:tensorflow:Compiled the loaded model, but the compiled metrics have yet to be built. `model.compile_metrics` will be empty until you train or evaluate the model.\n"
          ]
        },
        {
          "output_type": "stream",
          "name": "stdout",
          "text": [
            "Training acc over epoch: 0.6930\n",
            "Validation acc: 0.7891\n"
          ]
        },
        {
          "output_type": "stream",
          "name": "stderr",
          "text": [
            "\u001b[34m\u001b[1mwandb\u001b[0m: Adding directory to artifact (/content/wandb/run-20240626_005928-dw330a2g/files/model-best)... Done. 0.0s\n"
          ]
        },
        {
          "output_type": "stream",
          "name": "stdout",
          "text": [
            "\n",
            "Start of epoch 1\n"
          ]
        },
        {
          "output_type": "stream",
          "name": "stderr",
          "text": [
            "100%|██████████| 938/938 [00:20<00:00, 45.99it/s]\n",
            "/usr/local/lib/python3.10/dist-packages/keras/src/engine/training.py:3103: UserWarning: You are saving your model as an HDF5 file via `model.save()`. This file format is considered legacy. We recommend using instead the native Keras format, e.g. `model.save('my_model.keras')`.\n",
            "  saving_api.save_model(\n",
            "WARNING:tensorflow:Compiled the loaded model, but the compiled metrics have yet to be built. `model.compile_metrics` will be empty until you train or evaluate the model.\n"
          ]
        },
        {
          "output_type": "stream",
          "name": "stdout",
          "text": [
            "Training acc over epoch: 0.8110\n",
            "Validation acc: 0.8266\n"
          ]
        },
        {
          "output_type": "stream",
          "name": "stderr",
          "text": [
            "WARNING:tensorflow:Compiled the loaded model, but the compiled metrics have yet to be built. `model.compile_metrics` will be empty until you train or evaluate the model.\n",
            "WARNING:tensorflow:Compiled the loaded model, but the compiled metrics have yet to be built. `model.compile_metrics` will be empty until you train or evaluate the model.\n",
            "\u001b[34m\u001b[1mwandb\u001b[0m: Adding directory to artifact (/content/wandb/run-20240626_005928-dw330a2g/files/model-best)... Done. 0.0s\n"
          ]
        },
        {
          "output_type": "stream",
          "name": "stdout",
          "text": [
            "\n",
            "Start of epoch 2\n"
          ]
        },
        {
          "output_type": "stream",
          "name": "stderr",
          "text": [
            "100%|██████████| 938/938 [00:19<00:00, 47.39it/s]\n",
            "/usr/local/lib/python3.10/dist-packages/keras/src/engine/training.py:3103: UserWarning: You are saving your model as an HDF5 file via `model.save()`. This file format is considered legacy. We recommend using instead the native Keras format, e.g. `model.save('my_model.keras')`.\n",
            "  saving_api.save_model(\n",
            "WARNING:tensorflow:Compiled the loaded model, but the compiled metrics have yet to be built. `model.compile_metrics` will be empty until you train or evaluate the model.\n",
            "WARNING:tensorflow:Compiled the loaded model, but the compiled metrics have yet to be built. `model.compile_metrics` will be empty until you train or evaluate the model.\n",
            "WARNING:tensorflow:Compiled the loaded model, but the compiled metrics have yet to be built. `model.compile_metrics` will be empty until you train or evaluate the model.\n"
          ]
        },
        {
          "output_type": "stream",
          "name": "stdout",
          "text": [
            "Training acc over epoch: 0.8375\n",
            "Validation acc: 0.8413\n"
          ]
        },
        {
          "output_type": "stream",
          "name": "stderr",
          "text": [
            "\u001b[34m\u001b[1mwandb\u001b[0m: Adding directory to artifact (/content/wandb/run-20240626_005928-dw330a2g/files/model-best)... Done. 0.0s\n"
          ]
        },
        {
          "output_type": "stream",
          "name": "stdout",
          "text": [
            "\n",
            "Start of epoch 3\n"
          ]
        },
        {
          "output_type": "stream",
          "name": "stderr",
          "text": [
            "100%|██████████| 938/938 [00:19<00:00, 48.52it/s]\n",
            "/usr/local/lib/python3.10/dist-packages/keras/src/engine/training.py:3103: UserWarning: You are saving your model as an HDF5 file via `model.save()`. This file format is considered legacy. We recommend using instead the native Keras format, e.g. `model.save('my_model.keras')`.\n",
            "  saving_api.save_model(\n",
            "WARNING:tensorflow:Compiled the loaded model, but the compiled metrics have yet to be built. `model.compile_metrics` will be empty until you train or evaluate the model.\n",
            "WARNING:tensorflow:Compiled the loaded model, but the compiled metrics have yet to be built. `model.compile_metrics` will be empty until you train or evaluate the model.\n",
            "WARNING:tensorflow:Compiled the loaded model, but the compiled metrics have yet to be built. `model.compile_metrics` will be empty until you train or evaluate the model.\n"
          ]
        },
        {
          "output_type": "stream",
          "name": "stdout",
          "text": [
            "Training acc over epoch: 0.8525\n",
            "Validation acc: 0.8507\n"
          ]
        },
        {
          "output_type": "stream",
          "name": "stderr",
          "text": [
            "\u001b[34m\u001b[1mwandb\u001b[0m: Adding directory to artifact (/content/wandb/run-20240626_005928-dw330a2g/files/model-best)... Done. 0.0s\n"
          ]
        },
        {
          "output_type": "stream",
          "name": "stdout",
          "text": [
            "\n",
            "Start of epoch 4\n"
          ]
        },
        {
          "output_type": "stream",
          "name": "stderr",
          "text": [
            " 32%|███▏      | 300/938 [00:06<00:14, 43.29it/s]\n"
          ]
        },
        {
          "output_type": "display_data",
          "data": {
            "text/plain": [
              "VBox(children=(Label(value='2.008 MB of 2.008 MB uploaded (0.024 MB deduped)\\r'), FloatProgress(value=1.0, max…"
            ],
            "application/vnd.jupyter.widget-view+json": {
              "version_major": 2,
              "version_minor": 0,
              "model_id": "ee37b27f4ccf4c46bec87a53b3f6d0f4"
            }
          },
          "metadata": {}
        },
        {
          "output_type": "display_data",
          "data": {
            "text/plain": [
              "<IPython.core.display.HTML object>"
            ],
            "text/html": [
              "W&B sync reduced upload amount by 1.1%             "
            ]
          },
          "metadata": {}
        },
        {
          "output_type": "display_data",
          "data": {
            "text/plain": [
              "<IPython.core.display.HTML object>"
            ],
            "text/html": [
              "<style>\n",
              "    table.wandb td:nth-child(1) { padding: 0 10px; text-align: left ; width: auto;} td:nth-child(2) {text-align: left ; width: 100%}\n",
              "    .wandb-row { display: flex; flex-direction: row; flex-wrap: wrap; justify-content: flex-start; width: 100% }\n",
              "    .wandb-col { display: flex; flex-direction: column; flex-basis: 100%; flex: 1; padding: 10px; }\n",
              "    </style>\n",
              "<div class=\"wandb-row\"><div class=\"wandb-col\"><h3>Run history:</h3><br/><table class=\"wandb\"><tr><td>acc</td><td>▁▁▆▆▇▇██</td></tr><tr><td>epoch</td><td>▁▁▃▃▆▆██</td></tr><tr><td>loss</td><td>██▂▂▁▁▁▁</td></tr><tr><td>val_acc</td><td>▁▁▅▅▇▇██</td></tr><tr><td>val_loss</td><td>██▄▄▂▂▁▁</td></tr></table><br/></div><div class=\"wandb-col\"><h3>Run summary:</h3><br/><table class=\"wandb\"><tr><td>acc</td><td>0.85247</td></tr><tr><td>best_epoch</td><td>3</td></tr><tr><td>best_val_loss</td><td>1.012</td></tr><tr><td>epoch</td><td>3</td></tr><tr><td>loss</td><td>1.02163</td></tr><tr><td>val_acc</td><td>0.8507</td></tr><tr><td>val_loss</td><td>1.012</td></tr></table><br/></div></div>"
            ]
          },
          "metadata": {}
        },
        {
          "output_type": "display_data",
          "data": {
            "text/plain": [
              "<IPython.core.display.HTML object>"
            ],
            "text/html": [
              " View run <strong style=\"color:#cdcd00\">fresh-sweep-4</strong> at: <a href='https://wandb.ai/bhavanarajannair/my-wand/runs/dw330a2g' target=\"_blank\">https://wandb.ai/bhavanarajannair/my-wand/runs/dw330a2g</a><br/> View project at: <a href='https://wandb.ai/bhavanarajannair/my-wand' target=\"_blank\">https://wandb.ai/bhavanarajannair/my-wand</a><br/>Synced 5 W&B file(s), 1 media file(s), 24 artifact file(s) and 1 other file(s)"
            ]
          },
          "metadata": {}
        },
        {
          "output_type": "display_data",
          "data": {
            "text/plain": [
              "<IPython.core.display.HTML object>"
            ],
            "text/html": [
              "Find logs at: <code>./wandb/run-20240626_005928-dw330a2g/logs</code>"
            ]
          },
          "metadata": {}
        },
        {
          "output_type": "display_data",
          "data": {
            "text/plain": [
              "<IPython.core.display.HTML object>"
            ],
            "text/html": [
              "The new W&B backend becomes opt-out in version 0.18.0; try it out with `wandb.require(\"core\")`! See https://wandb.me/wandb-core for more information."
            ]
          },
          "metadata": {}
        },
        {
          "output_type": "stream",
          "name": "stderr",
          "text": [
            "\u001b[34m\u001b[1mwandb\u001b[0m: Agent Starting Run: ncxt86uo with config:\n",
            "\u001b[34m\u001b[1mwandb\u001b[0m: \tbatch_size: 256\n",
            "\u001b[34m\u001b[1mwandb\u001b[0m: \tlearning_rate: 0.0001\n"
          ]
        },
        {
          "output_type": "display_data",
          "data": {
            "text/plain": [
              "<IPython.core.display.HTML object>"
            ],
            "text/html": [
              "Tracking run with wandb version 0.17.3"
            ]
          },
          "metadata": {}
        },
        {
          "output_type": "display_data",
          "data": {
            "text/plain": [
              "<IPython.core.display.HTML object>"
            ],
            "text/html": [
              "Run data is saved locally in <code>/content/wandb/run-20240626_010119-ncxt86uo</code>"
            ]
          },
          "metadata": {}
        },
        {
          "output_type": "display_data",
          "data": {
            "text/plain": [
              "<IPython.core.display.HTML object>"
            ],
            "text/html": [
              "Syncing run <strong><a href='https://wandb.ai/bhavanarajannair/my-wand/runs/ncxt86uo' target=\"_blank\">fluent-sweep-5</a></strong> to <a href='https://wandb.ai/bhavanarajannair/my-wand' target=\"_blank\">Weights & Biases</a> (<a href='https://wandb.me/run' target=\"_blank\">docs</a>)<br/>Sweep page: <a href='https://wandb.ai/bhavanarajannair/my-wand/sweeps/3hah8sbm' target=\"_blank\">https://wandb.ai/bhavanarajannair/my-wand/sweeps/3hah8sbm</a>"
            ]
          },
          "metadata": {}
        },
        {
          "output_type": "display_data",
          "data": {
            "text/plain": [
              "<IPython.core.display.HTML object>"
            ],
            "text/html": [
              " View project at <a href='https://wandb.ai/bhavanarajannair/my-wand' target=\"_blank\">https://wandb.ai/bhavanarajannair/my-wand</a>"
            ]
          },
          "metadata": {}
        },
        {
          "output_type": "display_data",
          "data": {
            "text/plain": [
              "<IPython.core.display.HTML object>"
            ],
            "text/html": [
              " View sweep at <a href='https://wandb.ai/bhavanarajannair/my-wand/sweeps/3hah8sbm' target=\"_blank\">https://wandb.ai/bhavanarajannair/my-wand/sweeps/3hah8sbm</a>"
            ]
          },
          "metadata": {}
        },
        {
          "output_type": "display_data",
          "data": {
            "text/plain": [
              "<IPython.core.display.HTML object>"
            ],
            "text/html": [
              " View run at <a href='https://wandb.ai/bhavanarajannair/my-wand/runs/ncxt86uo' target=\"_blank\">https://wandb.ai/bhavanarajannair/my-wand/runs/ncxt86uo</a>"
            ]
          },
          "metadata": {}
        },
        {
          "output_type": "stream",
          "name": "stdout",
          "text": [
            "\n",
            "Start of epoch 0\n"
          ]
        },
        {
          "output_type": "stream",
          "name": "stderr",
          "text": [
            "100%|██████████| 235/235 [00:06<00:00, 39.00it/s]\n",
            "/usr/local/lib/python3.10/dist-packages/keras/src/engine/training.py:3103: UserWarning: You are saving your model as an HDF5 file via `model.save()`. This file format is considered legacy. We recommend using instead the native Keras format, e.g. `model.save('my_model.keras')`.\n",
            "  saving_api.save_model(\n",
            "WARNING:tensorflow:Compiled the loaded model, but the compiled metrics have yet to be built. `model.compile_metrics` will be empty until you train or evaluate the model.\n",
            "WARNING:tensorflow:Compiled the loaded model, but the compiled metrics have yet to be built. `model.compile_metrics` will be empty until you train or evaluate the model.\n",
            "WARNING:tensorflow:Compiled the loaded model, but the compiled metrics have yet to be built. `model.compile_metrics` will be empty until you train or evaluate the model.\n"
          ]
        },
        {
          "output_type": "stream",
          "name": "stdout",
          "text": [
            "Training acc over epoch: 0.5030\n",
            "Validation acc: 0.6421\n"
          ]
        },
        {
          "output_type": "stream",
          "name": "stderr",
          "text": [
            "\u001b[34m\u001b[1mwandb\u001b[0m: Adding directory to artifact (/content/wandb/run-20240626_010119-ncxt86uo/files/model-best)... Done. 0.0s\n"
          ]
        },
        {
          "output_type": "stream",
          "name": "stdout",
          "text": [
            "\n",
            "Start of epoch 1\n"
          ]
        },
        {
          "output_type": "stream",
          "name": "stderr",
          "text": [
            "100%|██████████| 235/235 [00:05<00:00, 43.09it/s]\n",
            "/usr/local/lib/python3.10/dist-packages/keras/src/engine/training.py:3103: UserWarning: You are saving your model as an HDF5 file via `model.save()`. This file format is considered legacy. We recommend using instead the native Keras format, e.g. `model.save('my_model.keras')`.\n",
            "  saving_api.save_model(\n",
            "WARNING:tensorflow:Compiled the loaded model, but the compiled metrics have yet to be built. `model.compile_metrics` will be empty until you train or evaluate the model.\n",
            "WARNING:tensorflow:Compiled the loaded model, but the compiled metrics have yet to be built. `model.compile_metrics` will be empty until you train or evaluate the model.\n"
          ]
        },
        {
          "output_type": "stream",
          "name": "stdout",
          "text": [
            "Training acc over epoch: 0.6798\n",
            "Validation acc: 0.7133\n"
          ]
        },
        {
          "output_type": "stream",
          "name": "stderr",
          "text": [
            "WARNING:tensorflow:Compiled the loaded model, but the compiled metrics have yet to be built. `model.compile_metrics` will be empty until you train or evaluate the model.\n",
            "\u001b[34m\u001b[1mwandb\u001b[0m: Adding directory to artifact (/content/wandb/run-20240626_010119-ncxt86uo/files/model-best)... Done. 0.0s\n"
          ]
        },
        {
          "output_type": "stream",
          "name": "stdout",
          "text": [
            "\n",
            "Start of epoch 2\n"
          ]
        },
        {
          "output_type": "stream",
          "name": "stderr",
          "text": [
            "100%|██████████| 235/235 [00:05<00:00, 41.79it/s]\n",
            "/usr/local/lib/python3.10/dist-packages/keras/src/engine/training.py:3103: UserWarning: You are saving your model as an HDF5 file via `model.save()`. This file format is considered legacy. We recommend using instead the native Keras format, e.g. `model.save('my_model.keras')`.\n",
            "  saving_api.save_model(\n",
            "WARNING:tensorflow:Compiled the loaded model, but the compiled metrics have yet to be built. `model.compile_metrics` will be empty until you train or evaluate the model.\n",
            "WARNING:tensorflow:Compiled the loaded model, but the compiled metrics have yet to be built. `model.compile_metrics` will be empty until you train or evaluate the model.\n",
            "WARNING:tensorflow:Compiled the loaded model, but the compiled metrics have yet to be built. `model.compile_metrics` will be empty until you train or evaluate the model.\n"
          ]
        },
        {
          "output_type": "stream",
          "name": "stdout",
          "text": [
            "Training acc over epoch: 0.7261\n",
            "Validation acc: 0.7459\n"
          ]
        },
        {
          "output_type": "stream",
          "name": "stderr",
          "text": [
            "\u001b[34m\u001b[1mwandb\u001b[0m: Adding directory to artifact (/content/wandb/run-20240626_010119-ncxt86uo/files/model-best)... Done. 0.0s\n"
          ]
        },
        {
          "output_type": "stream",
          "name": "stdout",
          "text": [
            "\n",
            "Start of epoch 3\n"
          ]
        },
        {
          "output_type": "stream",
          "name": "stderr",
          "text": [
            "100%|██████████| 235/235 [00:05<00:00, 42.92it/s]\n",
            "/usr/local/lib/python3.10/dist-packages/keras/src/engine/training.py:3103: UserWarning: You are saving your model as an HDF5 file via `model.save()`. This file format is considered legacy. We recommend using instead the native Keras format, e.g. `model.save('my_model.keras')`.\n",
            "  saving_api.save_model(\n",
            "WARNING:tensorflow:Compiled the loaded model, but the compiled metrics have yet to be built. `model.compile_metrics` will be empty until you train or evaluate the model.\n",
            "WARNING:tensorflow:Compiled the loaded model, but the compiled metrics have yet to be built. `model.compile_metrics` will be empty until you train or evaluate the model.\n",
            "WARNING:tensorflow:Compiled the loaded model, but the compiled metrics have yet to be built. `model.compile_metrics` will be empty until you train or evaluate the model.\n"
          ]
        },
        {
          "output_type": "stream",
          "name": "stdout",
          "text": [
            "Training acc over epoch: 0.7516\n",
            "Validation acc: 0.7658\n"
          ]
        },
        {
          "output_type": "stream",
          "name": "stderr",
          "text": [
            "\u001b[34m\u001b[1mwandb\u001b[0m: Adding directory to artifact (/content/wandb/run-20240626_010119-ncxt86uo/files/model-best)... Done. 0.0s\n"
          ]
        },
        {
          "output_type": "stream",
          "name": "stdout",
          "text": [
            "\n",
            "Start of epoch 4\n"
          ]
        },
        {
          "output_type": "stream",
          "name": "stderr",
          "text": [
            " 74%|███████▍  | 174/235 [00:03<00:01, 45.39it/s]\n"
          ]
        },
        {
          "output_type": "display_data",
          "data": {
            "text/plain": [
              "VBox(children=(Label(value='2.009 MB of 2.250 MB uploaded (0.024 MB deduped)\\r'), FloatProgress(value=0.892890…"
            ],
            "application/vnd.jupyter.widget-view+json": {
              "version_major": 2,
              "version_minor": 0,
              "model_id": "bf31a4e792d147f89ded6b3f83e8cb49"
            }
          },
          "metadata": {}
        },
        {
          "output_type": "display_data",
          "data": {
            "text/plain": [
              "<IPython.core.display.HTML object>"
            ],
            "text/html": [
              "W&B sync reduced upload amount by 1.1%             "
            ]
          },
          "metadata": {}
        },
        {
          "output_type": "display_data",
          "data": {
            "text/plain": [
              "<IPython.core.display.HTML object>"
            ],
            "text/html": [
              "<style>\n",
              "    table.wandb td:nth-child(1) { padding: 0 10px; text-align: left ; width: auto;} td:nth-child(2) {text-align: left ; width: 100%}\n",
              "    .wandb-row { display: flex; flex-direction: row; flex-wrap: wrap; justify-content: flex-start; width: 100% }\n",
              "    .wandb-col { display: flex; flex-direction: column; flex-basis: 100%; flex: 1; padding: 10px; }\n",
              "    </style>\n",
              "<div class=\"wandb-row\"><div class=\"wandb-col\"><h3>Run history:</h3><br/><table class=\"wandb\"><tr><td>acc</td><td>▁▁▆▆▇▇██</td></tr><tr><td>epoch</td><td>▁▁▃▃▆▆██</td></tr><tr><td>loss</td><td>██▂▂▁▁▁▁</td></tr><tr><td>val_acc</td><td>▁▁▅▅▇▇██</td></tr><tr><td>val_loss</td><td>██▄▄▂▂▁▁</td></tr></table><br/></div><div class=\"wandb-col\"><h3>Run summary:</h3><br/><table class=\"wandb\"><tr><td>acc</td><td>0.7516</td></tr><tr><td>best_epoch</td><td>3</td></tr><tr><td>best_val_loss</td><td>2.04183</td></tr><tr><td>epoch</td><td>3</td></tr><tr><td>loss</td><td>2.27882</td></tr><tr><td>val_acc</td><td>0.7658</td></tr><tr><td>val_loss</td><td>2.04183</td></tr></table><br/></div></div>"
            ]
          },
          "metadata": {}
        },
        {
          "output_type": "display_data",
          "data": {
            "text/plain": [
              "<IPython.core.display.HTML object>"
            ],
            "text/html": [
              " View run <strong style=\"color:#cdcd00\">fluent-sweep-5</strong> at: <a href='https://wandb.ai/bhavanarajannair/my-wand/runs/ncxt86uo' target=\"_blank\">https://wandb.ai/bhavanarajannair/my-wand/runs/ncxt86uo</a><br/> View project at: <a href='https://wandb.ai/bhavanarajannair/my-wand' target=\"_blank\">https://wandb.ai/bhavanarajannair/my-wand</a><br/>Synced 5 W&B file(s), 1 media file(s), 24 artifact file(s) and 1 other file(s)"
            ]
          },
          "metadata": {}
        },
        {
          "output_type": "display_data",
          "data": {
            "text/plain": [
              "<IPython.core.display.HTML object>"
            ],
            "text/html": [
              "Find logs at: <code>./wandb/run-20240626_010119-ncxt86uo/logs</code>"
            ]
          },
          "metadata": {}
        },
        {
          "output_type": "display_data",
          "data": {
            "text/plain": [
              "<IPython.core.display.HTML object>"
            ],
            "text/html": [
              "The new W&B backend becomes opt-out in version 0.18.0; try it out with `wandb.require(\"core\")`! See https://wandb.me/wandb-core for more information."
            ]
          },
          "metadata": {}
        }
      ]
    },
    {
      "cell_type": "markdown",
      "source": [
        "# **RESOURCES**"
      ],
      "metadata": {
        "id": "QSTlQULPKYjt"
      }
    },
    {
      "cell_type": "markdown",
      "source": [
        "https://docs.wandb.ai/tutorials\n",
        "\n",
        "https://docs.wandb.ai/guides/models\n",
        "\n",
        "some sections of code or idea is taken from the official wandb tutorials\n",
        "\n",
        "NB: There are some known integration issues for wandb and keras3. The wandb community is a really helpful resource."
      ],
      "metadata": {
        "id": "Jfc84VnYMAor"
      }
    }
  ],
  "metadata": {
    "colab": {
      "provenance": []
    },
    "kernelspec": {
      "display_name": "Python 3",
      "name": "python3"
    },
    "language_info": {
      "name": "python"
    },
    "widgets": {
      "application/vnd.jupyter.widget-state+json": {
        "57daca5382d54ae9928f5ce04a1f90b9": {
          "model_module": "@jupyter-widgets/controls",
          "model_name": "VBoxModel",
          "model_module_version": "1.5.0",
          "state": {
            "_dom_classes": [],
            "_model_module": "@jupyter-widgets/controls",
            "_model_module_version": "1.5.0",
            "_model_name": "VBoxModel",
            "_view_count": null,
            "_view_module": "@jupyter-widgets/controls",
            "_view_module_version": "1.5.0",
            "_view_name": "VBoxView",
            "box_style": "",
            "children": [
              "IPY_MODEL_2741c4cd53b04e178d99016ba9f41776",
              "IPY_MODEL_0866d5292f7b4e25a169bfa614869f50"
            ],
            "layout": "IPY_MODEL_fa1a5216e0154bcfa73cdbcf3147e844"
          }
        },
        "2741c4cd53b04e178d99016ba9f41776": {
          "model_module": "@jupyter-widgets/controls",
          "model_name": "LabelModel",
          "model_module_version": "1.5.0",
          "state": {
            "_dom_classes": [],
            "_model_module": "@jupyter-widgets/controls",
            "_model_module_version": "1.5.0",
            "_model_name": "LabelModel",
            "_view_count": null,
            "_view_module": "@jupyter-widgets/controls",
            "_view_module_version": "1.5.0",
            "_view_name": "LabelView",
            "description": "",
            "description_tooltip": null,
            "layout": "IPY_MODEL_4ecf90a2b48f495fbd14c3abef4719b7",
            "placeholder": "​",
            "style": "IPY_MODEL_54e96296de35491c9e00d9ce677c10a4",
            "value": "0.011 MB of 0.011 MB uploaded\r"
          }
        },
        "0866d5292f7b4e25a169bfa614869f50": {
          "model_module": "@jupyter-widgets/controls",
          "model_name": "FloatProgressModel",
          "model_module_version": "1.5.0",
          "state": {
            "_dom_classes": [],
            "_model_module": "@jupyter-widgets/controls",
            "_model_module_version": "1.5.0",
            "_model_name": "FloatProgressModel",
            "_view_count": null,
            "_view_module": "@jupyter-widgets/controls",
            "_view_module_version": "1.5.0",
            "_view_name": "ProgressView",
            "bar_style": "",
            "description": "",
            "description_tooltip": null,
            "layout": "IPY_MODEL_c21991f83c914a5ea384aba2c3ad9d9c",
            "max": 1,
            "min": 0,
            "orientation": "horizontal",
            "style": "IPY_MODEL_67628d85daa04d2981ebc52902b99542",
            "value": 1
          }
        },
        "fa1a5216e0154bcfa73cdbcf3147e844": {
          "model_module": "@jupyter-widgets/base",
          "model_name": "LayoutModel",
          "model_module_version": "1.2.0",
          "state": {
            "_model_module": "@jupyter-widgets/base",
            "_model_module_version": "1.2.0",
            "_model_name": "LayoutModel",
            "_view_count": null,
            "_view_module": "@jupyter-widgets/base",
            "_view_module_version": "1.2.0",
            "_view_name": "LayoutView",
            "align_content": null,
            "align_items": null,
            "align_self": null,
            "border": null,
            "bottom": null,
            "display": null,
            "flex": null,
            "flex_flow": null,
            "grid_area": null,
            "grid_auto_columns": null,
            "grid_auto_flow": null,
            "grid_auto_rows": null,
            "grid_column": null,
            "grid_gap": null,
            "grid_row": null,
            "grid_template_areas": null,
            "grid_template_columns": null,
            "grid_template_rows": null,
            "height": null,
            "justify_content": null,
            "justify_items": null,
            "left": null,
            "margin": null,
            "max_height": null,
            "max_width": null,
            "min_height": null,
            "min_width": null,
            "object_fit": null,
            "object_position": null,
            "order": null,
            "overflow": null,
            "overflow_x": null,
            "overflow_y": null,
            "padding": null,
            "right": null,
            "top": null,
            "visibility": null,
            "width": null
          }
        },
        "4ecf90a2b48f495fbd14c3abef4719b7": {
          "model_module": "@jupyter-widgets/base",
          "model_name": "LayoutModel",
          "model_module_version": "1.2.0",
          "state": {
            "_model_module": "@jupyter-widgets/base",
            "_model_module_version": "1.2.0",
            "_model_name": "LayoutModel",
            "_view_count": null,
            "_view_module": "@jupyter-widgets/base",
            "_view_module_version": "1.2.0",
            "_view_name": "LayoutView",
            "align_content": null,
            "align_items": null,
            "align_self": null,
            "border": null,
            "bottom": null,
            "display": null,
            "flex": null,
            "flex_flow": null,
            "grid_area": null,
            "grid_auto_columns": null,
            "grid_auto_flow": null,
            "grid_auto_rows": null,
            "grid_column": null,
            "grid_gap": null,
            "grid_row": null,
            "grid_template_areas": null,
            "grid_template_columns": null,
            "grid_template_rows": null,
            "height": null,
            "justify_content": null,
            "justify_items": null,
            "left": null,
            "margin": null,
            "max_height": null,
            "max_width": null,
            "min_height": null,
            "min_width": null,
            "object_fit": null,
            "object_position": null,
            "order": null,
            "overflow": null,
            "overflow_x": null,
            "overflow_y": null,
            "padding": null,
            "right": null,
            "top": null,
            "visibility": null,
            "width": null
          }
        },
        "54e96296de35491c9e00d9ce677c10a4": {
          "model_module": "@jupyter-widgets/controls",
          "model_name": "DescriptionStyleModel",
          "model_module_version": "1.5.0",
          "state": {
            "_model_module": "@jupyter-widgets/controls",
            "_model_module_version": "1.5.0",
            "_model_name": "DescriptionStyleModel",
            "_view_count": null,
            "_view_module": "@jupyter-widgets/base",
            "_view_module_version": "1.2.0",
            "_view_name": "StyleView",
            "description_width": ""
          }
        },
        "c21991f83c914a5ea384aba2c3ad9d9c": {
          "model_module": "@jupyter-widgets/base",
          "model_name": "LayoutModel",
          "model_module_version": "1.2.0",
          "state": {
            "_model_module": "@jupyter-widgets/base",
            "_model_module_version": "1.2.0",
            "_model_name": "LayoutModel",
            "_view_count": null,
            "_view_module": "@jupyter-widgets/base",
            "_view_module_version": "1.2.0",
            "_view_name": "LayoutView",
            "align_content": null,
            "align_items": null,
            "align_self": null,
            "border": null,
            "bottom": null,
            "display": null,
            "flex": null,
            "flex_flow": null,
            "grid_area": null,
            "grid_auto_columns": null,
            "grid_auto_flow": null,
            "grid_auto_rows": null,
            "grid_column": null,
            "grid_gap": null,
            "grid_row": null,
            "grid_template_areas": null,
            "grid_template_columns": null,
            "grid_template_rows": null,
            "height": null,
            "justify_content": null,
            "justify_items": null,
            "left": null,
            "margin": null,
            "max_height": null,
            "max_width": null,
            "min_height": null,
            "min_width": null,
            "object_fit": null,
            "object_position": null,
            "order": null,
            "overflow": null,
            "overflow_x": null,
            "overflow_y": null,
            "padding": null,
            "right": null,
            "top": null,
            "visibility": null,
            "width": null
          }
        },
        "67628d85daa04d2981ebc52902b99542": {
          "model_module": "@jupyter-widgets/controls",
          "model_name": "ProgressStyleModel",
          "model_module_version": "1.5.0",
          "state": {
            "_model_module": "@jupyter-widgets/controls",
            "_model_module_version": "1.5.0",
            "_model_name": "ProgressStyleModel",
            "_view_count": null,
            "_view_module": "@jupyter-widgets/base",
            "_view_module_version": "1.2.0",
            "_view_name": "StyleView",
            "bar_color": null,
            "description_width": ""
          }
        },
        "d8f10b921e1f4bf799615f062a3cc24a": {
          "model_module": "@jupyter-widgets/controls",
          "model_name": "VBoxModel",
          "model_module_version": "1.5.0",
          "state": {
            "_dom_classes": [],
            "_model_module": "@jupyter-widgets/controls",
            "_model_module_version": "1.5.0",
            "_model_name": "VBoxModel",
            "_view_count": null,
            "_view_module": "@jupyter-widgets/controls",
            "_view_module_version": "1.5.0",
            "_view_name": "VBoxView",
            "box_style": "",
            "children": [
              "IPY_MODEL_981ffbbdbd414435b23dccfb6ecc05bc",
              "IPY_MODEL_95cb4a11a68e4615a3a2b3984c5bbded"
            ],
            "layout": "IPY_MODEL_55eb340c183b4f80845fba27ebfef22d"
          }
        },
        "981ffbbdbd414435b23dccfb6ecc05bc": {
          "model_module": "@jupyter-widgets/controls",
          "model_name": "LabelModel",
          "model_module_version": "1.5.0",
          "state": {
            "_dom_classes": [],
            "_model_module": "@jupyter-widgets/controls",
            "_model_module_version": "1.5.0",
            "_model_name": "LabelModel",
            "_view_count": null,
            "_view_module": "@jupyter-widgets/controls",
            "_view_module_version": "1.5.0",
            "_view_name": "LabelView",
            "description": "",
            "description_tooltip": null,
            "layout": "IPY_MODEL_de34705eeb0a4b88a760968f19d81228",
            "placeholder": "​",
            "style": "IPY_MODEL_52d004c60864446084c7d6a49a20fb57",
            "value": "0.012 MB of 0.012 MB uploaded\r"
          }
        },
        "95cb4a11a68e4615a3a2b3984c5bbded": {
          "model_module": "@jupyter-widgets/controls",
          "model_name": "FloatProgressModel",
          "model_module_version": "1.5.0",
          "state": {
            "_dom_classes": [],
            "_model_module": "@jupyter-widgets/controls",
            "_model_module_version": "1.5.0",
            "_model_name": "FloatProgressModel",
            "_view_count": null,
            "_view_module": "@jupyter-widgets/controls",
            "_view_module_version": "1.5.0",
            "_view_name": "ProgressView",
            "bar_style": "",
            "description": "",
            "description_tooltip": null,
            "layout": "IPY_MODEL_3d459506beb24d34b89c5e84dc0fe52f",
            "max": 1,
            "min": 0,
            "orientation": "horizontal",
            "style": "IPY_MODEL_6b6be51092f64f2d9bab784b8764afb4",
            "value": 1
          }
        },
        "55eb340c183b4f80845fba27ebfef22d": {
          "model_module": "@jupyter-widgets/base",
          "model_name": "LayoutModel",
          "model_module_version": "1.2.0",
          "state": {
            "_model_module": "@jupyter-widgets/base",
            "_model_module_version": "1.2.0",
            "_model_name": "LayoutModel",
            "_view_count": null,
            "_view_module": "@jupyter-widgets/base",
            "_view_module_version": "1.2.0",
            "_view_name": "LayoutView",
            "align_content": null,
            "align_items": null,
            "align_self": null,
            "border": null,
            "bottom": null,
            "display": null,
            "flex": null,
            "flex_flow": null,
            "grid_area": null,
            "grid_auto_columns": null,
            "grid_auto_flow": null,
            "grid_auto_rows": null,
            "grid_column": null,
            "grid_gap": null,
            "grid_row": null,
            "grid_template_areas": null,
            "grid_template_columns": null,
            "grid_template_rows": null,
            "height": null,
            "justify_content": null,
            "justify_items": null,
            "left": null,
            "margin": null,
            "max_height": null,
            "max_width": null,
            "min_height": null,
            "min_width": null,
            "object_fit": null,
            "object_position": null,
            "order": null,
            "overflow": null,
            "overflow_x": null,
            "overflow_y": null,
            "padding": null,
            "right": null,
            "top": null,
            "visibility": null,
            "width": null
          }
        },
        "de34705eeb0a4b88a760968f19d81228": {
          "model_module": "@jupyter-widgets/base",
          "model_name": "LayoutModel",
          "model_module_version": "1.2.0",
          "state": {
            "_model_module": "@jupyter-widgets/base",
            "_model_module_version": "1.2.0",
            "_model_name": "LayoutModel",
            "_view_count": null,
            "_view_module": "@jupyter-widgets/base",
            "_view_module_version": "1.2.0",
            "_view_name": "LayoutView",
            "align_content": null,
            "align_items": null,
            "align_self": null,
            "border": null,
            "bottom": null,
            "display": null,
            "flex": null,
            "flex_flow": null,
            "grid_area": null,
            "grid_auto_columns": null,
            "grid_auto_flow": null,
            "grid_auto_rows": null,
            "grid_column": null,
            "grid_gap": null,
            "grid_row": null,
            "grid_template_areas": null,
            "grid_template_columns": null,
            "grid_template_rows": null,
            "height": null,
            "justify_content": null,
            "justify_items": null,
            "left": null,
            "margin": null,
            "max_height": null,
            "max_width": null,
            "min_height": null,
            "min_width": null,
            "object_fit": null,
            "object_position": null,
            "order": null,
            "overflow": null,
            "overflow_x": null,
            "overflow_y": null,
            "padding": null,
            "right": null,
            "top": null,
            "visibility": null,
            "width": null
          }
        },
        "52d004c60864446084c7d6a49a20fb57": {
          "model_module": "@jupyter-widgets/controls",
          "model_name": "DescriptionStyleModel",
          "model_module_version": "1.5.0",
          "state": {
            "_model_module": "@jupyter-widgets/controls",
            "_model_module_version": "1.5.0",
            "_model_name": "DescriptionStyleModel",
            "_view_count": null,
            "_view_module": "@jupyter-widgets/base",
            "_view_module_version": "1.2.0",
            "_view_name": "StyleView",
            "description_width": ""
          }
        },
        "3d459506beb24d34b89c5e84dc0fe52f": {
          "model_module": "@jupyter-widgets/base",
          "model_name": "LayoutModel",
          "model_module_version": "1.2.0",
          "state": {
            "_model_module": "@jupyter-widgets/base",
            "_model_module_version": "1.2.0",
            "_model_name": "LayoutModel",
            "_view_count": null,
            "_view_module": "@jupyter-widgets/base",
            "_view_module_version": "1.2.0",
            "_view_name": "LayoutView",
            "align_content": null,
            "align_items": null,
            "align_self": null,
            "border": null,
            "bottom": null,
            "display": null,
            "flex": null,
            "flex_flow": null,
            "grid_area": null,
            "grid_auto_columns": null,
            "grid_auto_flow": null,
            "grid_auto_rows": null,
            "grid_column": null,
            "grid_gap": null,
            "grid_row": null,
            "grid_template_areas": null,
            "grid_template_columns": null,
            "grid_template_rows": null,
            "height": null,
            "justify_content": null,
            "justify_items": null,
            "left": null,
            "margin": null,
            "max_height": null,
            "max_width": null,
            "min_height": null,
            "min_width": null,
            "object_fit": null,
            "object_position": null,
            "order": null,
            "overflow": null,
            "overflow_x": null,
            "overflow_y": null,
            "padding": null,
            "right": null,
            "top": null,
            "visibility": null,
            "width": null
          }
        },
        "6b6be51092f64f2d9bab784b8764afb4": {
          "model_module": "@jupyter-widgets/controls",
          "model_name": "ProgressStyleModel",
          "model_module_version": "1.5.0",
          "state": {
            "_model_module": "@jupyter-widgets/controls",
            "_model_module_version": "1.5.0",
            "_model_name": "ProgressStyleModel",
            "_view_count": null,
            "_view_module": "@jupyter-widgets/base",
            "_view_module_version": "1.2.0",
            "_view_name": "StyleView",
            "bar_color": null,
            "description_width": ""
          }
        },
        "f05767dc92664a92aef483c3b7c34aee": {
          "model_module": "@jupyter-widgets/controls",
          "model_name": "VBoxModel",
          "model_module_version": "1.5.0",
          "state": {
            "_dom_classes": [],
            "_model_module": "@jupyter-widgets/controls",
            "_model_module_version": "1.5.0",
            "_model_name": "VBoxModel",
            "_view_count": null,
            "_view_module": "@jupyter-widgets/controls",
            "_view_module_version": "1.5.0",
            "_view_name": "VBoxView",
            "box_style": "",
            "children": [
              "IPY_MODEL_f72d3c7e952c4160b260ac670e82c172",
              "IPY_MODEL_4c182a04f4bb4a95a4d51071139a1f06"
            ],
            "layout": "IPY_MODEL_1b9db34d9c0e49779d98771cd01b5585"
          }
        },
        "f72d3c7e952c4160b260ac670e82c172": {
          "model_module": "@jupyter-widgets/controls",
          "model_name": "LabelModel",
          "model_module_version": "1.5.0",
          "state": {
            "_dom_classes": [],
            "_model_module": "@jupyter-widgets/controls",
            "_model_module_version": "1.5.0",
            "_model_name": "LabelModel",
            "_view_count": null,
            "_view_module": "@jupyter-widgets/controls",
            "_view_module_version": "1.5.0",
            "_view_name": "LabelView",
            "description": "",
            "description_tooltip": null,
            "layout": "IPY_MODEL_2558aa66b7b84e4da159a8cd5e55e4e2",
            "placeholder": "​",
            "style": "IPY_MODEL_b17f4bcb8265496b96b12e92fce89138",
            "value": "0.011 MB of 0.011 MB uploaded\r"
          }
        },
        "4c182a04f4bb4a95a4d51071139a1f06": {
          "model_module": "@jupyter-widgets/controls",
          "model_name": "FloatProgressModel",
          "model_module_version": "1.5.0",
          "state": {
            "_dom_classes": [],
            "_model_module": "@jupyter-widgets/controls",
            "_model_module_version": "1.5.0",
            "_model_name": "FloatProgressModel",
            "_view_count": null,
            "_view_module": "@jupyter-widgets/controls",
            "_view_module_version": "1.5.0",
            "_view_name": "ProgressView",
            "bar_style": "",
            "description": "",
            "description_tooltip": null,
            "layout": "IPY_MODEL_38d5226317e8450da0b99286f3d57766",
            "max": 1,
            "min": 0,
            "orientation": "horizontal",
            "style": "IPY_MODEL_0d84ff1d21654c6b9e10a1aa25a93c29",
            "value": 1
          }
        },
        "1b9db34d9c0e49779d98771cd01b5585": {
          "model_module": "@jupyter-widgets/base",
          "model_name": "LayoutModel",
          "model_module_version": "1.2.0",
          "state": {
            "_model_module": "@jupyter-widgets/base",
            "_model_module_version": "1.2.0",
            "_model_name": "LayoutModel",
            "_view_count": null,
            "_view_module": "@jupyter-widgets/base",
            "_view_module_version": "1.2.0",
            "_view_name": "LayoutView",
            "align_content": null,
            "align_items": null,
            "align_self": null,
            "border": null,
            "bottom": null,
            "display": null,
            "flex": null,
            "flex_flow": null,
            "grid_area": null,
            "grid_auto_columns": null,
            "grid_auto_flow": null,
            "grid_auto_rows": null,
            "grid_column": null,
            "grid_gap": null,
            "grid_row": null,
            "grid_template_areas": null,
            "grid_template_columns": null,
            "grid_template_rows": null,
            "height": null,
            "justify_content": null,
            "justify_items": null,
            "left": null,
            "margin": null,
            "max_height": null,
            "max_width": null,
            "min_height": null,
            "min_width": null,
            "object_fit": null,
            "object_position": null,
            "order": null,
            "overflow": null,
            "overflow_x": null,
            "overflow_y": null,
            "padding": null,
            "right": null,
            "top": null,
            "visibility": null,
            "width": null
          }
        },
        "2558aa66b7b84e4da159a8cd5e55e4e2": {
          "model_module": "@jupyter-widgets/base",
          "model_name": "LayoutModel",
          "model_module_version": "1.2.0",
          "state": {
            "_model_module": "@jupyter-widgets/base",
            "_model_module_version": "1.2.0",
            "_model_name": "LayoutModel",
            "_view_count": null,
            "_view_module": "@jupyter-widgets/base",
            "_view_module_version": "1.2.0",
            "_view_name": "LayoutView",
            "align_content": null,
            "align_items": null,
            "align_self": null,
            "border": null,
            "bottom": null,
            "display": null,
            "flex": null,
            "flex_flow": null,
            "grid_area": null,
            "grid_auto_columns": null,
            "grid_auto_flow": null,
            "grid_auto_rows": null,
            "grid_column": null,
            "grid_gap": null,
            "grid_row": null,
            "grid_template_areas": null,
            "grid_template_columns": null,
            "grid_template_rows": null,
            "height": null,
            "justify_content": null,
            "justify_items": null,
            "left": null,
            "margin": null,
            "max_height": null,
            "max_width": null,
            "min_height": null,
            "min_width": null,
            "object_fit": null,
            "object_position": null,
            "order": null,
            "overflow": null,
            "overflow_x": null,
            "overflow_y": null,
            "padding": null,
            "right": null,
            "top": null,
            "visibility": null,
            "width": null
          }
        },
        "b17f4bcb8265496b96b12e92fce89138": {
          "model_module": "@jupyter-widgets/controls",
          "model_name": "DescriptionStyleModel",
          "model_module_version": "1.5.0",
          "state": {
            "_model_module": "@jupyter-widgets/controls",
            "_model_module_version": "1.5.0",
            "_model_name": "DescriptionStyleModel",
            "_view_count": null,
            "_view_module": "@jupyter-widgets/base",
            "_view_module_version": "1.2.0",
            "_view_name": "StyleView",
            "description_width": ""
          }
        },
        "38d5226317e8450da0b99286f3d57766": {
          "model_module": "@jupyter-widgets/base",
          "model_name": "LayoutModel",
          "model_module_version": "1.2.0",
          "state": {
            "_model_module": "@jupyter-widgets/base",
            "_model_module_version": "1.2.0",
            "_model_name": "LayoutModel",
            "_view_count": null,
            "_view_module": "@jupyter-widgets/base",
            "_view_module_version": "1.2.0",
            "_view_name": "LayoutView",
            "align_content": null,
            "align_items": null,
            "align_self": null,
            "border": null,
            "bottom": null,
            "display": null,
            "flex": null,
            "flex_flow": null,
            "grid_area": null,
            "grid_auto_columns": null,
            "grid_auto_flow": null,
            "grid_auto_rows": null,
            "grid_column": null,
            "grid_gap": null,
            "grid_row": null,
            "grid_template_areas": null,
            "grid_template_columns": null,
            "grid_template_rows": null,
            "height": null,
            "justify_content": null,
            "justify_items": null,
            "left": null,
            "margin": null,
            "max_height": null,
            "max_width": null,
            "min_height": null,
            "min_width": null,
            "object_fit": null,
            "object_position": null,
            "order": null,
            "overflow": null,
            "overflow_x": null,
            "overflow_y": null,
            "padding": null,
            "right": null,
            "top": null,
            "visibility": null,
            "width": null
          }
        },
        "0d84ff1d21654c6b9e10a1aa25a93c29": {
          "model_module": "@jupyter-widgets/controls",
          "model_name": "ProgressStyleModel",
          "model_module_version": "1.5.0",
          "state": {
            "_model_module": "@jupyter-widgets/controls",
            "_model_module_version": "1.5.0",
            "_model_name": "ProgressStyleModel",
            "_view_count": null,
            "_view_module": "@jupyter-widgets/base",
            "_view_module_version": "1.2.0",
            "_view_name": "StyleView",
            "bar_color": null,
            "description_width": ""
          }
        },
        "ea107dffe4c648b99494adc1e7af6126": {
          "model_module": "@jupyter-widgets/controls",
          "model_name": "VBoxModel",
          "model_module_version": "1.5.0",
          "state": {
            "_dom_classes": [],
            "_model_module": "@jupyter-widgets/controls",
            "_model_module_version": "1.5.0",
            "_model_name": "VBoxModel",
            "_view_count": null,
            "_view_module": "@jupyter-widgets/controls",
            "_view_module_version": "1.5.0",
            "_view_name": "VBoxView",
            "box_style": "",
            "children": [
              "IPY_MODEL_23c43077bc2f4def9ec6a46f44ceb0ec",
              "IPY_MODEL_06e7221907314530a94d21812bd0481c"
            ],
            "layout": "IPY_MODEL_2f86f57bc11441979015b47694615edc"
          }
        },
        "23c43077bc2f4def9ec6a46f44ceb0ec": {
          "model_module": "@jupyter-widgets/controls",
          "model_name": "LabelModel",
          "model_module_version": "1.5.0",
          "state": {
            "_dom_classes": [],
            "_model_module": "@jupyter-widgets/controls",
            "_model_module_version": "1.5.0",
            "_model_name": "LabelModel",
            "_view_count": null,
            "_view_module": "@jupyter-widgets/controls",
            "_view_module_version": "1.5.0",
            "_view_name": "LabelView",
            "description": "",
            "description_tooltip": null,
            "layout": "IPY_MODEL_9c00a00670684567ada793e1f205c398",
            "placeholder": "​",
            "style": "IPY_MODEL_1268a5417ddb400fbe76c6241ca7113c",
            "value": "0.011 MB of 0.011 MB uploaded\r"
          }
        },
        "06e7221907314530a94d21812bd0481c": {
          "model_module": "@jupyter-widgets/controls",
          "model_name": "FloatProgressModel",
          "model_module_version": "1.5.0",
          "state": {
            "_dom_classes": [],
            "_model_module": "@jupyter-widgets/controls",
            "_model_module_version": "1.5.0",
            "_model_name": "FloatProgressModel",
            "_view_count": null,
            "_view_module": "@jupyter-widgets/controls",
            "_view_module_version": "1.5.0",
            "_view_name": "ProgressView",
            "bar_style": "",
            "description": "",
            "description_tooltip": null,
            "layout": "IPY_MODEL_09611830d87644ee9a4823d0ade62031",
            "max": 1,
            "min": 0,
            "orientation": "horizontal",
            "style": "IPY_MODEL_0feb229921a242c4a69b5ea766c11e73",
            "value": 1
          }
        },
        "2f86f57bc11441979015b47694615edc": {
          "model_module": "@jupyter-widgets/base",
          "model_name": "LayoutModel",
          "model_module_version": "1.2.0",
          "state": {
            "_model_module": "@jupyter-widgets/base",
            "_model_module_version": "1.2.0",
            "_model_name": "LayoutModel",
            "_view_count": null,
            "_view_module": "@jupyter-widgets/base",
            "_view_module_version": "1.2.0",
            "_view_name": "LayoutView",
            "align_content": null,
            "align_items": null,
            "align_self": null,
            "border": null,
            "bottom": null,
            "display": null,
            "flex": null,
            "flex_flow": null,
            "grid_area": null,
            "grid_auto_columns": null,
            "grid_auto_flow": null,
            "grid_auto_rows": null,
            "grid_column": null,
            "grid_gap": null,
            "grid_row": null,
            "grid_template_areas": null,
            "grid_template_columns": null,
            "grid_template_rows": null,
            "height": null,
            "justify_content": null,
            "justify_items": null,
            "left": null,
            "margin": null,
            "max_height": null,
            "max_width": null,
            "min_height": null,
            "min_width": null,
            "object_fit": null,
            "object_position": null,
            "order": null,
            "overflow": null,
            "overflow_x": null,
            "overflow_y": null,
            "padding": null,
            "right": null,
            "top": null,
            "visibility": null,
            "width": null
          }
        },
        "9c00a00670684567ada793e1f205c398": {
          "model_module": "@jupyter-widgets/base",
          "model_name": "LayoutModel",
          "model_module_version": "1.2.0",
          "state": {
            "_model_module": "@jupyter-widgets/base",
            "_model_module_version": "1.2.0",
            "_model_name": "LayoutModel",
            "_view_count": null,
            "_view_module": "@jupyter-widgets/base",
            "_view_module_version": "1.2.0",
            "_view_name": "LayoutView",
            "align_content": null,
            "align_items": null,
            "align_self": null,
            "border": null,
            "bottom": null,
            "display": null,
            "flex": null,
            "flex_flow": null,
            "grid_area": null,
            "grid_auto_columns": null,
            "grid_auto_flow": null,
            "grid_auto_rows": null,
            "grid_column": null,
            "grid_gap": null,
            "grid_row": null,
            "grid_template_areas": null,
            "grid_template_columns": null,
            "grid_template_rows": null,
            "height": null,
            "justify_content": null,
            "justify_items": null,
            "left": null,
            "margin": null,
            "max_height": null,
            "max_width": null,
            "min_height": null,
            "min_width": null,
            "object_fit": null,
            "object_position": null,
            "order": null,
            "overflow": null,
            "overflow_x": null,
            "overflow_y": null,
            "padding": null,
            "right": null,
            "top": null,
            "visibility": null,
            "width": null
          }
        },
        "1268a5417ddb400fbe76c6241ca7113c": {
          "model_module": "@jupyter-widgets/controls",
          "model_name": "DescriptionStyleModel",
          "model_module_version": "1.5.0",
          "state": {
            "_model_module": "@jupyter-widgets/controls",
            "_model_module_version": "1.5.0",
            "_model_name": "DescriptionStyleModel",
            "_view_count": null,
            "_view_module": "@jupyter-widgets/base",
            "_view_module_version": "1.2.0",
            "_view_name": "StyleView",
            "description_width": ""
          }
        },
        "09611830d87644ee9a4823d0ade62031": {
          "model_module": "@jupyter-widgets/base",
          "model_name": "LayoutModel",
          "model_module_version": "1.2.0",
          "state": {
            "_model_module": "@jupyter-widgets/base",
            "_model_module_version": "1.2.0",
            "_model_name": "LayoutModel",
            "_view_count": null,
            "_view_module": "@jupyter-widgets/base",
            "_view_module_version": "1.2.0",
            "_view_name": "LayoutView",
            "align_content": null,
            "align_items": null,
            "align_self": null,
            "border": null,
            "bottom": null,
            "display": null,
            "flex": null,
            "flex_flow": null,
            "grid_area": null,
            "grid_auto_columns": null,
            "grid_auto_flow": null,
            "grid_auto_rows": null,
            "grid_column": null,
            "grid_gap": null,
            "grid_row": null,
            "grid_template_areas": null,
            "grid_template_columns": null,
            "grid_template_rows": null,
            "height": null,
            "justify_content": null,
            "justify_items": null,
            "left": null,
            "margin": null,
            "max_height": null,
            "max_width": null,
            "min_height": null,
            "min_width": null,
            "object_fit": null,
            "object_position": null,
            "order": null,
            "overflow": null,
            "overflow_x": null,
            "overflow_y": null,
            "padding": null,
            "right": null,
            "top": null,
            "visibility": null,
            "width": null
          }
        },
        "0feb229921a242c4a69b5ea766c11e73": {
          "model_module": "@jupyter-widgets/controls",
          "model_name": "ProgressStyleModel",
          "model_module_version": "1.5.0",
          "state": {
            "_model_module": "@jupyter-widgets/controls",
            "_model_module_version": "1.5.0",
            "_model_name": "ProgressStyleModel",
            "_view_count": null,
            "_view_module": "@jupyter-widgets/base",
            "_view_module_version": "1.2.0",
            "_view_name": "StyleView",
            "bar_color": null,
            "description_width": ""
          }
        },
        "0f0b97667ddd42669c2fbffe43c2e244": {
          "model_module": "@jupyter-widgets/controls",
          "model_name": "VBoxModel",
          "model_module_version": "1.5.0",
          "state": {
            "_dom_classes": [],
            "_model_module": "@jupyter-widgets/controls",
            "_model_module_version": "1.5.0",
            "_model_name": "VBoxModel",
            "_view_count": null,
            "_view_module": "@jupyter-widgets/controls",
            "_view_module_version": "1.5.0",
            "_view_name": "VBoxView",
            "box_style": "",
            "children": [
              "IPY_MODEL_bd7583fb345b4accbbc0dba5a15d5b05",
              "IPY_MODEL_5596686b049348d4b3944100aeba543e"
            ],
            "layout": "IPY_MODEL_cc318dd919a14619a9ba73d739e278c0"
          }
        },
        "bd7583fb345b4accbbc0dba5a15d5b05": {
          "model_module": "@jupyter-widgets/controls",
          "model_name": "LabelModel",
          "model_module_version": "1.5.0",
          "state": {
            "_dom_classes": [],
            "_model_module": "@jupyter-widgets/controls",
            "_model_module_version": "1.5.0",
            "_model_name": "LabelModel",
            "_view_count": null,
            "_view_module": "@jupyter-widgets/controls",
            "_view_module_version": "1.5.0",
            "_view_name": "LabelView",
            "description": "",
            "description_tooltip": null,
            "layout": "IPY_MODEL_16b372eb56c64eb3b53b7147227fe899",
            "placeholder": "​",
            "style": "IPY_MODEL_0ebb866d306c474c9c7dae95699babd2",
            "value": "0.012 MB of 0.012 MB uploaded\r"
          }
        },
        "5596686b049348d4b3944100aeba543e": {
          "model_module": "@jupyter-widgets/controls",
          "model_name": "FloatProgressModel",
          "model_module_version": "1.5.0",
          "state": {
            "_dom_classes": [],
            "_model_module": "@jupyter-widgets/controls",
            "_model_module_version": "1.5.0",
            "_model_name": "FloatProgressModel",
            "_view_count": null,
            "_view_module": "@jupyter-widgets/controls",
            "_view_module_version": "1.5.0",
            "_view_name": "ProgressView",
            "bar_style": "",
            "description": "",
            "description_tooltip": null,
            "layout": "IPY_MODEL_5cc8e08b457e422dbaaa55b82e3382ef",
            "max": 1,
            "min": 0,
            "orientation": "horizontal",
            "style": "IPY_MODEL_48700175a8994e4cb2c4afe69f1e4c1b",
            "value": 1
          }
        },
        "cc318dd919a14619a9ba73d739e278c0": {
          "model_module": "@jupyter-widgets/base",
          "model_name": "LayoutModel",
          "model_module_version": "1.2.0",
          "state": {
            "_model_module": "@jupyter-widgets/base",
            "_model_module_version": "1.2.0",
            "_model_name": "LayoutModel",
            "_view_count": null,
            "_view_module": "@jupyter-widgets/base",
            "_view_module_version": "1.2.0",
            "_view_name": "LayoutView",
            "align_content": null,
            "align_items": null,
            "align_self": null,
            "border": null,
            "bottom": null,
            "display": null,
            "flex": null,
            "flex_flow": null,
            "grid_area": null,
            "grid_auto_columns": null,
            "grid_auto_flow": null,
            "grid_auto_rows": null,
            "grid_column": null,
            "grid_gap": null,
            "grid_row": null,
            "grid_template_areas": null,
            "grid_template_columns": null,
            "grid_template_rows": null,
            "height": null,
            "justify_content": null,
            "justify_items": null,
            "left": null,
            "margin": null,
            "max_height": null,
            "max_width": null,
            "min_height": null,
            "min_width": null,
            "object_fit": null,
            "object_position": null,
            "order": null,
            "overflow": null,
            "overflow_x": null,
            "overflow_y": null,
            "padding": null,
            "right": null,
            "top": null,
            "visibility": null,
            "width": null
          }
        },
        "16b372eb56c64eb3b53b7147227fe899": {
          "model_module": "@jupyter-widgets/base",
          "model_name": "LayoutModel",
          "model_module_version": "1.2.0",
          "state": {
            "_model_module": "@jupyter-widgets/base",
            "_model_module_version": "1.2.0",
            "_model_name": "LayoutModel",
            "_view_count": null,
            "_view_module": "@jupyter-widgets/base",
            "_view_module_version": "1.2.0",
            "_view_name": "LayoutView",
            "align_content": null,
            "align_items": null,
            "align_self": null,
            "border": null,
            "bottom": null,
            "display": null,
            "flex": null,
            "flex_flow": null,
            "grid_area": null,
            "grid_auto_columns": null,
            "grid_auto_flow": null,
            "grid_auto_rows": null,
            "grid_column": null,
            "grid_gap": null,
            "grid_row": null,
            "grid_template_areas": null,
            "grid_template_columns": null,
            "grid_template_rows": null,
            "height": null,
            "justify_content": null,
            "justify_items": null,
            "left": null,
            "margin": null,
            "max_height": null,
            "max_width": null,
            "min_height": null,
            "min_width": null,
            "object_fit": null,
            "object_position": null,
            "order": null,
            "overflow": null,
            "overflow_x": null,
            "overflow_y": null,
            "padding": null,
            "right": null,
            "top": null,
            "visibility": null,
            "width": null
          }
        },
        "0ebb866d306c474c9c7dae95699babd2": {
          "model_module": "@jupyter-widgets/controls",
          "model_name": "DescriptionStyleModel",
          "model_module_version": "1.5.0",
          "state": {
            "_model_module": "@jupyter-widgets/controls",
            "_model_module_version": "1.5.0",
            "_model_name": "DescriptionStyleModel",
            "_view_count": null,
            "_view_module": "@jupyter-widgets/base",
            "_view_module_version": "1.2.0",
            "_view_name": "StyleView",
            "description_width": ""
          }
        },
        "5cc8e08b457e422dbaaa55b82e3382ef": {
          "model_module": "@jupyter-widgets/base",
          "model_name": "LayoutModel",
          "model_module_version": "1.2.0",
          "state": {
            "_model_module": "@jupyter-widgets/base",
            "_model_module_version": "1.2.0",
            "_model_name": "LayoutModel",
            "_view_count": null,
            "_view_module": "@jupyter-widgets/base",
            "_view_module_version": "1.2.0",
            "_view_name": "LayoutView",
            "align_content": null,
            "align_items": null,
            "align_self": null,
            "border": null,
            "bottom": null,
            "display": null,
            "flex": null,
            "flex_flow": null,
            "grid_area": null,
            "grid_auto_columns": null,
            "grid_auto_flow": null,
            "grid_auto_rows": null,
            "grid_column": null,
            "grid_gap": null,
            "grid_row": null,
            "grid_template_areas": null,
            "grid_template_columns": null,
            "grid_template_rows": null,
            "height": null,
            "justify_content": null,
            "justify_items": null,
            "left": null,
            "margin": null,
            "max_height": null,
            "max_width": null,
            "min_height": null,
            "min_width": null,
            "object_fit": null,
            "object_position": null,
            "order": null,
            "overflow": null,
            "overflow_x": null,
            "overflow_y": null,
            "padding": null,
            "right": null,
            "top": null,
            "visibility": null,
            "width": null
          }
        },
        "48700175a8994e4cb2c4afe69f1e4c1b": {
          "model_module": "@jupyter-widgets/controls",
          "model_name": "ProgressStyleModel",
          "model_module_version": "1.5.0",
          "state": {
            "_model_module": "@jupyter-widgets/controls",
            "_model_module_version": "1.5.0",
            "_model_name": "ProgressStyleModel",
            "_view_count": null,
            "_view_module": "@jupyter-widgets/base",
            "_view_module_version": "1.2.0",
            "_view_name": "StyleView",
            "bar_color": null,
            "description_width": ""
          }
        },
        "a92ecd470f134f6f8ee853d72bda610e": {
          "model_module": "@jupyter-widgets/controls",
          "model_name": "VBoxModel",
          "model_module_version": "1.5.0",
          "state": {
            "_dom_classes": [],
            "_model_module": "@jupyter-widgets/controls",
            "_model_module_version": "1.5.0",
            "_model_name": "VBoxModel",
            "_view_count": null,
            "_view_module": "@jupyter-widgets/controls",
            "_view_module_version": "1.5.0",
            "_view_name": "VBoxView",
            "box_style": "",
            "children": [
              "IPY_MODEL_a335951f2bd44047a4993fed9126a2ca",
              "IPY_MODEL_72dc846a3c164c72aa6b3993a3d3e3b5"
            ],
            "layout": "IPY_MODEL_1248d87fba994788a8e2fb835eb409bd"
          }
        },
        "a335951f2bd44047a4993fed9126a2ca": {
          "model_module": "@jupyter-widgets/controls",
          "model_name": "LabelModel",
          "model_module_version": "1.5.0",
          "state": {
            "_dom_classes": [],
            "_model_module": "@jupyter-widgets/controls",
            "_model_module_version": "1.5.0",
            "_model_name": "LabelModel",
            "_view_count": null,
            "_view_module": "@jupyter-widgets/controls",
            "_view_module_version": "1.5.0",
            "_view_name": "LabelView",
            "description": "",
            "description_tooltip": null,
            "layout": "IPY_MODEL_b9604d08ef6340789f825836a7610e1a",
            "placeholder": "​",
            "style": "IPY_MODEL_73ed1b0c3aa34e069e9ee6af680f008c",
            "value": "0.012 MB of 0.012 MB uploaded\r"
          }
        },
        "72dc846a3c164c72aa6b3993a3d3e3b5": {
          "model_module": "@jupyter-widgets/controls",
          "model_name": "FloatProgressModel",
          "model_module_version": "1.5.0",
          "state": {
            "_dom_classes": [],
            "_model_module": "@jupyter-widgets/controls",
            "_model_module_version": "1.5.0",
            "_model_name": "FloatProgressModel",
            "_view_count": null,
            "_view_module": "@jupyter-widgets/controls",
            "_view_module_version": "1.5.0",
            "_view_name": "ProgressView",
            "bar_style": "",
            "description": "",
            "description_tooltip": null,
            "layout": "IPY_MODEL_6fbe8f2d984a4c8e821bd6c8292dcd77",
            "max": 1,
            "min": 0,
            "orientation": "horizontal",
            "style": "IPY_MODEL_4874b1d8b1d7405bbfff12ab94d39661",
            "value": 1
          }
        },
        "1248d87fba994788a8e2fb835eb409bd": {
          "model_module": "@jupyter-widgets/base",
          "model_name": "LayoutModel",
          "model_module_version": "1.2.0",
          "state": {
            "_model_module": "@jupyter-widgets/base",
            "_model_module_version": "1.2.0",
            "_model_name": "LayoutModel",
            "_view_count": null,
            "_view_module": "@jupyter-widgets/base",
            "_view_module_version": "1.2.0",
            "_view_name": "LayoutView",
            "align_content": null,
            "align_items": null,
            "align_self": null,
            "border": null,
            "bottom": null,
            "display": null,
            "flex": null,
            "flex_flow": null,
            "grid_area": null,
            "grid_auto_columns": null,
            "grid_auto_flow": null,
            "grid_auto_rows": null,
            "grid_column": null,
            "grid_gap": null,
            "grid_row": null,
            "grid_template_areas": null,
            "grid_template_columns": null,
            "grid_template_rows": null,
            "height": null,
            "justify_content": null,
            "justify_items": null,
            "left": null,
            "margin": null,
            "max_height": null,
            "max_width": null,
            "min_height": null,
            "min_width": null,
            "object_fit": null,
            "object_position": null,
            "order": null,
            "overflow": null,
            "overflow_x": null,
            "overflow_y": null,
            "padding": null,
            "right": null,
            "top": null,
            "visibility": null,
            "width": null
          }
        },
        "b9604d08ef6340789f825836a7610e1a": {
          "model_module": "@jupyter-widgets/base",
          "model_name": "LayoutModel",
          "model_module_version": "1.2.0",
          "state": {
            "_model_module": "@jupyter-widgets/base",
            "_model_module_version": "1.2.0",
            "_model_name": "LayoutModel",
            "_view_count": null,
            "_view_module": "@jupyter-widgets/base",
            "_view_module_version": "1.2.0",
            "_view_name": "LayoutView",
            "align_content": null,
            "align_items": null,
            "align_self": null,
            "border": null,
            "bottom": null,
            "display": null,
            "flex": null,
            "flex_flow": null,
            "grid_area": null,
            "grid_auto_columns": null,
            "grid_auto_flow": null,
            "grid_auto_rows": null,
            "grid_column": null,
            "grid_gap": null,
            "grid_row": null,
            "grid_template_areas": null,
            "grid_template_columns": null,
            "grid_template_rows": null,
            "height": null,
            "justify_content": null,
            "justify_items": null,
            "left": null,
            "margin": null,
            "max_height": null,
            "max_width": null,
            "min_height": null,
            "min_width": null,
            "object_fit": null,
            "object_position": null,
            "order": null,
            "overflow": null,
            "overflow_x": null,
            "overflow_y": null,
            "padding": null,
            "right": null,
            "top": null,
            "visibility": null,
            "width": null
          }
        },
        "73ed1b0c3aa34e069e9ee6af680f008c": {
          "model_module": "@jupyter-widgets/controls",
          "model_name": "DescriptionStyleModel",
          "model_module_version": "1.5.0",
          "state": {
            "_model_module": "@jupyter-widgets/controls",
            "_model_module_version": "1.5.0",
            "_model_name": "DescriptionStyleModel",
            "_view_count": null,
            "_view_module": "@jupyter-widgets/base",
            "_view_module_version": "1.2.0",
            "_view_name": "StyleView",
            "description_width": ""
          }
        },
        "6fbe8f2d984a4c8e821bd6c8292dcd77": {
          "model_module": "@jupyter-widgets/base",
          "model_name": "LayoutModel",
          "model_module_version": "1.2.0",
          "state": {
            "_model_module": "@jupyter-widgets/base",
            "_model_module_version": "1.2.0",
            "_model_name": "LayoutModel",
            "_view_count": null,
            "_view_module": "@jupyter-widgets/base",
            "_view_module_version": "1.2.0",
            "_view_name": "LayoutView",
            "align_content": null,
            "align_items": null,
            "align_self": null,
            "border": null,
            "bottom": null,
            "display": null,
            "flex": null,
            "flex_flow": null,
            "grid_area": null,
            "grid_auto_columns": null,
            "grid_auto_flow": null,
            "grid_auto_rows": null,
            "grid_column": null,
            "grid_gap": null,
            "grid_row": null,
            "grid_template_areas": null,
            "grid_template_columns": null,
            "grid_template_rows": null,
            "height": null,
            "justify_content": null,
            "justify_items": null,
            "left": null,
            "margin": null,
            "max_height": null,
            "max_width": null,
            "min_height": null,
            "min_width": null,
            "object_fit": null,
            "object_position": null,
            "order": null,
            "overflow": null,
            "overflow_x": null,
            "overflow_y": null,
            "padding": null,
            "right": null,
            "top": null,
            "visibility": null,
            "width": null
          }
        },
        "4874b1d8b1d7405bbfff12ab94d39661": {
          "model_module": "@jupyter-widgets/controls",
          "model_name": "ProgressStyleModel",
          "model_module_version": "1.5.0",
          "state": {
            "_model_module": "@jupyter-widgets/controls",
            "_model_module_version": "1.5.0",
            "_model_name": "ProgressStyleModel",
            "_view_count": null,
            "_view_module": "@jupyter-widgets/base",
            "_view_module_version": "1.2.0",
            "_view_name": "StyleView",
            "bar_color": null,
            "description_width": ""
          }
        },
        "4fee2a4428e34672ae501149d60430da": {
          "model_module": "@jupyter-widgets/controls",
          "model_name": "VBoxModel",
          "model_module_version": "1.5.0",
          "state": {
            "_dom_classes": [],
            "_model_module": "@jupyter-widgets/controls",
            "_model_module_version": "1.5.0",
            "_model_name": "VBoxModel",
            "_view_count": null,
            "_view_module": "@jupyter-widgets/controls",
            "_view_module_version": "1.5.0",
            "_view_name": "VBoxView",
            "box_style": "",
            "children": [
              "IPY_MODEL_9aec3bfccdd54a38a2caa936ddb590a9",
              "IPY_MODEL_00e221174f4c4c13820c7d018a980156"
            ],
            "layout": "IPY_MODEL_436c93ac17464e2aae5d57588d1da118"
          }
        },
        "9aec3bfccdd54a38a2caa936ddb590a9": {
          "model_module": "@jupyter-widgets/controls",
          "model_name": "LabelModel",
          "model_module_version": "1.5.0",
          "state": {
            "_dom_classes": [],
            "_model_module": "@jupyter-widgets/controls",
            "_model_module_version": "1.5.0",
            "_model_name": "LabelModel",
            "_view_count": null,
            "_view_module": "@jupyter-widgets/controls",
            "_view_module_version": "1.5.0",
            "_view_name": "LabelView",
            "description": "",
            "description_tooltip": null,
            "layout": "IPY_MODEL_9a631e4b32e24f9e8c346b72549bd98c",
            "placeholder": "​",
            "style": "IPY_MODEL_000731e29e2645a1845f1968037ed64a",
            "value": "0.011 MB of 0.011 MB uploaded\r"
          }
        },
        "00e221174f4c4c13820c7d018a980156": {
          "model_module": "@jupyter-widgets/controls",
          "model_name": "FloatProgressModel",
          "model_module_version": "1.5.0",
          "state": {
            "_dom_classes": [],
            "_model_module": "@jupyter-widgets/controls",
            "_model_module_version": "1.5.0",
            "_model_name": "FloatProgressModel",
            "_view_count": null,
            "_view_module": "@jupyter-widgets/controls",
            "_view_module_version": "1.5.0",
            "_view_name": "ProgressView",
            "bar_style": "",
            "description": "",
            "description_tooltip": null,
            "layout": "IPY_MODEL_d1b4676275a84f449dbb6f0819781b35",
            "max": 1,
            "min": 0,
            "orientation": "horizontal",
            "style": "IPY_MODEL_da04062ef00049d9bd8ff19d3fc4cd28",
            "value": 1
          }
        },
        "436c93ac17464e2aae5d57588d1da118": {
          "model_module": "@jupyter-widgets/base",
          "model_name": "LayoutModel",
          "model_module_version": "1.2.0",
          "state": {
            "_model_module": "@jupyter-widgets/base",
            "_model_module_version": "1.2.0",
            "_model_name": "LayoutModel",
            "_view_count": null,
            "_view_module": "@jupyter-widgets/base",
            "_view_module_version": "1.2.0",
            "_view_name": "LayoutView",
            "align_content": null,
            "align_items": null,
            "align_self": null,
            "border": null,
            "bottom": null,
            "display": null,
            "flex": null,
            "flex_flow": null,
            "grid_area": null,
            "grid_auto_columns": null,
            "grid_auto_flow": null,
            "grid_auto_rows": null,
            "grid_column": null,
            "grid_gap": null,
            "grid_row": null,
            "grid_template_areas": null,
            "grid_template_columns": null,
            "grid_template_rows": null,
            "height": null,
            "justify_content": null,
            "justify_items": null,
            "left": null,
            "margin": null,
            "max_height": null,
            "max_width": null,
            "min_height": null,
            "min_width": null,
            "object_fit": null,
            "object_position": null,
            "order": null,
            "overflow": null,
            "overflow_x": null,
            "overflow_y": null,
            "padding": null,
            "right": null,
            "top": null,
            "visibility": null,
            "width": null
          }
        },
        "9a631e4b32e24f9e8c346b72549bd98c": {
          "model_module": "@jupyter-widgets/base",
          "model_name": "LayoutModel",
          "model_module_version": "1.2.0",
          "state": {
            "_model_module": "@jupyter-widgets/base",
            "_model_module_version": "1.2.0",
            "_model_name": "LayoutModel",
            "_view_count": null,
            "_view_module": "@jupyter-widgets/base",
            "_view_module_version": "1.2.0",
            "_view_name": "LayoutView",
            "align_content": null,
            "align_items": null,
            "align_self": null,
            "border": null,
            "bottom": null,
            "display": null,
            "flex": null,
            "flex_flow": null,
            "grid_area": null,
            "grid_auto_columns": null,
            "grid_auto_flow": null,
            "grid_auto_rows": null,
            "grid_column": null,
            "grid_gap": null,
            "grid_row": null,
            "grid_template_areas": null,
            "grid_template_columns": null,
            "grid_template_rows": null,
            "height": null,
            "justify_content": null,
            "justify_items": null,
            "left": null,
            "margin": null,
            "max_height": null,
            "max_width": null,
            "min_height": null,
            "min_width": null,
            "object_fit": null,
            "object_position": null,
            "order": null,
            "overflow": null,
            "overflow_x": null,
            "overflow_y": null,
            "padding": null,
            "right": null,
            "top": null,
            "visibility": null,
            "width": null
          }
        },
        "000731e29e2645a1845f1968037ed64a": {
          "model_module": "@jupyter-widgets/controls",
          "model_name": "DescriptionStyleModel",
          "model_module_version": "1.5.0",
          "state": {
            "_model_module": "@jupyter-widgets/controls",
            "_model_module_version": "1.5.0",
            "_model_name": "DescriptionStyleModel",
            "_view_count": null,
            "_view_module": "@jupyter-widgets/base",
            "_view_module_version": "1.2.0",
            "_view_name": "StyleView",
            "description_width": ""
          }
        },
        "d1b4676275a84f449dbb6f0819781b35": {
          "model_module": "@jupyter-widgets/base",
          "model_name": "LayoutModel",
          "model_module_version": "1.2.0",
          "state": {
            "_model_module": "@jupyter-widgets/base",
            "_model_module_version": "1.2.0",
            "_model_name": "LayoutModel",
            "_view_count": null,
            "_view_module": "@jupyter-widgets/base",
            "_view_module_version": "1.2.0",
            "_view_name": "LayoutView",
            "align_content": null,
            "align_items": null,
            "align_self": null,
            "border": null,
            "bottom": null,
            "display": null,
            "flex": null,
            "flex_flow": null,
            "grid_area": null,
            "grid_auto_columns": null,
            "grid_auto_flow": null,
            "grid_auto_rows": null,
            "grid_column": null,
            "grid_gap": null,
            "grid_row": null,
            "grid_template_areas": null,
            "grid_template_columns": null,
            "grid_template_rows": null,
            "height": null,
            "justify_content": null,
            "justify_items": null,
            "left": null,
            "margin": null,
            "max_height": null,
            "max_width": null,
            "min_height": null,
            "min_width": null,
            "object_fit": null,
            "object_position": null,
            "order": null,
            "overflow": null,
            "overflow_x": null,
            "overflow_y": null,
            "padding": null,
            "right": null,
            "top": null,
            "visibility": null,
            "width": null
          }
        },
        "da04062ef00049d9bd8ff19d3fc4cd28": {
          "model_module": "@jupyter-widgets/controls",
          "model_name": "ProgressStyleModel",
          "model_module_version": "1.5.0",
          "state": {
            "_model_module": "@jupyter-widgets/controls",
            "_model_module_version": "1.5.0",
            "_model_name": "ProgressStyleModel",
            "_view_count": null,
            "_view_module": "@jupyter-widgets/base",
            "_view_module_version": "1.2.0",
            "_view_name": "StyleView",
            "bar_color": null,
            "description_width": ""
          }
        },
        "ad73e18e8a3d4700b61b9c95be3f5072": {
          "model_module": "@jupyter-widgets/controls",
          "model_name": "VBoxModel",
          "model_module_version": "1.5.0",
          "state": {
            "_dom_classes": [],
            "_model_module": "@jupyter-widgets/controls",
            "_model_module_version": "1.5.0",
            "_model_name": "VBoxModel",
            "_view_count": null,
            "_view_module": "@jupyter-widgets/controls",
            "_view_module_version": "1.5.0",
            "_view_name": "VBoxView",
            "box_style": "",
            "children": [
              "IPY_MODEL_25471a98c5cd4d528e7be38056687919",
              "IPY_MODEL_a727a093fda04750ac8679054daa0181"
            ],
            "layout": "IPY_MODEL_d153fd6f07004efeb604f8f48ab05a26"
          }
        },
        "25471a98c5cd4d528e7be38056687919": {
          "model_module": "@jupyter-widgets/controls",
          "model_name": "LabelModel",
          "model_module_version": "1.5.0",
          "state": {
            "_dom_classes": [],
            "_model_module": "@jupyter-widgets/controls",
            "_model_module_version": "1.5.0",
            "_model_name": "LabelModel",
            "_view_count": null,
            "_view_module": "@jupyter-widgets/controls",
            "_view_module_version": "1.5.0",
            "_view_name": "LabelView",
            "description": "",
            "description_tooltip": null,
            "layout": "IPY_MODEL_cfa7aa2e97854df09005450cb22b07e8",
            "placeholder": "​",
            "style": "IPY_MODEL_84639a832df949df996ebdf57c4f88dc",
            "value": "0.011 MB of 0.011 MB uploaded\r"
          }
        },
        "a727a093fda04750ac8679054daa0181": {
          "model_module": "@jupyter-widgets/controls",
          "model_name": "FloatProgressModel",
          "model_module_version": "1.5.0",
          "state": {
            "_dom_classes": [],
            "_model_module": "@jupyter-widgets/controls",
            "_model_module_version": "1.5.0",
            "_model_name": "FloatProgressModel",
            "_view_count": null,
            "_view_module": "@jupyter-widgets/controls",
            "_view_module_version": "1.5.0",
            "_view_name": "ProgressView",
            "bar_style": "",
            "description": "",
            "description_tooltip": null,
            "layout": "IPY_MODEL_5ee12e602fea4de29992957915716ffc",
            "max": 1,
            "min": 0,
            "orientation": "horizontal",
            "style": "IPY_MODEL_a2f078e8e9b64b52b052f333ea47e0ee",
            "value": 1
          }
        },
        "d153fd6f07004efeb604f8f48ab05a26": {
          "model_module": "@jupyter-widgets/base",
          "model_name": "LayoutModel",
          "model_module_version": "1.2.0",
          "state": {
            "_model_module": "@jupyter-widgets/base",
            "_model_module_version": "1.2.0",
            "_model_name": "LayoutModel",
            "_view_count": null,
            "_view_module": "@jupyter-widgets/base",
            "_view_module_version": "1.2.0",
            "_view_name": "LayoutView",
            "align_content": null,
            "align_items": null,
            "align_self": null,
            "border": null,
            "bottom": null,
            "display": null,
            "flex": null,
            "flex_flow": null,
            "grid_area": null,
            "grid_auto_columns": null,
            "grid_auto_flow": null,
            "grid_auto_rows": null,
            "grid_column": null,
            "grid_gap": null,
            "grid_row": null,
            "grid_template_areas": null,
            "grid_template_columns": null,
            "grid_template_rows": null,
            "height": null,
            "justify_content": null,
            "justify_items": null,
            "left": null,
            "margin": null,
            "max_height": null,
            "max_width": null,
            "min_height": null,
            "min_width": null,
            "object_fit": null,
            "object_position": null,
            "order": null,
            "overflow": null,
            "overflow_x": null,
            "overflow_y": null,
            "padding": null,
            "right": null,
            "top": null,
            "visibility": null,
            "width": null
          }
        },
        "cfa7aa2e97854df09005450cb22b07e8": {
          "model_module": "@jupyter-widgets/base",
          "model_name": "LayoutModel",
          "model_module_version": "1.2.0",
          "state": {
            "_model_module": "@jupyter-widgets/base",
            "_model_module_version": "1.2.0",
            "_model_name": "LayoutModel",
            "_view_count": null,
            "_view_module": "@jupyter-widgets/base",
            "_view_module_version": "1.2.0",
            "_view_name": "LayoutView",
            "align_content": null,
            "align_items": null,
            "align_self": null,
            "border": null,
            "bottom": null,
            "display": null,
            "flex": null,
            "flex_flow": null,
            "grid_area": null,
            "grid_auto_columns": null,
            "grid_auto_flow": null,
            "grid_auto_rows": null,
            "grid_column": null,
            "grid_gap": null,
            "grid_row": null,
            "grid_template_areas": null,
            "grid_template_columns": null,
            "grid_template_rows": null,
            "height": null,
            "justify_content": null,
            "justify_items": null,
            "left": null,
            "margin": null,
            "max_height": null,
            "max_width": null,
            "min_height": null,
            "min_width": null,
            "object_fit": null,
            "object_position": null,
            "order": null,
            "overflow": null,
            "overflow_x": null,
            "overflow_y": null,
            "padding": null,
            "right": null,
            "top": null,
            "visibility": null,
            "width": null
          }
        },
        "84639a832df949df996ebdf57c4f88dc": {
          "model_module": "@jupyter-widgets/controls",
          "model_name": "DescriptionStyleModel",
          "model_module_version": "1.5.0",
          "state": {
            "_model_module": "@jupyter-widgets/controls",
            "_model_module_version": "1.5.0",
            "_model_name": "DescriptionStyleModel",
            "_view_count": null,
            "_view_module": "@jupyter-widgets/base",
            "_view_module_version": "1.2.0",
            "_view_name": "StyleView",
            "description_width": ""
          }
        },
        "5ee12e602fea4de29992957915716ffc": {
          "model_module": "@jupyter-widgets/base",
          "model_name": "LayoutModel",
          "model_module_version": "1.2.0",
          "state": {
            "_model_module": "@jupyter-widgets/base",
            "_model_module_version": "1.2.0",
            "_model_name": "LayoutModel",
            "_view_count": null,
            "_view_module": "@jupyter-widgets/base",
            "_view_module_version": "1.2.0",
            "_view_name": "LayoutView",
            "align_content": null,
            "align_items": null,
            "align_self": null,
            "border": null,
            "bottom": null,
            "display": null,
            "flex": null,
            "flex_flow": null,
            "grid_area": null,
            "grid_auto_columns": null,
            "grid_auto_flow": null,
            "grid_auto_rows": null,
            "grid_column": null,
            "grid_gap": null,
            "grid_row": null,
            "grid_template_areas": null,
            "grid_template_columns": null,
            "grid_template_rows": null,
            "height": null,
            "justify_content": null,
            "justify_items": null,
            "left": null,
            "margin": null,
            "max_height": null,
            "max_width": null,
            "min_height": null,
            "min_width": null,
            "object_fit": null,
            "object_position": null,
            "order": null,
            "overflow": null,
            "overflow_x": null,
            "overflow_y": null,
            "padding": null,
            "right": null,
            "top": null,
            "visibility": null,
            "width": null
          }
        },
        "a2f078e8e9b64b52b052f333ea47e0ee": {
          "model_module": "@jupyter-widgets/controls",
          "model_name": "ProgressStyleModel",
          "model_module_version": "1.5.0",
          "state": {
            "_model_module": "@jupyter-widgets/controls",
            "_model_module_version": "1.5.0",
            "_model_name": "ProgressStyleModel",
            "_view_count": null,
            "_view_module": "@jupyter-widgets/base",
            "_view_module_version": "1.2.0",
            "_view_name": "StyleView",
            "bar_color": null,
            "description_width": ""
          }
        },
        "df640eef89504743a22310f9671e30f1": {
          "model_module": "@jupyter-widgets/controls",
          "model_name": "VBoxModel",
          "model_module_version": "1.5.0",
          "state": {
            "_dom_classes": [],
            "_model_module": "@jupyter-widgets/controls",
            "_model_module_version": "1.5.0",
            "_model_name": "VBoxModel",
            "_view_count": null,
            "_view_module": "@jupyter-widgets/controls",
            "_view_module_version": "1.5.0",
            "_view_name": "VBoxView",
            "box_style": "",
            "children": [
              "IPY_MODEL_4cf6ea75308c4caf95402e3cb3292410",
              "IPY_MODEL_16e212dd52e545e0bfdd1a30da8a8f3a"
            ],
            "layout": "IPY_MODEL_9e09de51f79c499cbed424499aa2c1ac"
          }
        },
        "4cf6ea75308c4caf95402e3cb3292410": {
          "model_module": "@jupyter-widgets/controls",
          "model_name": "LabelModel",
          "model_module_version": "1.5.0",
          "state": {
            "_dom_classes": [],
            "_model_module": "@jupyter-widgets/controls",
            "_model_module_version": "1.5.0",
            "_model_name": "LabelModel",
            "_view_count": null,
            "_view_module": "@jupyter-widgets/controls",
            "_view_module_version": "1.5.0",
            "_view_name": "LabelView",
            "description": "",
            "description_tooltip": null,
            "layout": "IPY_MODEL_fcbf99ea9ccf41d0bf62c1f1e69d1a55",
            "placeholder": "​",
            "style": "IPY_MODEL_2b8bb4feda0142109941d126dc8ff39c",
            "value": "0.011 MB of 0.011 MB uploaded\r"
          }
        },
        "16e212dd52e545e0bfdd1a30da8a8f3a": {
          "model_module": "@jupyter-widgets/controls",
          "model_name": "FloatProgressModel",
          "model_module_version": "1.5.0",
          "state": {
            "_dom_classes": [],
            "_model_module": "@jupyter-widgets/controls",
            "_model_module_version": "1.5.0",
            "_model_name": "FloatProgressModel",
            "_view_count": null,
            "_view_module": "@jupyter-widgets/controls",
            "_view_module_version": "1.5.0",
            "_view_name": "ProgressView",
            "bar_style": "",
            "description": "",
            "description_tooltip": null,
            "layout": "IPY_MODEL_1dd86e7b845f4179a1afbce8b558a065",
            "max": 1,
            "min": 0,
            "orientation": "horizontal",
            "style": "IPY_MODEL_07effe1fdad64e099f57be5806001c6a",
            "value": 1
          }
        },
        "9e09de51f79c499cbed424499aa2c1ac": {
          "model_module": "@jupyter-widgets/base",
          "model_name": "LayoutModel",
          "model_module_version": "1.2.0",
          "state": {
            "_model_module": "@jupyter-widgets/base",
            "_model_module_version": "1.2.0",
            "_model_name": "LayoutModel",
            "_view_count": null,
            "_view_module": "@jupyter-widgets/base",
            "_view_module_version": "1.2.0",
            "_view_name": "LayoutView",
            "align_content": null,
            "align_items": null,
            "align_self": null,
            "border": null,
            "bottom": null,
            "display": null,
            "flex": null,
            "flex_flow": null,
            "grid_area": null,
            "grid_auto_columns": null,
            "grid_auto_flow": null,
            "grid_auto_rows": null,
            "grid_column": null,
            "grid_gap": null,
            "grid_row": null,
            "grid_template_areas": null,
            "grid_template_columns": null,
            "grid_template_rows": null,
            "height": null,
            "justify_content": null,
            "justify_items": null,
            "left": null,
            "margin": null,
            "max_height": null,
            "max_width": null,
            "min_height": null,
            "min_width": null,
            "object_fit": null,
            "object_position": null,
            "order": null,
            "overflow": null,
            "overflow_x": null,
            "overflow_y": null,
            "padding": null,
            "right": null,
            "top": null,
            "visibility": null,
            "width": null
          }
        },
        "fcbf99ea9ccf41d0bf62c1f1e69d1a55": {
          "model_module": "@jupyter-widgets/base",
          "model_name": "LayoutModel",
          "model_module_version": "1.2.0",
          "state": {
            "_model_module": "@jupyter-widgets/base",
            "_model_module_version": "1.2.0",
            "_model_name": "LayoutModel",
            "_view_count": null,
            "_view_module": "@jupyter-widgets/base",
            "_view_module_version": "1.2.0",
            "_view_name": "LayoutView",
            "align_content": null,
            "align_items": null,
            "align_self": null,
            "border": null,
            "bottom": null,
            "display": null,
            "flex": null,
            "flex_flow": null,
            "grid_area": null,
            "grid_auto_columns": null,
            "grid_auto_flow": null,
            "grid_auto_rows": null,
            "grid_column": null,
            "grid_gap": null,
            "grid_row": null,
            "grid_template_areas": null,
            "grid_template_columns": null,
            "grid_template_rows": null,
            "height": null,
            "justify_content": null,
            "justify_items": null,
            "left": null,
            "margin": null,
            "max_height": null,
            "max_width": null,
            "min_height": null,
            "min_width": null,
            "object_fit": null,
            "object_position": null,
            "order": null,
            "overflow": null,
            "overflow_x": null,
            "overflow_y": null,
            "padding": null,
            "right": null,
            "top": null,
            "visibility": null,
            "width": null
          }
        },
        "2b8bb4feda0142109941d126dc8ff39c": {
          "model_module": "@jupyter-widgets/controls",
          "model_name": "DescriptionStyleModel",
          "model_module_version": "1.5.0",
          "state": {
            "_model_module": "@jupyter-widgets/controls",
            "_model_module_version": "1.5.0",
            "_model_name": "DescriptionStyleModel",
            "_view_count": null,
            "_view_module": "@jupyter-widgets/base",
            "_view_module_version": "1.2.0",
            "_view_name": "StyleView",
            "description_width": ""
          }
        },
        "1dd86e7b845f4179a1afbce8b558a065": {
          "model_module": "@jupyter-widgets/base",
          "model_name": "LayoutModel",
          "model_module_version": "1.2.0",
          "state": {
            "_model_module": "@jupyter-widgets/base",
            "_model_module_version": "1.2.0",
            "_model_name": "LayoutModel",
            "_view_count": null,
            "_view_module": "@jupyter-widgets/base",
            "_view_module_version": "1.2.0",
            "_view_name": "LayoutView",
            "align_content": null,
            "align_items": null,
            "align_self": null,
            "border": null,
            "bottom": null,
            "display": null,
            "flex": null,
            "flex_flow": null,
            "grid_area": null,
            "grid_auto_columns": null,
            "grid_auto_flow": null,
            "grid_auto_rows": null,
            "grid_column": null,
            "grid_gap": null,
            "grid_row": null,
            "grid_template_areas": null,
            "grid_template_columns": null,
            "grid_template_rows": null,
            "height": null,
            "justify_content": null,
            "justify_items": null,
            "left": null,
            "margin": null,
            "max_height": null,
            "max_width": null,
            "min_height": null,
            "min_width": null,
            "object_fit": null,
            "object_position": null,
            "order": null,
            "overflow": null,
            "overflow_x": null,
            "overflow_y": null,
            "padding": null,
            "right": null,
            "top": null,
            "visibility": null,
            "width": null
          }
        },
        "07effe1fdad64e099f57be5806001c6a": {
          "model_module": "@jupyter-widgets/controls",
          "model_name": "ProgressStyleModel",
          "model_module_version": "1.5.0",
          "state": {
            "_model_module": "@jupyter-widgets/controls",
            "_model_module_version": "1.5.0",
            "_model_name": "ProgressStyleModel",
            "_view_count": null,
            "_view_module": "@jupyter-widgets/base",
            "_view_module_version": "1.2.0",
            "_view_name": "StyleView",
            "bar_color": null,
            "description_width": ""
          }
        },
        "a0976587c2db463ca31a6f4071527bf6": {
          "model_module": "@jupyter-widgets/controls",
          "model_name": "VBoxModel",
          "model_module_version": "1.5.0",
          "state": {
            "_dom_classes": [],
            "_model_module": "@jupyter-widgets/controls",
            "_model_module_version": "1.5.0",
            "_model_name": "VBoxModel",
            "_view_count": null,
            "_view_module": "@jupyter-widgets/controls",
            "_view_module_version": "1.5.0",
            "_view_name": "VBoxView",
            "box_style": "",
            "children": [
              "IPY_MODEL_7fb7425026b540418d1c10212a070326",
              "IPY_MODEL_e01f34c9ca6f4f0eb26c1459ab5ef083"
            ],
            "layout": "IPY_MODEL_3e5f532755b746c68a4666bc1fc3aa84"
          }
        },
        "7fb7425026b540418d1c10212a070326": {
          "model_module": "@jupyter-widgets/controls",
          "model_name": "LabelModel",
          "model_module_version": "1.5.0",
          "state": {
            "_dom_classes": [],
            "_model_module": "@jupyter-widgets/controls",
            "_model_module_version": "1.5.0",
            "_model_name": "LabelModel",
            "_view_count": null,
            "_view_module": "@jupyter-widgets/controls",
            "_view_module_version": "1.5.0",
            "_view_name": "LabelView",
            "description": "",
            "description_tooltip": null,
            "layout": "IPY_MODEL_c003c32ab4eb43fabe5e5374c5e5023a",
            "placeholder": "​",
            "style": "IPY_MODEL_6d17b71bc80e437aa178ae77d8ceba2c",
            "value": "0.011 MB of 0.011 MB uploaded\r"
          }
        },
        "e01f34c9ca6f4f0eb26c1459ab5ef083": {
          "model_module": "@jupyter-widgets/controls",
          "model_name": "FloatProgressModel",
          "model_module_version": "1.5.0",
          "state": {
            "_dom_classes": [],
            "_model_module": "@jupyter-widgets/controls",
            "_model_module_version": "1.5.0",
            "_model_name": "FloatProgressModel",
            "_view_count": null,
            "_view_module": "@jupyter-widgets/controls",
            "_view_module_version": "1.5.0",
            "_view_name": "ProgressView",
            "bar_style": "",
            "description": "",
            "description_tooltip": null,
            "layout": "IPY_MODEL_6af9fa0332804e069c8a1f54f6f844fd",
            "max": 1,
            "min": 0,
            "orientation": "horizontal",
            "style": "IPY_MODEL_ce4b64398b0e4c51b6b1a38b3cc4fff7",
            "value": 1
          }
        },
        "3e5f532755b746c68a4666bc1fc3aa84": {
          "model_module": "@jupyter-widgets/base",
          "model_name": "LayoutModel",
          "model_module_version": "1.2.0",
          "state": {
            "_model_module": "@jupyter-widgets/base",
            "_model_module_version": "1.2.0",
            "_model_name": "LayoutModel",
            "_view_count": null,
            "_view_module": "@jupyter-widgets/base",
            "_view_module_version": "1.2.0",
            "_view_name": "LayoutView",
            "align_content": null,
            "align_items": null,
            "align_self": null,
            "border": null,
            "bottom": null,
            "display": null,
            "flex": null,
            "flex_flow": null,
            "grid_area": null,
            "grid_auto_columns": null,
            "grid_auto_flow": null,
            "grid_auto_rows": null,
            "grid_column": null,
            "grid_gap": null,
            "grid_row": null,
            "grid_template_areas": null,
            "grid_template_columns": null,
            "grid_template_rows": null,
            "height": null,
            "justify_content": null,
            "justify_items": null,
            "left": null,
            "margin": null,
            "max_height": null,
            "max_width": null,
            "min_height": null,
            "min_width": null,
            "object_fit": null,
            "object_position": null,
            "order": null,
            "overflow": null,
            "overflow_x": null,
            "overflow_y": null,
            "padding": null,
            "right": null,
            "top": null,
            "visibility": null,
            "width": null
          }
        },
        "c003c32ab4eb43fabe5e5374c5e5023a": {
          "model_module": "@jupyter-widgets/base",
          "model_name": "LayoutModel",
          "model_module_version": "1.2.0",
          "state": {
            "_model_module": "@jupyter-widgets/base",
            "_model_module_version": "1.2.0",
            "_model_name": "LayoutModel",
            "_view_count": null,
            "_view_module": "@jupyter-widgets/base",
            "_view_module_version": "1.2.0",
            "_view_name": "LayoutView",
            "align_content": null,
            "align_items": null,
            "align_self": null,
            "border": null,
            "bottom": null,
            "display": null,
            "flex": null,
            "flex_flow": null,
            "grid_area": null,
            "grid_auto_columns": null,
            "grid_auto_flow": null,
            "grid_auto_rows": null,
            "grid_column": null,
            "grid_gap": null,
            "grid_row": null,
            "grid_template_areas": null,
            "grid_template_columns": null,
            "grid_template_rows": null,
            "height": null,
            "justify_content": null,
            "justify_items": null,
            "left": null,
            "margin": null,
            "max_height": null,
            "max_width": null,
            "min_height": null,
            "min_width": null,
            "object_fit": null,
            "object_position": null,
            "order": null,
            "overflow": null,
            "overflow_x": null,
            "overflow_y": null,
            "padding": null,
            "right": null,
            "top": null,
            "visibility": null,
            "width": null
          }
        },
        "6d17b71bc80e437aa178ae77d8ceba2c": {
          "model_module": "@jupyter-widgets/controls",
          "model_name": "DescriptionStyleModel",
          "model_module_version": "1.5.0",
          "state": {
            "_model_module": "@jupyter-widgets/controls",
            "_model_module_version": "1.5.0",
            "_model_name": "DescriptionStyleModel",
            "_view_count": null,
            "_view_module": "@jupyter-widgets/base",
            "_view_module_version": "1.2.0",
            "_view_name": "StyleView",
            "description_width": ""
          }
        },
        "6af9fa0332804e069c8a1f54f6f844fd": {
          "model_module": "@jupyter-widgets/base",
          "model_name": "LayoutModel",
          "model_module_version": "1.2.0",
          "state": {
            "_model_module": "@jupyter-widgets/base",
            "_model_module_version": "1.2.0",
            "_model_name": "LayoutModel",
            "_view_count": null,
            "_view_module": "@jupyter-widgets/base",
            "_view_module_version": "1.2.0",
            "_view_name": "LayoutView",
            "align_content": null,
            "align_items": null,
            "align_self": null,
            "border": null,
            "bottom": null,
            "display": null,
            "flex": null,
            "flex_flow": null,
            "grid_area": null,
            "grid_auto_columns": null,
            "grid_auto_flow": null,
            "grid_auto_rows": null,
            "grid_column": null,
            "grid_gap": null,
            "grid_row": null,
            "grid_template_areas": null,
            "grid_template_columns": null,
            "grid_template_rows": null,
            "height": null,
            "justify_content": null,
            "justify_items": null,
            "left": null,
            "margin": null,
            "max_height": null,
            "max_width": null,
            "min_height": null,
            "min_width": null,
            "object_fit": null,
            "object_position": null,
            "order": null,
            "overflow": null,
            "overflow_x": null,
            "overflow_y": null,
            "padding": null,
            "right": null,
            "top": null,
            "visibility": null,
            "width": null
          }
        },
        "ce4b64398b0e4c51b6b1a38b3cc4fff7": {
          "model_module": "@jupyter-widgets/controls",
          "model_name": "ProgressStyleModel",
          "model_module_version": "1.5.0",
          "state": {
            "_model_module": "@jupyter-widgets/controls",
            "_model_module_version": "1.5.0",
            "_model_name": "ProgressStyleModel",
            "_view_count": null,
            "_view_module": "@jupyter-widgets/base",
            "_view_module_version": "1.2.0",
            "_view_name": "StyleView",
            "bar_color": null,
            "description_width": ""
          }
        },
        "85d3b367abfe4f9b9be90769885510fd": {
          "model_module": "@jupyter-widgets/controls",
          "model_name": "VBoxModel",
          "model_module_version": "1.5.0",
          "state": {
            "_dom_classes": [],
            "_model_module": "@jupyter-widgets/controls",
            "_model_module_version": "1.5.0",
            "_model_name": "VBoxModel",
            "_view_count": null,
            "_view_module": "@jupyter-widgets/controls",
            "_view_module_version": "1.5.0",
            "_view_name": "VBoxView",
            "box_style": "",
            "children": [
              "IPY_MODEL_b71fe4fecaa048468c66a1133178d98a",
              "IPY_MODEL_c783d00ffa654059a75d30faa1ac839d"
            ],
            "layout": "IPY_MODEL_2d25e533d3624fc480bc0732dae4c33b"
          }
        },
        "b71fe4fecaa048468c66a1133178d98a": {
          "model_module": "@jupyter-widgets/controls",
          "model_name": "LabelModel",
          "model_module_version": "1.5.0",
          "state": {
            "_dom_classes": [],
            "_model_module": "@jupyter-widgets/controls",
            "_model_module_version": "1.5.0",
            "_model_name": "LabelModel",
            "_view_count": null,
            "_view_module": "@jupyter-widgets/controls",
            "_view_module_version": "1.5.0",
            "_view_name": "LabelView",
            "description": "",
            "description_tooltip": null,
            "layout": "IPY_MODEL_b4c8ff47a8814d8da9c79e683ebad4b1",
            "placeholder": "​",
            "style": "IPY_MODEL_2fcd518acda04b26accadf3a601331c3",
            "value": "0.012 MB of 0.012 MB uploaded\r"
          }
        },
        "c783d00ffa654059a75d30faa1ac839d": {
          "model_module": "@jupyter-widgets/controls",
          "model_name": "FloatProgressModel",
          "model_module_version": "1.5.0",
          "state": {
            "_dom_classes": [],
            "_model_module": "@jupyter-widgets/controls",
            "_model_module_version": "1.5.0",
            "_model_name": "FloatProgressModel",
            "_view_count": null,
            "_view_module": "@jupyter-widgets/controls",
            "_view_module_version": "1.5.0",
            "_view_name": "ProgressView",
            "bar_style": "",
            "description": "",
            "description_tooltip": null,
            "layout": "IPY_MODEL_03b034da526347a9abe4cbb3e6830295",
            "max": 1,
            "min": 0,
            "orientation": "horizontal",
            "style": "IPY_MODEL_e2041cf985d944f188d0178336c8013d",
            "value": 1
          }
        },
        "2d25e533d3624fc480bc0732dae4c33b": {
          "model_module": "@jupyter-widgets/base",
          "model_name": "LayoutModel",
          "model_module_version": "1.2.0",
          "state": {
            "_model_module": "@jupyter-widgets/base",
            "_model_module_version": "1.2.0",
            "_model_name": "LayoutModel",
            "_view_count": null,
            "_view_module": "@jupyter-widgets/base",
            "_view_module_version": "1.2.0",
            "_view_name": "LayoutView",
            "align_content": null,
            "align_items": null,
            "align_self": null,
            "border": null,
            "bottom": null,
            "display": null,
            "flex": null,
            "flex_flow": null,
            "grid_area": null,
            "grid_auto_columns": null,
            "grid_auto_flow": null,
            "grid_auto_rows": null,
            "grid_column": null,
            "grid_gap": null,
            "grid_row": null,
            "grid_template_areas": null,
            "grid_template_columns": null,
            "grid_template_rows": null,
            "height": null,
            "justify_content": null,
            "justify_items": null,
            "left": null,
            "margin": null,
            "max_height": null,
            "max_width": null,
            "min_height": null,
            "min_width": null,
            "object_fit": null,
            "object_position": null,
            "order": null,
            "overflow": null,
            "overflow_x": null,
            "overflow_y": null,
            "padding": null,
            "right": null,
            "top": null,
            "visibility": null,
            "width": null
          }
        },
        "b4c8ff47a8814d8da9c79e683ebad4b1": {
          "model_module": "@jupyter-widgets/base",
          "model_name": "LayoutModel",
          "model_module_version": "1.2.0",
          "state": {
            "_model_module": "@jupyter-widgets/base",
            "_model_module_version": "1.2.0",
            "_model_name": "LayoutModel",
            "_view_count": null,
            "_view_module": "@jupyter-widgets/base",
            "_view_module_version": "1.2.0",
            "_view_name": "LayoutView",
            "align_content": null,
            "align_items": null,
            "align_self": null,
            "border": null,
            "bottom": null,
            "display": null,
            "flex": null,
            "flex_flow": null,
            "grid_area": null,
            "grid_auto_columns": null,
            "grid_auto_flow": null,
            "grid_auto_rows": null,
            "grid_column": null,
            "grid_gap": null,
            "grid_row": null,
            "grid_template_areas": null,
            "grid_template_columns": null,
            "grid_template_rows": null,
            "height": null,
            "justify_content": null,
            "justify_items": null,
            "left": null,
            "margin": null,
            "max_height": null,
            "max_width": null,
            "min_height": null,
            "min_width": null,
            "object_fit": null,
            "object_position": null,
            "order": null,
            "overflow": null,
            "overflow_x": null,
            "overflow_y": null,
            "padding": null,
            "right": null,
            "top": null,
            "visibility": null,
            "width": null
          }
        },
        "2fcd518acda04b26accadf3a601331c3": {
          "model_module": "@jupyter-widgets/controls",
          "model_name": "DescriptionStyleModel",
          "model_module_version": "1.5.0",
          "state": {
            "_model_module": "@jupyter-widgets/controls",
            "_model_module_version": "1.5.0",
            "_model_name": "DescriptionStyleModel",
            "_view_count": null,
            "_view_module": "@jupyter-widgets/base",
            "_view_module_version": "1.2.0",
            "_view_name": "StyleView",
            "description_width": ""
          }
        },
        "03b034da526347a9abe4cbb3e6830295": {
          "model_module": "@jupyter-widgets/base",
          "model_name": "LayoutModel",
          "model_module_version": "1.2.0",
          "state": {
            "_model_module": "@jupyter-widgets/base",
            "_model_module_version": "1.2.0",
            "_model_name": "LayoutModel",
            "_view_count": null,
            "_view_module": "@jupyter-widgets/base",
            "_view_module_version": "1.2.0",
            "_view_name": "LayoutView",
            "align_content": null,
            "align_items": null,
            "align_self": null,
            "border": null,
            "bottom": null,
            "display": null,
            "flex": null,
            "flex_flow": null,
            "grid_area": null,
            "grid_auto_columns": null,
            "grid_auto_flow": null,
            "grid_auto_rows": null,
            "grid_column": null,
            "grid_gap": null,
            "grid_row": null,
            "grid_template_areas": null,
            "grid_template_columns": null,
            "grid_template_rows": null,
            "height": null,
            "justify_content": null,
            "justify_items": null,
            "left": null,
            "margin": null,
            "max_height": null,
            "max_width": null,
            "min_height": null,
            "min_width": null,
            "object_fit": null,
            "object_position": null,
            "order": null,
            "overflow": null,
            "overflow_x": null,
            "overflow_y": null,
            "padding": null,
            "right": null,
            "top": null,
            "visibility": null,
            "width": null
          }
        },
        "e2041cf985d944f188d0178336c8013d": {
          "model_module": "@jupyter-widgets/controls",
          "model_name": "ProgressStyleModel",
          "model_module_version": "1.5.0",
          "state": {
            "_model_module": "@jupyter-widgets/controls",
            "_model_module_version": "1.5.0",
            "_model_name": "ProgressStyleModel",
            "_view_count": null,
            "_view_module": "@jupyter-widgets/base",
            "_view_module_version": "1.2.0",
            "_view_name": "StyleView",
            "bar_color": null,
            "description_width": ""
          }
        },
        "414fb79851ba49a18c1b8521f7b3749b": {
          "model_module": "@jupyter-widgets/controls",
          "model_name": "VBoxModel",
          "model_module_version": "1.5.0",
          "state": {
            "_dom_classes": [],
            "_model_module": "@jupyter-widgets/controls",
            "_model_module_version": "1.5.0",
            "_model_name": "VBoxModel",
            "_view_count": null,
            "_view_module": "@jupyter-widgets/controls",
            "_view_module_version": "1.5.0",
            "_view_name": "VBoxView",
            "box_style": "",
            "children": [
              "IPY_MODEL_30c1b8fc85d949a58ad8e629f11b8c57",
              "IPY_MODEL_55302071e34f415aafc91af0fe939058"
            ],
            "layout": "IPY_MODEL_05b70a06547e4ae686d149c9b7ff2eba"
          }
        },
        "30c1b8fc85d949a58ad8e629f11b8c57": {
          "model_module": "@jupyter-widgets/controls",
          "model_name": "LabelModel",
          "model_module_version": "1.5.0",
          "state": {
            "_dom_classes": [],
            "_model_module": "@jupyter-widgets/controls",
            "_model_module_version": "1.5.0",
            "_model_name": "LabelModel",
            "_view_count": null,
            "_view_module": "@jupyter-widgets/controls",
            "_view_module_version": "1.5.0",
            "_view_name": "LabelView",
            "description": "",
            "description_tooltip": null,
            "layout": "IPY_MODEL_3d1e3d00b0e84a38aa53642ea4ac381b",
            "placeholder": "​",
            "style": "IPY_MODEL_75c8c8f1891c48c2b88f80ceb961556d",
            "value": "0.742 MB of 0.742 MB uploaded\r"
          }
        },
        "55302071e34f415aafc91af0fe939058": {
          "model_module": "@jupyter-widgets/controls",
          "model_name": "FloatProgressModel",
          "model_module_version": "1.5.0",
          "state": {
            "_dom_classes": [],
            "_model_module": "@jupyter-widgets/controls",
            "_model_module_version": "1.5.0",
            "_model_name": "FloatProgressModel",
            "_view_count": null,
            "_view_module": "@jupyter-widgets/controls",
            "_view_module_version": "1.5.0",
            "_view_name": "ProgressView",
            "bar_style": "",
            "description": "",
            "description_tooltip": null,
            "layout": "IPY_MODEL_ccad9df057df41f680305ef7bf27c0c9",
            "max": 1,
            "min": 0,
            "orientation": "horizontal",
            "style": "IPY_MODEL_dc9e9c90e3194c9eb69e56853dd48ba7",
            "value": 1
          }
        },
        "05b70a06547e4ae686d149c9b7ff2eba": {
          "model_module": "@jupyter-widgets/base",
          "model_name": "LayoutModel",
          "model_module_version": "1.2.0",
          "state": {
            "_model_module": "@jupyter-widgets/base",
            "_model_module_version": "1.2.0",
            "_model_name": "LayoutModel",
            "_view_count": null,
            "_view_module": "@jupyter-widgets/base",
            "_view_module_version": "1.2.0",
            "_view_name": "LayoutView",
            "align_content": null,
            "align_items": null,
            "align_self": null,
            "border": null,
            "bottom": null,
            "display": null,
            "flex": null,
            "flex_flow": null,
            "grid_area": null,
            "grid_auto_columns": null,
            "grid_auto_flow": null,
            "grid_auto_rows": null,
            "grid_column": null,
            "grid_gap": null,
            "grid_row": null,
            "grid_template_areas": null,
            "grid_template_columns": null,
            "grid_template_rows": null,
            "height": null,
            "justify_content": null,
            "justify_items": null,
            "left": null,
            "margin": null,
            "max_height": null,
            "max_width": null,
            "min_height": null,
            "min_width": null,
            "object_fit": null,
            "object_position": null,
            "order": null,
            "overflow": null,
            "overflow_x": null,
            "overflow_y": null,
            "padding": null,
            "right": null,
            "top": null,
            "visibility": null,
            "width": null
          }
        },
        "3d1e3d00b0e84a38aa53642ea4ac381b": {
          "model_module": "@jupyter-widgets/base",
          "model_name": "LayoutModel",
          "model_module_version": "1.2.0",
          "state": {
            "_model_module": "@jupyter-widgets/base",
            "_model_module_version": "1.2.0",
            "_model_name": "LayoutModel",
            "_view_count": null,
            "_view_module": "@jupyter-widgets/base",
            "_view_module_version": "1.2.0",
            "_view_name": "LayoutView",
            "align_content": null,
            "align_items": null,
            "align_self": null,
            "border": null,
            "bottom": null,
            "display": null,
            "flex": null,
            "flex_flow": null,
            "grid_area": null,
            "grid_auto_columns": null,
            "grid_auto_flow": null,
            "grid_auto_rows": null,
            "grid_column": null,
            "grid_gap": null,
            "grid_row": null,
            "grid_template_areas": null,
            "grid_template_columns": null,
            "grid_template_rows": null,
            "height": null,
            "justify_content": null,
            "justify_items": null,
            "left": null,
            "margin": null,
            "max_height": null,
            "max_width": null,
            "min_height": null,
            "min_width": null,
            "object_fit": null,
            "object_position": null,
            "order": null,
            "overflow": null,
            "overflow_x": null,
            "overflow_y": null,
            "padding": null,
            "right": null,
            "top": null,
            "visibility": null,
            "width": null
          }
        },
        "75c8c8f1891c48c2b88f80ceb961556d": {
          "model_module": "@jupyter-widgets/controls",
          "model_name": "DescriptionStyleModel",
          "model_module_version": "1.5.0",
          "state": {
            "_model_module": "@jupyter-widgets/controls",
            "_model_module_version": "1.5.0",
            "_model_name": "DescriptionStyleModel",
            "_view_count": null,
            "_view_module": "@jupyter-widgets/base",
            "_view_module_version": "1.2.0",
            "_view_name": "StyleView",
            "description_width": ""
          }
        },
        "ccad9df057df41f680305ef7bf27c0c9": {
          "model_module": "@jupyter-widgets/base",
          "model_name": "LayoutModel",
          "model_module_version": "1.2.0",
          "state": {
            "_model_module": "@jupyter-widgets/base",
            "_model_module_version": "1.2.0",
            "_model_name": "LayoutModel",
            "_view_count": null,
            "_view_module": "@jupyter-widgets/base",
            "_view_module_version": "1.2.0",
            "_view_name": "LayoutView",
            "align_content": null,
            "align_items": null,
            "align_self": null,
            "border": null,
            "bottom": null,
            "display": null,
            "flex": null,
            "flex_flow": null,
            "grid_area": null,
            "grid_auto_columns": null,
            "grid_auto_flow": null,
            "grid_auto_rows": null,
            "grid_column": null,
            "grid_gap": null,
            "grid_row": null,
            "grid_template_areas": null,
            "grid_template_columns": null,
            "grid_template_rows": null,
            "height": null,
            "justify_content": null,
            "justify_items": null,
            "left": null,
            "margin": null,
            "max_height": null,
            "max_width": null,
            "min_height": null,
            "min_width": null,
            "object_fit": null,
            "object_position": null,
            "order": null,
            "overflow": null,
            "overflow_x": null,
            "overflow_y": null,
            "padding": null,
            "right": null,
            "top": null,
            "visibility": null,
            "width": null
          }
        },
        "dc9e9c90e3194c9eb69e56853dd48ba7": {
          "model_module": "@jupyter-widgets/controls",
          "model_name": "ProgressStyleModel",
          "model_module_version": "1.5.0",
          "state": {
            "_model_module": "@jupyter-widgets/controls",
            "_model_module_version": "1.5.0",
            "_model_name": "ProgressStyleModel",
            "_view_count": null,
            "_view_module": "@jupyter-widgets/base",
            "_view_module_version": "1.2.0",
            "_view_name": "StyleView",
            "bar_color": null,
            "description_width": ""
          }
        },
        "8061bb7286774067883568d1b77ab479": {
          "model_module": "@jupyter-widgets/controls",
          "model_name": "VBoxModel",
          "model_module_version": "1.5.0",
          "state": {
            "_dom_classes": [],
            "_model_module": "@jupyter-widgets/controls",
            "_model_module_version": "1.5.0",
            "_model_name": "VBoxModel",
            "_view_count": null,
            "_view_module": "@jupyter-widgets/controls",
            "_view_module_version": "1.5.0",
            "_view_name": "VBoxView",
            "box_style": "",
            "children": [
              "IPY_MODEL_be87255d9cdb43af9e435396132b377b",
              "IPY_MODEL_7d6e490266c84ba4aaa2c349206e55e9"
            ],
            "layout": "IPY_MODEL_940284b7d9af404da5fc435486cc7692"
          }
        },
        "be87255d9cdb43af9e435396132b377b": {
          "model_module": "@jupyter-widgets/controls",
          "model_name": "LabelModel",
          "model_module_version": "1.5.0",
          "state": {
            "_dom_classes": [],
            "_model_module": "@jupyter-widgets/controls",
            "_model_module_version": "1.5.0",
            "_model_name": "LabelModel",
            "_view_count": null,
            "_view_module": "@jupyter-widgets/controls",
            "_view_module_version": "1.5.0",
            "_view_name": "LabelView",
            "description": "",
            "description_tooltip": null,
            "layout": "IPY_MODEL_ad55f459a670400baaa3ebd0697f3b94",
            "placeholder": "​",
            "style": "IPY_MODEL_b0ebf58daa7246eebe90f70c684bb908",
            "value": "2.752 MB of 2.752 MB uploaded (0.033 MB deduped)\r"
          }
        },
        "7d6e490266c84ba4aaa2c349206e55e9": {
          "model_module": "@jupyter-widgets/controls",
          "model_name": "FloatProgressModel",
          "model_module_version": "1.5.0",
          "state": {
            "_dom_classes": [],
            "_model_module": "@jupyter-widgets/controls",
            "_model_module_version": "1.5.0",
            "_model_name": "FloatProgressModel",
            "_view_count": null,
            "_view_module": "@jupyter-widgets/controls",
            "_view_module_version": "1.5.0",
            "_view_name": "ProgressView",
            "bar_style": "",
            "description": "",
            "description_tooltip": null,
            "layout": "IPY_MODEL_b677d5213ac141ea8d94eba5e8035b46",
            "max": 1,
            "min": 0,
            "orientation": "horizontal",
            "style": "IPY_MODEL_0f7e57ae56744a58b49788eae26ace9f",
            "value": 1
          }
        },
        "940284b7d9af404da5fc435486cc7692": {
          "model_module": "@jupyter-widgets/base",
          "model_name": "LayoutModel",
          "model_module_version": "1.2.0",
          "state": {
            "_model_module": "@jupyter-widgets/base",
            "_model_module_version": "1.2.0",
            "_model_name": "LayoutModel",
            "_view_count": null,
            "_view_module": "@jupyter-widgets/base",
            "_view_module_version": "1.2.0",
            "_view_name": "LayoutView",
            "align_content": null,
            "align_items": null,
            "align_self": null,
            "border": null,
            "bottom": null,
            "display": null,
            "flex": null,
            "flex_flow": null,
            "grid_area": null,
            "grid_auto_columns": null,
            "grid_auto_flow": null,
            "grid_auto_rows": null,
            "grid_column": null,
            "grid_gap": null,
            "grid_row": null,
            "grid_template_areas": null,
            "grid_template_columns": null,
            "grid_template_rows": null,
            "height": null,
            "justify_content": null,
            "justify_items": null,
            "left": null,
            "margin": null,
            "max_height": null,
            "max_width": null,
            "min_height": null,
            "min_width": null,
            "object_fit": null,
            "object_position": null,
            "order": null,
            "overflow": null,
            "overflow_x": null,
            "overflow_y": null,
            "padding": null,
            "right": null,
            "top": null,
            "visibility": null,
            "width": null
          }
        },
        "ad55f459a670400baaa3ebd0697f3b94": {
          "model_module": "@jupyter-widgets/base",
          "model_name": "LayoutModel",
          "model_module_version": "1.2.0",
          "state": {
            "_model_module": "@jupyter-widgets/base",
            "_model_module_version": "1.2.0",
            "_model_name": "LayoutModel",
            "_view_count": null,
            "_view_module": "@jupyter-widgets/base",
            "_view_module_version": "1.2.0",
            "_view_name": "LayoutView",
            "align_content": null,
            "align_items": null,
            "align_self": null,
            "border": null,
            "bottom": null,
            "display": null,
            "flex": null,
            "flex_flow": null,
            "grid_area": null,
            "grid_auto_columns": null,
            "grid_auto_flow": null,
            "grid_auto_rows": null,
            "grid_column": null,
            "grid_gap": null,
            "grid_row": null,
            "grid_template_areas": null,
            "grid_template_columns": null,
            "grid_template_rows": null,
            "height": null,
            "justify_content": null,
            "justify_items": null,
            "left": null,
            "margin": null,
            "max_height": null,
            "max_width": null,
            "min_height": null,
            "min_width": null,
            "object_fit": null,
            "object_position": null,
            "order": null,
            "overflow": null,
            "overflow_x": null,
            "overflow_y": null,
            "padding": null,
            "right": null,
            "top": null,
            "visibility": null,
            "width": null
          }
        },
        "b0ebf58daa7246eebe90f70c684bb908": {
          "model_module": "@jupyter-widgets/controls",
          "model_name": "DescriptionStyleModel",
          "model_module_version": "1.5.0",
          "state": {
            "_model_module": "@jupyter-widgets/controls",
            "_model_module_version": "1.5.0",
            "_model_name": "DescriptionStyleModel",
            "_view_count": null,
            "_view_module": "@jupyter-widgets/base",
            "_view_module_version": "1.2.0",
            "_view_name": "StyleView",
            "description_width": ""
          }
        },
        "b677d5213ac141ea8d94eba5e8035b46": {
          "model_module": "@jupyter-widgets/base",
          "model_name": "LayoutModel",
          "model_module_version": "1.2.0",
          "state": {
            "_model_module": "@jupyter-widgets/base",
            "_model_module_version": "1.2.0",
            "_model_name": "LayoutModel",
            "_view_count": null,
            "_view_module": "@jupyter-widgets/base",
            "_view_module_version": "1.2.0",
            "_view_name": "LayoutView",
            "align_content": null,
            "align_items": null,
            "align_self": null,
            "border": null,
            "bottom": null,
            "display": null,
            "flex": null,
            "flex_flow": null,
            "grid_area": null,
            "grid_auto_columns": null,
            "grid_auto_flow": null,
            "grid_auto_rows": null,
            "grid_column": null,
            "grid_gap": null,
            "grid_row": null,
            "grid_template_areas": null,
            "grid_template_columns": null,
            "grid_template_rows": null,
            "height": null,
            "justify_content": null,
            "justify_items": null,
            "left": null,
            "margin": null,
            "max_height": null,
            "max_width": null,
            "min_height": null,
            "min_width": null,
            "object_fit": null,
            "object_position": null,
            "order": null,
            "overflow": null,
            "overflow_x": null,
            "overflow_y": null,
            "padding": null,
            "right": null,
            "top": null,
            "visibility": null,
            "width": null
          }
        },
        "0f7e57ae56744a58b49788eae26ace9f": {
          "model_module": "@jupyter-widgets/controls",
          "model_name": "ProgressStyleModel",
          "model_module_version": "1.5.0",
          "state": {
            "_model_module": "@jupyter-widgets/controls",
            "_model_module_version": "1.5.0",
            "_model_name": "ProgressStyleModel",
            "_view_count": null,
            "_view_module": "@jupyter-widgets/base",
            "_view_module_version": "1.2.0",
            "_view_name": "StyleView",
            "bar_color": null,
            "description_width": ""
          }
        },
        "a32f18562b244b5c890353c945924e9c": {
          "model_module": "@jupyter-widgets/controls",
          "model_name": "VBoxModel",
          "model_module_version": "1.5.0",
          "state": {
            "_dom_classes": [],
            "_model_module": "@jupyter-widgets/controls",
            "_model_module_version": "1.5.0",
            "_model_name": "VBoxModel",
            "_view_count": null,
            "_view_module": "@jupyter-widgets/controls",
            "_view_module_version": "1.5.0",
            "_view_name": "VBoxView",
            "box_style": "",
            "children": [
              "IPY_MODEL_b612d91c0f75410eb304f05627c6b7e6",
              "IPY_MODEL_45efdbb9a46741bd97e7be15a82db472"
            ],
            "layout": "IPY_MODEL_cf726f49e6614a2d9d2ecbdb0269d5c4"
          }
        },
        "b612d91c0f75410eb304f05627c6b7e6": {
          "model_module": "@jupyter-widgets/controls",
          "model_name": "LabelModel",
          "model_module_version": "1.5.0",
          "state": {
            "_dom_classes": [],
            "_model_module": "@jupyter-widgets/controls",
            "_model_module_version": "1.5.0",
            "_model_name": "LabelModel",
            "_view_count": null,
            "_view_module": "@jupyter-widgets/controls",
            "_view_module_version": "1.5.0",
            "_view_name": "LabelView",
            "description": "",
            "description_tooltip": null,
            "layout": "IPY_MODEL_b9b0b53c994a42ec8e3b3e6d7ee9d271",
            "placeholder": "​",
            "style": "IPY_MODEL_16220597fb0545b2ad73074964494e9c",
            "value": "2.752 MB of 2.752 MB uploaded (0.033 MB deduped)\r"
          }
        },
        "45efdbb9a46741bd97e7be15a82db472": {
          "model_module": "@jupyter-widgets/controls",
          "model_name": "FloatProgressModel",
          "model_module_version": "1.5.0",
          "state": {
            "_dom_classes": [],
            "_model_module": "@jupyter-widgets/controls",
            "_model_module_version": "1.5.0",
            "_model_name": "FloatProgressModel",
            "_view_count": null,
            "_view_module": "@jupyter-widgets/controls",
            "_view_module_version": "1.5.0",
            "_view_name": "ProgressView",
            "bar_style": "",
            "description": "",
            "description_tooltip": null,
            "layout": "IPY_MODEL_a8745235e6194677adbb4089e2808f6f",
            "max": 1,
            "min": 0,
            "orientation": "horizontal",
            "style": "IPY_MODEL_e5201a5c3cfb42118cc0eb102600392b",
            "value": 1
          }
        },
        "cf726f49e6614a2d9d2ecbdb0269d5c4": {
          "model_module": "@jupyter-widgets/base",
          "model_name": "LayoutModel",
          "model_module_version": "1.2.0",
          "state": {
            "_model_module": "@jupyter-widgets/base",
            "_model_module_version": "1.2.0",
            "_model_name": "LayoutModel",
            "_view_count": null,
            "_view_module": "@jupyter-widgets/base",
            "_view_module_version": "1.2.0",
            "_view_name": "LayoutView",
            "align_content": null,
            "align_items": null,
            "align_self": null,
            "border": null,
            "bottom": null,
            "display": null,
            "flex": null,
            "flex_flow": null,
            "grid_area": null,
            "grid_auto_columns": null,
            "grid_auto_flow": null,
            "grid_auto_rows": null,
            "grid_column": null,
            "grid_gap": null,
            "grid_row": null,
            "grid_template_areas": null,
            "grid_template_columns": null,
            "grid_template_rows": null,
            "height": null,
            "justify_content": null,
            "justify_items": null,
            "left": null,
            "margin": null,
            "max_height": null,
            "max_width": null,
            "min_height": null,
            "min_width": null,
            "object_fit": null,
            "object_position": null,
            "order": null,
            "overflow": null,
            "overflow_x": null,
            "overflow_y": null,
            "padding": null,
            "right": null,
            "top": null,
            "visibility": null,
            "width": null
          }
        },
        "b9b0b53c994a42ec8e3b3e6d7ee9d271": {
          "model_module": "@jupyter-widgets/base",
          "model_name": "LayoutModel",
          "model_module_version": "1.2.0",
          "state": {
            "_model_module": "@jupyter-widgets/base",
            "_model_module_version": "1.2.0",
            "_model_name": "LayoutModel",
            "_view_count": null,
            "_view_module": "@jupyter-widgets/base",
            "_view_module_version": "1.2.0",
            "_view_name": "LayoutView",
            "align_content": null,
            "align_items": null,
            "align_self": null,
            "border": null,
            "bottom": null,
            "display": null,
            "flex": null,
            "flex_flow": null,
            "grid_area": null,
            "grid_auto_columns": null,
            "grid_auto_flow": null,
            "grid_auto_rows": null,
            "grid_column": null,
            "grid_gap": null,
            "grid_row": null,
            "grid_template_areas": null,
            "grid_template_columns": null,
            "grid_template_rows": null,
            "height": null,
            "justify_content": null,
            "justify_items": null,
            "left": null,
            "margin": null,
            "max_height": null,
            "max_width": null,
            "min_height": null,
            "min_width": null,
            "object_fit": null,
            "object_position": null,
            "order": null,
            "overflow": null,
            "overflow_x": null,
            "overflow_y": null,
            "padding": null,
            "right": null,
            "top": null,
            "visibility": null,
            "width": null
          }
        },
        "16220597fb0545b2ad73074964494e9c": {
          "model_module": "@jupyter-widgets/controls",
          "model_name": "DescriptionStyleModel",
          "model_module_version": "1.5.0",
          "state": {
            "_model_module": "@jupyter-widgets/controls",
            "_model_module_version": "1.5.0",
            "_model_name": "DescriptionStyleModel",
            "_view_count": null,
            "_view_module": "@jupyter-widgets/base",
            "_view_module_version": "1.2.0",
            "_view_name": "StyleView",
            "description_width": ""
          }
        },
        "a8745235e6194677adbb4089e2808f6f": {
          "model_module": "@jupyter-widgets/base",
          "model_name": "LayoutModel",
          "model_module_version": "1.2.0",
          "state": {
            "_model_module": "@jupyter-widgets/base",
            "_model_module_version": "1.2.0",
            "_model_name": "LayoutModel",
            "_view_count": null,
            "_view_module": "@jupyter-widgets/base",
            "_view_module_version": "1.2.0",
            "_view_name": "LayoutView",
            "align_content": null,
            "align_items": null,
            "align_self": null,
            "border": null,
            "bottom": null,
            "display": null,
            "flex": null,
            "flex_flow": null,
            "grid_area": null,
            "grid_auto_columns": null,
            "grid_auto_flow": null,
            "grid_auto_rows": null,
            "grid_column": null,
            "grid_gap": null,
            "grid_row": null,
            "grid_template_areas": null,
            "grid_template_columns": null,
            "grid_template_rows": null,
            "height": null,
            "justify_content": null,
            "justify_items": null,
            "left": null,
            "margin": null,
            "max_height": null,
            "max_width": null,
            "min_height": null,
            "min_width": null,
            "object_fit": null,
            "object_position": null,
            "order": null,
            "overflow": null,
            "overflow_x": null,
            "overflow_y": null,
            "padding": null,
            "right": null,
            "top": null,
            "visibility": null,
            "width": null
          }
        },
        "e5201a5c3cfb42118cc0eb102600392b": {
          "model_module": "@jupyter-widgets/controls",
          "model_name": "ProgressStyleModel",
          "model_module_version": "1.5.0",
          "state": {
            "_model_module": "@jupyter-widgets/controls",
            "_model_module_version": "1.5.0",
            "_model_name": "ProgressStyleModel",
            "_view_count": null,
            "_view_module": "@jupyter-widgets/base",
            "_view_module_version": "1.2.0",
            "_view_name": "StyleView",
            "bar_color": null,
            "description_width": ""
          }
        },
        "ee37b27f4ccf4c46bec87a53b3f6d0f4": {
          "model_module": "@jupyter-widgets/controls",
          "model_name": "VBoxModel",
          "model_module_version": "1.5.0",
          "state": {
            "_dom_classes": [],
            "_model_module": "@jupyter-widgets/controls",
            "_model_module_version": "1.5.0",
            "_model_name": "VBoxModel",
            "_view_count": null,
            "_view_module": "@jupyter-widgets/controls",
            "_view_module_version": "1.5.0",
            "_view_name": "VBoxView",
            "box_style": "",
            "children": [
              "IPY_MODEL_4e4b7eed38c24343b68ea21046d3648c",
              "IPY_MODEL_b0c3e4e4681b445a94f46f5884495fe8"
            ],
            "layout": "IPY_MODEL_c95856083343478195181f887932f57a"
          }
        },
        "4e4b7eed38c24343b68ea21046d3648c": {
          "model_module": "@jupyter-widgets/controls",
          "model_name": "LabelModel",
          "model_module_version": "1.5.0",
          "state": {
            "_dom_classes": [],
            "_model_module": "@jupyter-widgets/controls",
            "_model_module_version": "1.5.0",
            "_model_name": "LabelModel",
            "_view_count": null,
            "_view_module": "@jupyter-widgets/controls",
            "_view_module_version": "1.5.0",
            "_view_name": "LabelView",
            "description": "",
            "description_tooltip": null,
            "layout": "IPY_MODEL_7d9bf9132c6e447a8706b6941831d94b",
            "placeholder": "​",
            "style": "IPY_MODEL_35ad6de122b84db28e82d64c11a7d97c",
            "value": "2.250 MB of 2.250 MB uploaded (0.024 MB deduped)\r"
          }
        },
        "b0c3e4e4681b445a94f46f5884495fe8": {
          "model_module": "@jupyter-widgets/controls",
          "model_name": "FloatProgressModel",
          "model_module_version": "1.5.0",
          "state": {
            "_dom_classes": [],
            "_model_module": "@jupyter-widgets/controls",
            "_model_module_version": "1.5.0",
            "_model_name": "FloatProgressModel",
            "_view_count": null,
            "_view_module": "@jupyter-widgets/controls",
            "_view_module_version": "1.5.0",
            "_view_name": "ProgressView",
            "bar_style": "",
            "description": "",
            "description_tooltip": null,
            "layout": "IPY_MODEL_4c01f84cff39408b922aa8356d303a47",
            "max": 1,
            "min": 0,
            "orientation": "horizontal",
            "style": "IPY_MODEL_a917ebbc8c2f4a1cbf14818d436fe29c",
            "value": 1
          }
        },
        "c95856083343478195181f887932f57a": {
          "model_module": "@jupyter-widgets/base",
          "model_name": "LayoutModel",
          "model_module_version": "1.2.0",
          "state": {
            "_model_module": "@jupyter-widgets/base",
            "_model_module_version": "1.2.0",
            "_model_name": "LayoutModel",
            "_view_count": null,
            "_view_module": "@jupyter-widgets/base",
            "_view_module_version": "1.2.0",
            "_view_name": "LayoutView",
            "align_content": null,
            "align_items": null,
            "align_self": null,
            "border": null,
            "bottom": null,
            "display": null,
            "flex": null,
            "flex_flow": null,
            "grid_area": null,
            "grid_auto_columns": null,
            "grid_auto_flow": null,
            "grid_auto_rows": null,
            "grid_column": null,
            "grid_gap": null,
            "grid_row": null,
            "grid_template_areas": null,
            "grid_template_columns": null,
            "grid_template_rows": null,
            "height": null,
            "justify_content": null,
            "justify_items": null,
            "left": null,
            "margin": null,
            "max_height": null,
            "max_width": null,
            "min_height": null,
            "min_width": null,
            "object_fit": null,
            "object_position": null,
            "order": null,
            "overflow": null,
            "overflow_x": null,
            "overflow_y": null,
            "padding": null,
            "right": null,
            "top": null,
            "visibility": null,
            "width": null
          }
        },
        "7d9bf9132c6e447a8706b6941831d94b": {
          "model_module": "@jupyter-widgets/base",
          "model_name": "LayoutModel",
          "model_module_version": "1.2.0",
          "state": {
            "_model_module": "@jupyter-widgets/base",
            "_model_module_version": "1.2.0",
            "_model_name": "LayoutModel",
            "_view_count": null,
            "_view_module": "@jupyter-widgets/base",
            "_view_module_version": "1.2.0",
            "_view_name": "LayoutView",
            "align_content": null,
            "align_items": null,
            "align_self": null,
            "border": null,
            "bottom": null,
            "display": null,
            "flex": null,
            "flex_flow": null,
            "grid_area": null,
            "grid_auto_columns": null,
            "grid_auto_flow": null,
            "grid_auto_rows": null,
            "grid_column": null,
            "grid_gap": null,
            "grid_row": null,
            "grid_template_areas": null,
            "grid_template_columns": null,
            "grid_template_rows": null,
            "height": null,
            "justify_content": null,
            "justify_items": null,
            "left": null,
            "margin": null,
            "max_height": null,
            "max_width": null,
            "min_height": null,
            "min_width": null,
            "object_fit": null,
            "object_position": null,
            "order": null,
            "overflow": null,
            "overflow_x": null,
            "overflow_y": null,
            "padding": null,
            "right": null,
            "top": null,
            "visibility": null,
            "width": null
          }
        },
        "35ad6de122b84db28e82d64c11a7d97c": {
          "model_module": "@jupyter-widgets/controls",
          "model_name": "DescriptionStyleModel",
          "model_module_version": "1.5.0",
          "state": {
            "_model_module": "@jupyter-widgets/controls",
            "_model_module_version": "1.5.0",
            "_model_name": "DescriptionStyleModel",
            "_view_count": null,
            "_view_module": "@jupyter-widgets/base",
            "_view_module_version": "1.2.0",
            "_view_name": "StyleView",
            "description_width": ""
          }
        },
        "4c01f84cff39408b922aa8356d303a47": {
          "model_module": "@jupyter-widgets/base",
          "model_name": "LayoutModel",
          "model_module_version": "1.2.0",
          "state": {
            "_model_module": "@jupyter-widgets/base",
            "_model_module_version": "1.2.0",
            "_model_name": "LayoutModel",
            "_view_count": null,
            "_view_module": "@jupyter-widgets/base",
            "_view_module_version": "1.2.0",
            "_view_name": "LayoutView",
            "align_content": null,
            "align_items": null,
            "align_self": null,
            "border": null,
            "bottom": null,
            "display": null,
            "flex": null,
            "flex_flow": null,
            "grid_area": null,
            "grid_auto_columns": null,
            "grid_auto_flow": null,
            "grid_auto_rows": null,
            "grid_column": null,
            "grid_gap": null,
            "grid_row": null,
            "grid_template_areas": null,
            "grid_template_columns": null,
            "grid_template_rows": null,
            "height": null,
            "justify_content": null,
            "justify_items": null,
            "left": null,
            "margin": null,
            "max_height": null,
            "max_width": null,
            "min_height": null,
            "min_width": null,
            "object_fit": null,
            "object_position": null,
            "order": null,
            "overflow": null,
            "overflow_x": null,
            "overflow_y": null,
            "padding": null,
            "right": null,
            "top": null,
            "visibility": null,
            "width": null
          }
        },
        "a917ebbc8c2f4a1cbf14818d436fe29c": {
          "model_module": "@jupyter-widgets/controls",
          "model_name": "ProgressStyleModel",
          "model_module_version": "1.5.0",
          "state": {
            "_model_module": "@jupyter-widgets/controls",
            "_model_module_version": "1.5.0",
            "_model_name": "ProgressStyleModel",
            "_view_count": null,
            "_view_module": "@jupyter-widgets/base",
            "_view_module_version": "1.2.0",
            "_view_name": "StyleView",
            "bar_color": null,
            "description_width": ""
          }
        },
        "bf31a4e792d147f89ded6b3f83e8cb49": {
          "model_module": "@jupyter-widgets/controls",
          "model_name": "VBoxModel",
          "model_module_version": "1.5.0",
          "state": {
            "_dom_classes": [],
            "_model_module": "@jupyter-widgets/controls",
            "_model_module_version": "1.5.0",
            "_model_name": "VBoxModel",
            "_view_count": null,
            "_view_module": "@jupyter-widgets/controls",
            "_view_module_version": "1.5.0",
            "_view_name": "VBoxView",
            "box_style": "",
            "children": [
              "IPY_MODEL_716b1e21589d4411b3bce7c7c11f548f",
              "IPY_MODEL_81a93b3401de4abaa865535f3c5cef62"
            ],
            "layout": "IPY_MODEL_b05edfe63b304d77a57fdef86d32eeef"
          }
        },
        "716b1e21589d4411b3bce7c7c11f548f": {
          "model_module": "@jupyter-widgets/controls",
          "model_name": "LabelModel",
          "model_module_version": "1.5.0",
          "state": {
            "_dom_classes": [],
            "_model_module": "@jupyter-widgets/controls",
            "_model_module_version": "1.5.0",
            "_model_name": "LabelModel",
            "_view_count": null,
            "_view_module": "@jupyter-widgets/controls",
            "_view_module_version": "1.5.0",
            "_view_name": "LabelView",
            "description": "",
            "description_tooltip": null,
            "layout": "IPY_MODEL_a445ea80809342c8915d8a93553c157e",
            "placeholder": "​",
            "style": "IPY_MODEL_716a0b8b1d9e467e81bdbb7e20070251",
            "value": "2.250 MB of 2.250 MB uploaded (0.024 MB deduped)\r"
          }
        },
        "81a93b3401de4abaa865535f3c5cef62": {
          "model_module": "@jupyter-widgets/controls",
          "model_name": "FloatProgressModel",
          "model_module_version": "1.5.0",
          "state": {
            "_dom_classes": [],
            "_model_module": "@jupyter-widgets/controls",
            "_model_module_version": "1.5.0",
            "_model_name": "FloatProgressModel",
            "_view_count": null,
            "_view_module": "@jupyter-widgets/controls",
            "_view_module_version": "1.5.0",
            "_view_name": "ProgressView",
            "bar_style": "",
            "description": "",
            "description_tooltip": null,
            "layout": "IPY_MODEL_911391c81faa4b52b301ac1c1f6d6582",
            "max": 1,
            "min": 0,
            "orientation": "horizontal",
            "style": "IPY_MODEL_c8ac8b18dcd14569b84ad56576a3cacf",
            "value": 1
          }
        },
        "b05edfe63b304d77a57fdef86d32eeef": {
          "model_module": "@jupyter-widgets/base",
          "model_name": "LayoutModel",
          "model_module_version": "1.2.0",
          "state": {
            "_model_module": "@jupyter-widgets/base",
            "_model_module_version": "1.2.0",
            "_model_name": "LayoutModel",
            "_view_count": null,
            "_view_module": "@jupyter-widgets/base",
            "_view_module_version": "1.2.0",
            "_view_name": "LayoutView",
            "align_content": null,
            "align_items": null,
            "align_self": null,
            "border": null,
            "bottom": null,
            "display": null,
            "flex": null,
            "flex_flow": null,
            "grid_area": null,
            "grid_auto_columns": null,
            "grid_auto_flow": null,
            "grid_auto_rows": null,
            "grid_column": null,
            "grid_gap": null,
            "grid_row": null,
            "grid_template_areas": null,
            "grid_template_columns": null,
            "grid_template_rows": null,
            "height": null,
            "justify_content": null,
            "justify_items": null,
            "left": null,
            "margin": null,
            "max_height": null,
            "max_width": null,
            "min_height": null,
            "min_width": null,
            "object_fit": null,
            "object_position": null,
            "order": null,
            "overflow": null,
            "overflow_x": null,
            "overflow_y": null,
            "padding": null,
            "right": null,
            "top": null,
            "visibility": null,
            "width": null
          }
        },
        "a445ea80809342c8915d8a93553c157e": {
          "model_module": "@jupyter-widgets/base",
          "model_name": "LayoutModel",
          "model_module_version": "1.2.0",
          "state": {
            "_model_module": "@jupyter-widgets/base",
            "_model_module_version": "1.2.0",
            "_model_name": "LayoutModel",
            "_view_count": null,
            "_view_module": "@jupyter-widgets/base",
            "_view_module_version": "1.2.0",
            "_view_name": "LayoutView",
            "align_content": null,
            "align_items": null,
            "align_self": null,
            "border": null,
            "bottom": null,
            "display": null,
            "flex": null,
            "flex_flow": null,
            "grid_area": null,
            "grid_auto_columns": null,
            "grid_auto_flow": null,
            "grid_auto_rows": null,
            "grid_column": null,
            "grid_gap": null,
            "grid_row": null,
            "grid_template_areas": null,
            "grid_template_columns": null,
            "grid_template_rows": null,
            "height": null,
            "justify_content": null,
            "justify_items": null,
            "left": null,
            "margin": null,
            "max_height": null,
            "max_width": null,
            "min_height": null,
            "min_width": null,
            "object_fit": null,
            "object_position": null,
            "order": null,
            "overflow": null,
            "overflow_x": null,
            "overflow_y": null,
            "padding": null,
            "right": null,
            "top": null,
            "visibility": null,
            "width": null
          }
        },
        "716a0b8b1d9e467e81bdbb7e20070251": {
          "model_module": "@jupyter-widgets/controls",
          "model_name": "DescriptionStyleModel",
          "model_module_version": "1.5.0",
          "state": {
            "_model_module": "@jupyter-widgets/controls",
            "_model_module_version": "1.5.0",
            "_model_name": "DescriptionStyleModel",
            "_view_count": null,
            "_view_module": "@jupyter-widgets/base",
            "_view_module_version": "1.2.0",
            "_view_name": "StyleView",
            "description_width": ""
          }
        },
        "911391c81faa4b52b301ac1c1f6d6582": {
          "model_module": "@jupyter-widgets/base",
          "model_name": "LayoutModel",
          "model_module_version": "1.2.0",
          "state": {
            "_model_module": "@jupyter-widgets/base",
            "_model_module_version": "1.2.0",
            "_model_name": "LayoutModel",
            "_view_count": null,
            "_view_module": "@jupyter-widgets/base",
            "_view_module_version": "1.2.0",
            "_view_name": "LayoutView",
            "align_content": null,
            "align_items": null,
            "align_self": null,
            "border": null,
            "bottom": null,
            "display": null,
            "flex": null,
            "flex_flow": null,
            "grid_area": null,
            "grid_auto_columns": null,
            "grid_auto_flow": null,
            "grid_auto_rows": null,
            "grid_column": null,
            "grid_gap": null,
            "grid_row": null,
            "grid_template_areas": null,
            "grid_template_columns": null,
            "grid_template_rows": null,
            "height": null,
            "justify_content": null,
            "justify_items": null,
            "left": null,
            "margin": null,
            "max_height": null,
            "max_width": null,
            "min_height": null,
            "min_width": null,
            "object_fit": null,
            "object_position": null,
            "order": null,
            "overflow": null,
            "overflow_x": null,
            "overflow_y": null,
            "padding": null,
            "right": null,
            "top": null,
            "visibility": null,
            "width": null
          }
        },
        "c8ac8b18dcd14569b84ad56576a3cacf": {
          "model_module": "@jupyter-widgets/controls",
          "model_name": "ProgressStyleModel",
          "model_module_version": "1.5.0",
          "state": {
            "_model_module": "@jupyter-widgets/controls",
            "_model_module_version": "1.5.0",
            "_model_name": "ProgressStyleModel",
            "_view_count": null,
            "_view_module": "@jupyter-widgets/base",
            "_view_module_version": "1.2.0",
            "_view_name": "StyleView",
            "bar_color": null,
            "description_width": ""
          }
        }
      }
    }
  },
  "nbformat": 4,
  "nbformat_minor": 0
}
